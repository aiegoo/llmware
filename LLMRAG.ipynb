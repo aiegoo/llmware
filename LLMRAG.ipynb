{
  "nbformat": 4,
  "nbformat_minor": 0,
  "metadata": {
    "colab": {
      "provenance": [],
      "include_colab_link": true
    },
    "kernelspec": {
      "name": "python3",
      "display_name": "Python 3"
    },
    "language_info": {
      "name": "python"
    }
  },
  "cells": [
    {
      "cell_type": "markdown",
      "metadata": {
        "id": "view-in-github",
        "colab_type": "text"
      },
      "source": [
        "<a href=\"https://colab.research.google.com/github/aiegoo/llmware/blob/tony/LLMRAG.ipynb\" target=\"_parent\"><img src=\"https://colab.research.google.com/assets/colab-badge.svg\" alt=\"Open In Colab\"/></a>"
      ]
    },
    {
      "cell_type": "markdown",
      "source": [
        "RAG adventure"
      ],
      "metadata": {
        "id": "Btd1xf1ABXNd"
      }
    },
    {
      "cell_type": "code",
      "source": [
        "from typing import List\n",
        "import nest_asyncio\n",
        "import tempfile\n",
        "import streamlit as st\n",
        "import pytesseract\n",
        "from PIL import Image\n",
        "from llama_index.embeddings.huggingface import HuggingFaceEmbedding\n",
        "from llama_index.core import StorageContext, SimpleDirectoryReader, VectorStoreIndex, Settings\n",
        "from llama_index.vector_stores.chroma import ChromaVectorStore\n",
        "from llama_index.core.storage.docstore import SimpleDocumentStore\n"
      ],
      "metadata": {
        "id": "fdvplmy_9Fku"
      },
      "execution_count": null,
      "outputs": []
    },
    {
      "cell_type": "code",
      "source": [
        "def init_llm():\n",
        "    # llm\n",
        "    embed_model = HuggingFaceEmbedding(model_name=\"BAAI/bge-small-en-v1.5\")\n",
        "\n",
        "    # Settings.llm = llm\n",
        "    Settings.embed_model = embed_model"
      ],
      "metadata": {
        "id": "AuHYsvJUVNoo"
      },
      "execution_count": null,
      "outputs": []
    },
    {
      "cell_type": "code",
      "source": [
        "def store_document(uploaded_file):\n",
        "    \"\"\"Chunk the PDF & store it in Chromadb Vector Store.\"\"\"\n",
        "    if uploaded_file is not None:\n",
        "        temp_dir = tempfile.TemporaryDirectory()\n",
        "        temp_file_path = os.path.join(temp_dir.name, uploaded_file.name)\n",
        "\n",
        "        with open(temp_file_path, \"wb\") as f:\n",
        "            f.write(uploaded_file.getvalue())\n",
        "\n",
        "        loader = SimpleDirectoryReader(input_files=[temp_file_path])\n",
        "        documents = loader.load_data()\n",
        "\n",
        "        # save to disk\n",
        "\n",
        "        db = chromadb.PersistentClient(path=\"./chroma_db\")\n",
        "        chroma_collection = db.get_or_create_collection(\"quickstart\")\n",
        "        vector_store = ChromaVectorStore(chroma_collection=chroma_collection)\n",
        "        storage_context = StorageContext.from_defaults(vector_store=vector_store)\n",
        "\n",
        "        index = VectorStoreIndex.from_documents(\n",
        "            documents, storage_context=storage_context, embed_model=embed_model\n",
        "        )\n",
        "\n",
        "        # load from disk\n",
        "        db2 = chromadb.PersistentClient(path=\"./chroma_db\")\n",
        "        chroma_collection = db2.get_or_create_collection(\"quickstart\")\n",
        "        vector_store = ChromaVectorStore(chroma_collection=chroma_collection)\n",
        "        index = VectorStoreIndex.from_vector_store(\n",
        "            vector_store,\n",
        "            embed_model=embed_model,\n",
        "        )\n",
        "\n",
        "        st.info(f\"PDF loaded into vector store in {len(documents)} documents\")\n",
        "        return index\n",
        "    return None"
      ],
      "metadata": {
        "id": "EiQbuJCtBe1g"
      },
      "execution_count": null,
      "outputs": []
    },
    {
      "cell_type": "code",
      "source": [],
      "metadata": {
        "id": "bnHGN9DYBeyt"
      },
      "execution_count": null,
      "outputs": []
    },
    {
      "cell_type": "code",
      "source": [],
      "metadata": {
        "id": "pteIXxOvBewH"
      },
      "execution_count": null,
      "outputs": []
    },
    {
      "cell_type": "code",
      "source": [
        "def main() -> None:\n",
        "    llm_model = st.sidebar.selectbox(\"Select LLM\", options=[\"\"])\n",
        "\n",
        "    if \"llm_model\" not in st.session_state:\n",
        "        st.session_state[\"llm_model\"] = llm_model\n",
        "\n",
        "    elif st.session_state[\"llm_model\"] != llm_model:\n",
        "        st.session_state[\"llm_model\"] = llm_model\n",
        "\n",
        "    uploaded_file = st.sidebar.file_uploader(\"Upload a file (PDF, Text, or Image)\", type=[\"pdf\", \"txt\", \"png\", \"jpg\", \"jpeg\"])\n",
        "\n",
        "    if uploaded_file:\n",
        "        index = store_document(uploaded_file)"
      ],
      "metadata": {
        "id": "8QvqGcIGBeto"
      },
      "execution_count": null,
      "outputs": []
    }
  ]
}