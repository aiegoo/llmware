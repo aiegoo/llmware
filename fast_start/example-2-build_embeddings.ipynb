{
 "cells": [
  {
   "cell_type": "markdown",
   "metadata": {},
   "source": [
    "\n",
    "\"    Fast Start Example #2 - Embeddings - applying an embedding model to enable natural language queries<br>\n",
    "    In this example, we will show the basic recipe for creating embeddings on a library:<br>\n",
    "    1.  Create a sample library (see Example #1 for more details)<br>\n",
    "    2   Select an embedding model<br>\n",
    "    3.  Select a vector db<br>\n",
    "    4.  Install the embeddings<br>\n",
    "    5.  Run a semantic test query<br>\n",
    "    For purpose of this 'fast start', we will use a no-install option of 'chromadb' and 'sqlite'<br>\n",
    "    Note: we have updated the no-install vector db option to 'chromadb' from 'faiss' starting in<br>\n",
    "    llmware>=0.2.12, due to better support on Python 3.12<br>\n",
    "    Note: you may need to install chromadb's python driver:  `pip3 install chromadb`<br>\n",
    "    -- This same basic recipe will work with any of the vector db and collection db by simply changing the name<br>\n"
   ]
  },
  {
   "cell_type": "code",
   "execution_count": 1,
   "metadata": {},
   "outputs": [],
   "source": [
    "import os\n",
    "from llmware.library import Library\n",
    "from llmware.retrieval import Query\n",
    "from llmware.setup import Setup\n",
    "from llmware.status import Status\n",
    "from llmware.models import ModelCatalog\n",
    "from llmware.configs import LLMWareConfig"
   ]
  },
  {
   "cell_type": "code",
   "execution_count": 2,
   "metadata": {},
   "outputs": [
    {
     "name": "stdout",
     "output_type": "stream",
     "text": [
      "\n",
      "to run this example with chromadb, you need to install the chromadb python sdk:  pip3 install chromadb\n"
     ]
    }
   ],
   "source": [
    "from importlib import util\n",
    "if not util.find_spec(\"chromadb\"):\n",
    "    print(\"\\nto run this example with chromadb, you need to install the chromadb python sdk:  pip3 install chromadb\")"
   ]
  },
  {
   "cell_type": "code",
   "execution_count": 3,
   "metadata": {},
   "outputs": [],
   "source": [
    "def setup_library(library_name):\n",
    "    \"\"\" Note: this setup_library method is provided to enable a self-contained example to create a test library \"\"\"\n",
    "\n",
    "    #   Step 1 - Create library which is the main 'organizing construct' in llmware\n",
    "    print (\"\\nupdate: Creating library: {}\".format(library_name))\n",
    "    library = Library().create_new_library(library_name)\n",
    "\n",
    "    #   check the embedding status 'before' installing the embedding\n",
    "    embedding_record = library.get_embedding_status()\n",
    "    print(\"embedding record - before embedding \", embedding_record)\n",
    "\n",
    "    #   Step 2 - Pull down the sample files from S3 through the .load_sample_files() command\n",
    "    #   --note: if you need to refresh the sample files, set 'over_write=True'\n",
    "    print (\"update: Downloading Sample Files\")\n",
    "    sample_files_path = Setup().load_sample_files(over_write=False)\n",
    "\n",
    "    #   Step 3 - point \".add_files\" method to the folder of documents that was just created\n",
    "    #   this method parses the documents, text chunks, and captures in database\n",
    "    print(\"update: Parsing and Text Indexing Files\")\n",
    "    library.add_files(input_folder_path=os.path.join(sample_files_path, \"Agreements\"),\n",
    "                      chunk_size=400, max_chunk_size=600, smart_chunking=1)\n",
    "    return library"
   ]
  },
  {
   "cell_type": "code",
   "execution_count": 4,
   "metadata": {},
   "outputs": [],
   "source": [
    "def install_vector_embeddings(library, embedding_model_name):\n",
    "    \"\"\" This method is the core example of installing an embedding on a library.\n",
    "        -- two inputs - (1) a pre-created library object and (2) the name of an embedding model \"\"\"\n",
    "    library_name = library.library_name\n",
    "    vector_db = LLMWareConfig().get_vector_db()\n",
    "    print(f\"\\nupdate: Starting the Embedding: \"\n",
    "          f\"library - {library_name} - \"\n",
    "          f\"vector_db - {vector_db} - \"\n",
    "          f\"model - {embedding_model_name}\")\n",
    "\n",
    "    #   *** this is the one key line of code to create the embedding ***\n",
    "    library.install_new_embedding(embedding_model_name=embedding_model, vector_db=vector_db,batch_size=100)\n",
    "\n",
    "    #   note: for using llmware as part of a larger application, you can check the real-time status by polling Status()\n",
    "    #   --both the EmbeddingHandler and Parsers write to Status() at intervals while processing\n",
    "    update = Status().get_embedding_status(library_name, embedding_model)\n",
    "    print(\"update: Embeddings Complete - Status() check at end of embedding - \", update)\n",
    "\n",
    "    # Start using the new vector embeddings with Query\n",
    "    sample_query = \"incentive compensation\"\n",
    "    print(\"\\n\\nupdate: Run a sample semantic/vector query: {}\".format(sample_query))\n",
    "\n",
    "    #   queries are constructed by creating a Query object, and passing a library as input\n",
    "    query_results = Query(library).semantic_query(sample_query, result_count=20)\n",
    "    for i, entries in enumerate(query_results):\n",
    "\n",
    "        #   each query result is a dictionary with many useful keys\n",
    "        text = entries[\"text\"]\n",
    "        document_source = entries[\"file_source\"]\n",
    "        page_num = entries[\"page_num\"]\n",
    "        vector_distance = entries[\"distance\"]\n",
    "\n",
    "        #   to see all of the dictionary keys returned, uncomment the line below\n",
    "        #   print(\"update: query_results - all - \", i, entries)\n",
    "\n",
    "        #  for display purposes only, we will only show the first 125 characters of the text\n",
    "        if len(text) > 125:  text = text[0:125] + \" ... \"\n",
    "        print(\"\\nupdate: query results - {} - document - {} - page num - {} - distance - {} \"\n",
    "              .format( i, document_source, page_num, vector_distance))\n",
    "        print(\"update: text sample - \", text)\n",
    "\n",
    "    #   lets take a look at the library embedding status again at the end to confirm embeddings were created\n",
    "    embedding_record = library.get_embedding_status()\n",
    "    print(\"\\nupdate:  embedding record - \", embedding_record)\n",
    "    return 0"
   ]
  },
  {
   "cell_type": "code",
   "execution_count": 6,
   "metadata": {},
   "outputs": [
    {
     "name": "stdout",
     "output_type": "stream",
     "text": [
      "\n",
      "update: Creating library: example2_library\n",
      "embedding record - before embedding  [{'embedding_status': 'no', 'embedding_model': 'none', 'embedding_db': 'none', 'embedded_blocks': 0, 'embedding_dims': 0, 'time_stamp': 'NA'}]\n",
      "update: Downloading Sample Files\n",
      "update: Parsing and Text Indexing Files\n",
      "\n",
      "update: Starting the Embedding: library - example2_library - vector_db - chromadb - model - mini-lm-sbert\n"
     ]
    },
    {
     "ename": "NameError",
     "evalue": "name 'chromadb' is not defined",
     "output_type": "error",
     "traceback": [
      "\u001b[1;31m---------------------------------------------------------------------------\u001b[0m",
      "\u001b[1;31mNameError\u001b[0m                                 Traceback (most recent call last)",
      "Cell \u001b[1;32mIn[6], line 41\u001b[0m\n\u001b[0;32m     34\u001b[0m embedding_model \u001b[38;5;241m=\u001b[39m \u001b[38;5;124m\"\u001b[39m\u001b[38;5;124mmini-lm-sbert\u001b[39m\u001b[38;5;124m\"\u001b[39m\n\u001b[0;32m     36\u001b[0m \u001b[38;5;66;03m#   note: if you want to swap out \"mini-lm-sbert\" for Open AI 'text-embedding-ada-002', uncomment these lines:\u001b[39;00m\n\u001b[0;32m     37\u001b[0m \u001b[38;5;66;03m#   embedding_model = \"text-embedding-ada-002\"\u001b[39;00m\n\u001b[0;32m     38\u001b[0m \u001b[38;5;66;03m#   os.environ[\"USER_MANAGED_OPENAI_API_KEY\"] = \"<insert-your-openai-api-key>\"\u001b[39;00m\n\u001b[0;32m     39\u001b[0m \n\u001b[0;32m     40\u001b[0m \u001b[38;5;66;03m#   run the core script\u001b[39;00m\n\u001b[1;32m---> 41\u001b[0m \u001b[43minstall_vector_embeddings\u001b[49m\u001b[43m(\u001b[49m\u001b[43mlibrary\u001b[49m\u001b[43m,\u001b[49m\u001b[43m \u001b[49m\u001b[43membedding_model\u001b[49m\u001b[43m)\u001b[49m\n",
      "Cell \u001b[1;32mIn[4], line 12\u001b[0m, in \u001b[0;36minstall_vector_embeddings\u001b[1;34m(library, embedding_model_name)\u001b[0m\n\u001b[0;32m      6\u001b[0m \u001b[38;5;28mprint\u001b[39m(\u001b[38;5;124mf\u001b[39m\u001b[38;5;124m\"\u001b[39m\u001b[38;5;130;01m\\n\u001b[39;00m\u001b[38;5;124mupdate: Starting the Embedding: \u001b[39m\u001b[38;5;124m\"\u001b[39m\n\u001b[0;32m      7\u001b[0m       \u001b[38;5;124mf\u001b[39m\u001b[38;5;124m\"\u001b[39m\u001b[38;5;124mlibrary - \u001b[39m\u001b[38;5;132;01m{\u001b[39;00mlibrary_name\u001b[38;5;132;01m}\u001b[39;00m\u001b[38;5;124m - \u001b[39m\u001b[38;5;124m\"\u001b[39m\n\u001b[0;32m      8\u001b[0m       \u001b[38;5;124mf\u001b[39m\u001b[38;5;124m\"\u001b[39m\u001b[38;5;124mvector_db - \u001b[39m\u001b[38;5;132;01m{\u001b[39;00mvector_db\u001b[38;5;132;01m}\u001b[39;00m\u001b[38;5;124m - \u001b[39m\u001b[38;5;124m\"\u001b[39m\n\u001b[0;32m      9\u001b[0m       \u001b[38;5;124mf\u001b[39m\u001b[38;5;124m\"\u001b[39m\u001b[38;5;124mmodel - \u001b[39m\u001b[38;5;132;01m{\u001b[39;00membedding_model_name\u001b[38;5;132;01m}\u001b[39;00m\u001b[38;5;124m\"\u001b[39m)\n\u001b[0;32m     11\u001b[0m \u001b[38;5;66;03m#   *** this is the one key line of code to create the embedding ***\u001b[39;00m\n\u001b[1;32m---> 12\u001b[0m \u001b[43mlibrary\u001b[49m\u001b[38;5;241;43m.\u001b[39;49m\u001b[43minstall_new_embedding\u001b[49m\u001b[43m(\u001b[49m\u001b[43membedding_model_name\u001b[49m\u001b[38;5;241;43m=\u001b[39;49m\u001b[43membedding_model\u001b[49m\u001b[43m,\u001b[49m\u001b[43m \u001b[49m\u001b[43mvector_db\u001b[49m\u001b[38;5;241;43m=\u001b[39;49m\u001b[43mvector_db\u001b[49m\u001b[43m,\u001b[49m\u001b[43mbatch_size\u001b[49m\u001b[38;5;241;43m=\u001b[39;49m\u001b[38;5;241;43m100\u001b[39;49m\u001b[43m)\u001b[49m\n\u001b[0;32m     14\u001b[0m \u001b[38;5;66;03m#   note: for using llmware as part of a larger application, you can check the real-time status by polling Status()\u001b[39;00m\n\u001b[0;32m     15\u001b[0m \u001b[38;5;66;03m#   --both the EmbeddingHandler and Parsers write to Status() at intervals while processing\u001b[39;00m\n\u001b[0;32m     16\u001b[0m update \u001b[38;5;241m=\u001b[39m Status()\u001b[38;5;241m.\u001b[39mget_embedding_status(library_name, embedding_model)\n",
      "File \u001b[1;32m~\\AppData\\Roaming\\Python\\Python312\\site-packages\\llmware\\library.py:627\u001b[0m, in \u001b[0;36mLibrary.install_new_embedding\u001b[1;34m(self, embedding_model_name, vector_db, from_hf, from_sentence_transformer, model, tokenizer, model_api_key, vector_db_api_key, batch_size, max_len, use_gpu)\u001b[0m\n\u001b[0;32m    624\u001b[0m     my_model\u001b[38;5;241m.\u001b[39mmax_len \u001b[38;5;241m=\u001b[39m max_len\n\u001b[0;32m    626\u001b[0m \u001b[38;5;66;03m# step 2 - pass loaded embedding model to EmbeddingHandler, which will route to the appropriate resource\u001b[39;00m\n\u001b[1;32m--> 627\u001b[0m embeddings \u001b[38;5;241m=\u001b[39m \u001b[43mEmbeddingHandler\u001b[49m\u001b[43m(\u001b[49m\u001b[38;5;28;43mself\u001b[39;49m\u001b[43m)\u001b[49m\u001b[38;5;241;43m.\u001b[39;49m\u001b[43mcreate_new_embedding\u001b[49m\u001b[43m(\u001b[49m\u001b[43mvector_db\u001b[49m\u001b[43m,\u001b[49m\u001b[43m \u001b[49m\u001b[43mmy_model\u001b[49m\u001b[43m,\u001b[49m\u001b[43m \u001b[49m\u001b[43mbatch_size\u001b[49m\u001b[38;5;241;43m=\u001b[39;49m\u001b[43mbatch_size\u001b[49m\u001b[43m)\u001b[49m\n\u001b[0;32m    629\u001b[0m \u001b[38;5;28;01mif\u001b[39;00m \u001b[38;5;129;01mnot\u001b[39;00m embeddings:\n\u001b[0;32m    630\u001b[0m     logging\u001b[38;5;241m.\u001b[39mwarning(\u001b[38;5;124m\"\u001b[39m\u001b[38;5;124mwarning: no embeddings created\u001b[39m\u001b[38;5;124m\"\u001b[39m)\n",
      "File \u001b[1;32m~\\AppData\\Roaming\\Python\\Python312\\site-packages\\llmware\\embeddings.py:130\u001b[0m, in \u001b[0;36mEmbeddingHandler.create_new_embedding\u001b[1;34m(self, embedding_db, model, doc_ids, batch_size)\u001b[0m\n\u001b[0;32m    126\u001b[0m \u001b[38;5;28;01mdef\u001b[39;00m \u001b[38;5;21mcreate_new_embedding\u001b[39m(\u001b[38;5;28mself\u001b[39m, embedding_db, model, doc_ids\u001b[38;5;241m=\u001b[39m\u001b[38;5;28;01mNone\u001b[39;00m, batch_size\u001b[38;5;241m=\u001b[39m\u001b[38;5;241m500\u001b[39m):\n\u001b[0;32m    128\u001b[0m \u001b[38;5;250m    \u001b[39m\u001b[38;5;124;03m\"\"\" Creates new embedding - routes to correct vector db and loads the model and text collection \"\"\"\u001b[39;00m\n\u001b[1;32m--> 130\u001b[0m     embedding_class \u001b[38;5;241m=\u001b[39m \u001b[38;5;28;43mself\u001b[39;49m\u001b[38;5;241;43m.\u001b[39;49m\u001b[43m_load_embedding_db\u001b[49m\u001b[43m(\u001b[49m\u001b[43membedding_db\u001b[49m\u001b[43m,\u001b[49m\u001b[43m \u001b[49m\u001b[43mmodel\u001b[49m\u001b[38;5;241;43m=\u001b[39;49m\u001b[43mmodel\u001b[49m\u001b[43m)\u001b[49m\n\u001b[0;32m    131\u001b[0m     embedding_status \u001b[38;5;241m=\u001b[39m embedding_class\u001b[38;5;241m.\u001b[39mcreate_new_embedding(doc_ids, batch_size)\n\u001b[0;32m    133\u001b[0m     \u001b[38;5;28;01mif\u001b[39;00m embedding_status:\n",
      "File \u001b[1;32m~\\AppData\\Roaming\\Python\\Python312\\site-packages\\llmware\\embeddings.py:222\u001b[0m, in \u001b[0;36mEmbeddingHandler._load_embedding_db\u001b[1;34m(self, embedding_db, model, model_name, embedding_dims)\u001b[0m\n\u001b[0;32m    218\u001b[0m     \u001b[38;5;28;01mreturn\u001b[39;00m EmbeddingNeo4j(\u001b[38;5;28mself\u001b[39m\u001b[38;5;241m.\u001b[39mlibrary, model\u001b[38;5;241m=\u001b[39mmodel, model_name\u001b[38;5;241m=\u001b[39mmodel_name,\n\u001b[0;32m    219\u001b[0m                            embedding_dims\u001b[38;5;241m=\u001b[39membedding_dims)\n\u001b[0;32m    221\u001b[0m \u001b[38;5;28;01mif\u001b[39;00m embedding_db \u001b[38;5;241m==\u001b[39m \u001b[38;5;124m\"\u001b[39m\u001b[38;5;124mchromadb\u001b[39m\u001b[38;5;124m\"\u001b[39m:\n\u001b[1;32m--> 222\u001b[0m     \u001b[38;5;28;01mreturn\u001b[39;00m \u001b[43mEmbeddingChromaDB\u001b[49m\u001b[43m(\u001b[49m\u001b[38;5;28;43mself\u001b[39;49m\u001b[38;5;241;43m.\u001b[39;49m\u001b[43mlibrary\u001b[49m\u001b[43m,\u001b[49m\u001b[43m \u001b[49m\u001b[43mmodel\u001b[49m\u001b[38;5;241;43m=\u001b[39;49m\u001b[43mmodel\u001b[49m\u001b[43m,\u001b[49m\u001b[43m \u001b[49m\u001b[43mmodel_name\u001b[49m\u001b[38;5;241;43m=\u001b[39;49m\u001b[43mmodel_name\u001b[49m\u001b[43m,\u001b[49m\n\u001b[0;32m    223\u001b[0m \u001b[43m                           \u001b[49m\u001b[43membedding_dims\u001b[49m\u001b[38;5;241;43m=\u001b[39;49m\u001b[43membedding_dims\u001b[49m\u001b[43m)\u001b[49m\n",
      "File \u001b[1;32m~\\AppData\\Roaming\\Python\\Python312\\site-packages\\llmware\\embeddings.py:2422\u001b[0m, in \u001b[0;36mEmbeddingChromaDB.__init__\u001b[1;34m(self, library, model, model_name, embedding_dims)\u001b[0m\n\u001b[0;32m   2419\u001b[0m     \u001b[38;5;28mself\u001b[39m\u001b[38;5;241m.\u001b[39mclient \u001b[38;5;241m=\u001b[39m chromadb\u001b[38;5;241m.\u001b[39mEphemeralClient()\n\u001b[0;32m   2421\u001b[0m \u001b[38;5;28;01mif\u001b[39;00m persistent_path \u001b[38;5;129;01mis\u001b[39;00m \u001b[38;5;129;01mnot\u001b[39;00m \u001b[38;5;28;01mNone\u001b[39;00m:\n\u001b[1;32m-> 2422\u001b[0m     \u001b[38;5;28mself\u001b[39m\u001b[38;5;241m.\u001b[39mclient \u001b[38;5;241m=\u001b[39m \u001b[43mchromadb\u001b[49m\u001b[38;5;241m.\u001b[39mPersistentClient(path\u001b[38;5;241m=\u001b[39mpersistent_path)\n\u001b[0;32m   2424\u001b[0m \u001b[38;5;28;01mif\u001b[39;00m host \u001b[38;5;129;01mis\u001b[39;00m \u001b[38;5;129;01mnot\u001b[39;00m \u001b[38;5;28;01mNone\u001b[39;00m:\n\u001b[0;32m   2425\u001b[0m     \u001b[38;5;28mself\u001b[39m\u001b[38;5;241m.\u001b[39mclient \u001b[38;5;241m=\u001b[39m chromadb\u001b[38;5;241m.\u001b[39mHttpClient(host\u001b[38;5;241m=\u001b[39mhost,\n\u001b[0;32m   2426\u001b[0m                                       port\u001b[38;5;241m=\u001b[39mChromaDBConfig\u001b[38;5;241m.\u001b[39mget_config(\u001b[38;5;124m'\u001b[39m\u001b[38;5;124mport\u001b[39m\u001b[38;5;124m'\u001b[39m),\n\u001b[0;32m   2427\u001b[0m                                       ssl\u001b[38;5;241m=\u001b[39mChromaDBConfig\u001b[38;5;241m.\u001b[39mget_config(\u001b[38;5;124m'\u001b[39m\u001b[38;5;124mssl\u001b[39m\u001b[38;5;124m'\u001b[39m),\n\u001b[0;32m   2428\u001b[0m                                       headers\u001b[38;5;241m=\u001b[39mChromaDBConfig\u001b[38;5;241m.\u001b[39mget_config(\u001b[38;5;124m'\u001b[39m\u001b[38;5;124mheaders\u001b[39m\u001b[38;5;124m'\u001b[39m))\n",
      "\u001b[1;31mNameError\u001b[0m: name 'chromadb' is not defined"
     ]
    }
   ],
   "source": [
    "if __name__ == \"__main__\":\n",
    "\n",
    "    #   Fast Start configuration - will use no-install embedded sqlite\n",
    "    #   -- if you have installed Mongo or Postgres, then change the .set_active_db accordingly\n",
    "    LLMWareConfig().set_active_db(\"sqlite\")\n",
    "\n",
    "    #   note: as of llmware==0.2.12, we have shifted from faiss to chromadb for the Fast Start examples\n",
    "    #   --if you are using a Python version before 3.12, please feel free to substitute for \"faiss\"\n",
    "    #   --for versions of Python >= 3.12, for the Fast Start examples (e.g., no install required), we\n",
    "    #   recommend using chromadb or lancedb\n",
    "    #   please double-check: `pip3 install chromadb` or pull the latest llmware version to get automatically\n",
    "\n",
    "    #   -- if you have installed any other vector db, just change the name, e.g, \"milvus\" or \"pg_vector\"\n",
    "    LLMWareConfig().set_vector_db(\"chromadb\")\n",
    "\n",
    "    #  Step 1 - this example requires us to have a library created - two options:\n",
    "\n",
    "    #  if you completed example-1 - then load the library you created in that example, e.g., \"example1_library\"\n",
    "    #  uncomment the line below:\n",
    "    #  library = Library().load_library(\"example1_library\")\n",
    "\n",
    "    #  alternatively, to use this example as self-contained, then create a new library from scratch:\n",
    "    library = setup_library(\"example2_library\")\n",
    "\n",
    "    #   Step 2 - Select any embedding model in the LLMWare catalog\n",
    "\n",
    "    #   to see a list of the embedding models supported, uncomment the line below and print the list\n",
    "    embedding_models = ModelCatalog().list_embedding_models()\n",
    "\n",
    "    #   for i, models in enumerate(embedding_models):\n",
    "    #       print(\"embedding models: \", i, models)\n",
    "\n",
    "    #   for this first embedding, we will use a very popular and fast sentence transformer\n",
    "    embedding_model = \"mini-lm-sbert\"\n",
    "\n",
    "    #   note: if you want to swap out \"mini-lm-sbert\" for Open AI 'text-embedding-ada-002', uncomment these lines:\n",
    "    #   embedding_model = \"text-embedding-ada-002\"\n",
    "    #   os.environ[\"USER_MANAGED_OPENAI_API_KEY\"] = \"<insert-your-openai-api-key>\"\n",
    "\n",
    "    #   run the core script\n",
    "    install_vector_embeddings(library, embedding_model)"
   ]
  }
 ],
 "metadata": {
  "kernelspec": {
   "display_name": "Python 3 (ipykernel)",
   "language": "python",
   "name": "python3"
  },
  "language_info": {
   "codemirror_mode": {
    "name": "ipython",
    "version": 3
   },
   "file_extension": ".py",
   "mimetype": "text/x-python",
   "name": "python",
   "nbconvert_exporter": "python",
   "pygments_lexer": "ipython3",
   "version": "3.12.0"
  }
 },
 "nbformat": 4,
 "nbformat_minor": 4
}
