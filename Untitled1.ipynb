{
 "cells": [
  {
   "cell_type": "code",
   "execution_count": 13,
   "id": "a8942c7d-adf9-4eae-a590-c2fdd2465c9b",
   "metadata": {
    "tags": []
   },
   "outputs": [],
   "source": [
    "import os\n",
    "api_key = os.getenv(\"Nomic\")"
   ]
  },
  {
   "cell_type": "code",
   "execution_count": 29,
   "id": "29179bb3-ed42-4b1d-95f9-4443f996ae67",
   "metadata": {
    "tags": []
   },
   "outputs": [
    {
     "name": "stdout",
     "output_type": "stream",
     "text": [
      "None\n",
      "/d/repos/uconcreative/accent-coach/llmware\n"
     ]
    }
   ],
   "source": [
    "print(api_key)\n",
    "!pwd"
   ]
  },
  {
   "cell_type": "code",
   "execution_count": 23,
   "id": "b68a6632-43b8-427f-aa99-a4df2d0d4812",
   "metadata": {
    "tags": []
   },
   "outputs": [],
   "source": [
    "import nomic\n",
    "from nomic import atlas\n",
    "# in Python\n",
    "nomic.login(\"nk-T_Yu7a1CQ0XRd9qy5MISCnmALRKPeZBrAM187pGK27E\")"
   ]
  },
  {
   "cell_type": "code",
   "execution_count": null,
   "id": "6d4fb728-ac1c-4b66-9133-6c8829588c64",
   "metadata": {},
   "outputs": [],
   "source": [
    "import nomic\n",
    "from nomic import atlas\n",
    "import csv\n",
    "\n",
    "# Edit accordingly if working with other data type (TSV, JSON, JSONL)\n",
    "with open('SLMArtDataset.csv','r') as f:\n",
    "    reader = csv.DictReader(f)\n",
    "    my_data = [row for row in reader]\n",
    "\n",
    "# Build a map using the map_data method\n",
    "dataset = atlas.map_data(data=my_data,\n",
    "                          indexed_field='text',\n",
    "                          identifier='my-organization/my-first-map',\n",
    "                          description='A description of the data.',\n",
    "                          )\n",
    "dataset.maps[0] # to view map build status"
   ]
  }
 ],
 "metadata": {
  "kernelspec": {
   "display_name": "Python 3 (ipykernel)",
   "language": "python",
   "name": "python3"
  },
  "language_info": {
   "codemirror_mode": {
    "name": "ipython",
    "version": 3
   },
   "file_extension": ".py",
   "mimetype": "text/x-python",
   "name": "python",
   "nbconvert_exporter": "python",
   "pygments_lexer": "ipython3",
   "version": "3.11.9"
  }
 },
 "nbformat": 4,
 "nbformat_minor": 5
}
