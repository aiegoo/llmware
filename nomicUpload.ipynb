{
 "cells": [
  {
   "cell_type": "code",
   "execution_count": 39,
   "id": "a8942c7d-adf9-4eae-a590-c2fdd2465c9b",
   "metadata": {
    "tags": []
   },
   "outputs": [],
   "source": [
    "import os\n",
    "api_key = os.getenv(\"$Nomic\")"
   ]
  },
  {
   "cell_type": "code",
   "execution_count": 41,
   "id": "29179bb3-ed42-4b1d-95f9-4443f996ae67",
   "metadata": {
    "tags": []
   },
   "outputs": [
    {
     "name": "stdout",
     "output_type": "stream",
     "text": [
      "None\n",
      "/d/repos/uconcreative/accent-coach/llmware\n"
     ]
    }
   ],
   "source": [
    "print(api_key)\n",
    "!pwd"
   ]
  },
  {
   "cell_type": "code",
   "execution_count": 23,
   "id": "b68a6632-43b8-427f-aa99-a4df2d0d4812",
   "metadata": {
    "tags": []
   },
   "outputs": [],
   "source": [
    "import nomic\n",
    "from nomic import atlas\n",
    "# in Python\n",
    "nomic.login(\"nk-T_Yu7a1CQ0XRd9qy5MISCnmALRKPeZBrAM187pGK27E\")"
   ]
  },
  {
   "cell_type": "code",
   "execution_count": 35,
   "id": "6d4fb728-ac1c-4b66-9133-6c8829588c64",
   "metadata": {
    "tags": []
   },
   "outputs": [
    {
     "name": "stderr",
     "output_type": "stream",
     "text": [
      "\u001b[32m2024-05-16 17:24:55.116\u001b[0m | \u001b[33m\u001b[1mWARNING \u001b[0m | \u001b[36mnomic.atlas\u001b[0m:\u001b[36mmap_data\u001b[0m:\u001b[36m98\u001b[0m - \u001b[33m\u001b[1mAn ID field was not specified in your data so one was generated for you in insertion order.\u001b[0m\n",
      "\u001b[32m2024-05-16 17:24:59.068\u001b[0m | \u001b[1mINFO    \u001b[0m | \u001b[36mnomic.dataset\u001b[0m:\u001b[36m_create_project\u001b[0m:\u001b[36m912\u001b[0m - \u001b[1mCreating dataset `slmartdataset`\u001b[0m\n",
      "\u001b[32m2024-05-16 17:25:00.096\u001b[0m | \u001b[1mINFO    \u001b[0m | \u001b[36mnomic.atlas\u001b[0m:\u001b[36mmap_data\u001b[0m:\u001b[36m110\u001b[0m - \u001b[1mUploading data to Atlas.\u001b[0m\n",
      "1it [00:01,  1.32s/it]\n",
      "\u001b[32m2024-05-16 17:25:01.435\u001b[0m | \u001b[1mINFO    \u001b[0m | \u001b[36mnomic.dataset\u001b[0m:\u001b[36m_add_data\u001b[0m:\u001b[36m1591\u001b[0m - \u001b[1mUpload succeeded.\u001b[0m\n",
      "\u001b[32m2024-05-16 17:25:01.437\u001b[0m | \u001b[1mINFO    \u001b[0m | \u001b[36mnomic.atlas\u001b[0m:\u001b[36mmap_data\u001b[0m:\u001b[36m125\u001b[0m - \u001b[1m`onofftony/slmartdataset`: Data upload succeeded to dataset`\u001b[0m\n"
     ]
    },
    {
     "ename": "Exception",
     "evalue": "Indexing on text not allowed. Valid options are: ['대분류', '중분류', '소분류', '소분류 (2)', '질문', '답변', 'id_']",
     "output_type": "error",
     "traceback": [
      "\u001b[1;31m------------------------------------------------------------------------\u001b[0m",
      "\u001b[1;31mException\u001b[0m                              Traceback (most recent call last)",
      "Cell \u001b[1;32mIn[35], line 11\u001b[0m\n\u001b[0;32m      8\u001b[0m     my_data \u001b[38;5;241m=\u001b[39m [row \u001b[38;5;28;01mfor\u001b[39;00m row \u001b[38;5;129;01min\u001b[39;00m reader]\n\u001b[0;32m     10\u001b[0m \u001b[38;5;66;03m# Build a map using the map_data method\u001b[39;00m\n\u001b[1;32m---> 11\u001b[0m dataset \u001b[38;5;241m=\u001b[39m \u001b[43matlas\u001b[49m\u001b[38;5;241;43m.\u001b[39;49m\u001b[43mmap_data\u001b[49m\u001b[43m(\u001b[49m\u001b[43mdata\u001b[49m\u001b[38;5;241;43m=\u001b[39;49m\u001b[43mmy_data\u001b[49m\u001b[43m,\u001b[49m\n\u001b[0;32m     12\u001b[0m \u001b[43m                          \u001b[49m\u001b[43mindexed_field\u001b[49m\u001b[38;5;241;43m=\u001b[39;49m\u001b[38;5;124;43m'\u001b[39;49m\u001b[38;5;124;43mtext\u001b[39;49m\u001b[38;5;124;43m'\u001b[39;49m\u001b[43m,\u001b[49m\n\u001b[0;32m     13\u001b[0m \u001b[43m                          \u001b[49m\u001b[43midentifier\u001b[49m\u001b[38;5;241;43m=\u001b[39;49m\u001b[38;5;124;43m'\u001b[39;49m\u001b[38;5;124;43monofftony/SLMArtDataset\u001b[39;49m\u001b[38;5;124;43m'\u001b[39;49m\u001b[43m,\u001b[49m\n\u001b[0;32m     14\u001b[0m \u001b[43m                          \u001b[49m\u001b[43mdescription\u001b[49m\u001b[38;5;241;43m=\u001b[39;49m\u001b[38;5;124;43m'\u001b[39;49m\u001b[38;5;124;43mA description of the data.\u001b[39;49m\u001b[38;5;124;43m'\u001b[39;49m\u001b[43m,\u001b[49m\n\u001b[0;32m     15\u001b[0m \u001b[43m                          \u001b[49m\u001b[43m)\u001b[49m\n\u001b[0;32m     16\u001b[0m dataset\u001b[38;5;241m.\u001b[39mmaps[\u001b[38;5;241m0\u001b[39m] \u001b[38;5;66;03m# to view map build status\u001b[39;00m\n",
      "File \u001b[1;32m~\\anaconda3\\Lib\\site-packages\\nomic\\atlas.py:127\u001b[0m, in \u001b[0;36mmap_data\u001b[1;34m(data, embeddings, identifier, description, id_field, is_public, indexed_field, projection, topic_model, duplicate_detection, embedding_model)\u001b[0m\n\u001b[0;32m    123\u001b[0m     \u001b[38;5;28;01mraise\u001b[39;00m e\n\u001b[0;32m    125\u001b[0m logger\u001b[38;5;241m.\u001b[39minfo(\u001b[38;5;124mf\u001b[39m\u001b[38;5;124m\"\u001b[39m\u001b[38;5;124m`\u001b[39m\u001b[38;5;132;01m{\u001b[39;00mdataset\u001b[38;5;241m.\u001b[39midentifier\u001b[38;5;132;01m}\u001b[39;00m\u001b[38;5;124m`: Data upload succeeded to dataset`\u001b[39m\u001b[38;5;124m\"\u001b[39m)\n\u001b[1;32m--> 127\u001b[0m \u001b[43mdataset\u001b[49m\u001b[38;5;241;43m.\u001b[39;49m\u001b[43mcreate_index\u001b[49m\u001b[43m(\u001b[49m\n\u001b[0;32m    128\u001b[0m \u001b[43m    \u001b[49m\u001b[43mname\u001b[49m\u001b[38;5;241;43m=\u001b[39;49m\u001b[43mindex_name\u001b[49m\u001b[43m,\u001b[49m\n\u001b[0;32m    129\u001b[0m \u001b[43m    \u001b[49m\u001b[43mindexed_field\u001b[49m\u001b[38;5;241;43m=\u001b[39;49m\u001b[43mindexed_field\u001b[49m\u001b[43m,\u001b[49m\n\u001b[0;32m    130\u001b[0m \u001b[43m    \u001b[49m\u001b[43mmodality\u001b[49m\u001b[38;5;241;43m=\u001b[39;49m\u001b[43mmodality\u001b[49m\u001b[43m,\u001b[49m\n\u001b[0;32m    131\u001b[0m \u001b[43m    \u001b[49m\u001b[43mprojection\u001b[49m\u001b[38;5;241;43m=\u001b[39;49m\u001b[43mprojection\u001b[49m\u001b[43m,\u001b[49m\n\u001b[0;32m    132\u001b[0m \u001b[43m    \u001b[49m\u001b[43mtopic_model\u001b[49m\u001b[38;5;241;43m=\u001b[39;49m\u001b[43mtopic_model\u001b[49m\u001b[43m,\u001b[49m\n\u001b[0;32m    133\u001b[0m \u001b[43m    \u001b[49m\u001b[43mduplicate_detection\u001b[49m\u001b[38;5;241;43m=\u001b[39;49m\u001b[43mduplicate_detection\u001b[49m\u001b[43m,\u001b[49m\n\u001b[0;32m    134\u001b[0m \u001b[43m    \u001b[49m\u001b[43membedding_model\u001b[49m\u001b[38;5;241;43m=\u001b[39;49m\u001b[43membedding_model\u001b[49m\u001b[43m,\u001b[49m\n\u001b[0;32m    135\u001b[0m \u001b[43m\u001b[49m\u001b[43m)\u001b[49m\n\u001b[0;32m    137\u001b[0m dataset \u001b[38;5;241m=\u001b[39m dataset\u001b[38;5;241m.\u001b[39m_latest_dataset_state()\n\u001b[0;32m    138\u001b[0m \u001b[38;5;28;01mreturn\u001b[39;00m dataset\n",
      "File \u001b[1;32m~\\anaconda3\\Lib\\site-packages\\nomic\\dataset.py:1216\u001b[0m, in \u001b[0;36mAtlasDataset.create_index\u001b[1;34m(self, name, indexed_field, modality, projection, topic_model, duplicate_detection, embedding_model, reuse_embeddings_from_index)\u001b[0m\n\u001b[0;32m   1213\u001b[0m         \u001b[38;5;28;01mraise\u001b[39;00m \u001b[38;5;167;01mException\u001b[39;00m(\u001b[38;5;124m\"\u001b[39m\u001b[38;5;124mYou did not specify a field to index. Specify an \u001b[39m\u001b[38;5;124m'\u001b[39m\u001b[38;5;124mindexed_field\u001b[39m\u001b[38;5;124m'\u001b[39m\u001b[38;5;124m.\u001b[39m\u001b[38;5;124m\"\u001b[39m)\n\u001b[0;32m   1215\u001b[0m     \u001b[38;5;28;01mif\u001b[39;00m indexed_field \u001b[38;5;129;01mnot\u001b[39;00m \u001b[38;5;129;01min\u001b[39;00m \u001b[38;5;28mself\u001b[39m\u001b[38;5;241m.\u001b[39mdataset_fields:\n\u001b[1;32m-> 1216\u001b[0m         \u001b[38;5;28;01mraise\u001b[39;00m \u001b[38;5;167;01mException\u001b[39;00m(\u001b[38;5;124mf\u001b[39m\u001b[38;5;124m\"\u001b[39m\u001b[38;5;124mIndexing on \u001b[39m\u001b[38;5;132;01m{\u001b[39;00mindexed_field\u001b[38;5;132;01m}\u001b[39;00m\u001b[38;5;124m not allowed. Valid options are: \u001b[39m\u001b[38;5;132;01m{\u001b[39;00m\u001b[38;5;28mself\u001b[39m\u001b[38;5;241m.\u001b[39mdataset_fields\u001b[38;5;132;01m}\u001b[39;00m\u001b[38;5;124m\"\u001b[39m)\n\u001b[0;32m   1218\u001b[0m     build_template \u001b[38;5;241m=\u001b[39m {\n\u001b[0;32m   1219\u001b[0m         \u001b[38;5;124m\"\u001b[39m\u001b[38;5;124mproject_id\u001b[39m\u001b[38;5;124m\"\u001b[39m: \u001b[38;5;28mself\u001b[39m\u001b[38;5;241m.\u001b[39mid,\n\u001b[0;32m   1220\u001b[0m         \u001b[38;5;124m\"\u001b[39m\u001b[38;5;124mindex_name\u001b[39m\u001b[38;5;124m\"\u001b[39m: name,\n\u001b[1;32m   (...)\u001b[0m\n\u001b[0;32m   1260\u001b[0m         ),\n\u001b[0;32m   1261\u001b[0m     }\n\u001b[0;32m   1263\u001b[0m response \u001b[38;5;241m=\u001b[39m requests\u001b[38;5;241m.\u001b[39mpost(\n\u001b[0;32m   1264\u001b[0m     \u001b[38;5;28mself\u001b[39m\u001b[38;5;241m.\u001b[39matlas_api_path \u001b[38;5;241m+\u001b[39m \u001b[38;5;124m\"\u001b[39m\u001b[38;5;124m/v1/project/index/create\u001b[39m\u001b[38;5;124m\"\u001b[39m,\n\u001b[0;32m   1265\u001b[0m     headers\u001b[38;5;241m=\u001b[39m\u001b[38;5;28mself\u001b[39m\u001b[38;5;241m.\u001b[39mheader,\n\u001b[0;32m   1266\u001b[0m     json\u001b[38;5;241m=\u001b[39mbuild_template,\n\u001b[0;32m   1267\u001b[0m )\n",
      "\u001b[1;31mException\u001b[0m: Indexing on text not allowed. Valid options are: ['대분류', '중분류', '소분류', '소분류 (2)', '질문', '답변', 'id_']"
     ]
    }
   ],
   "source": [
    "import nomic\n",
    "from nomic import atlas\n",
    "import csv\n",
    "\n",
    "# Edit accordingly if working with other data type (TSV, JSON, JSONL)\n",
    "with open('SLMArtDataset.csv','r', encoding='utf-8') as f:\n",
    "    reader = csv.DictReader(f)\n",
    "    my_data = [row for row in reader]\n",
    "\n",
    "# Build a map using the map_data method\n",
    "dataset = atlas.map_data(data=my_data,\n",
    "                          indexed_field='text',\n",
    "                          identifier='onofftony/SLMArtDataset',\n",
    "                          description='A description of the data.',\n",
    "                          )\n",
    "dataset.maps[0] # to view map build status"
   ]
  }
 ],
 "metadata": {
  "kernelspec": {
   "display_name": "Python 3 (ipykernel)",
   "language": "python",
   "name": "python3"
  },
  "language_info": {
   "codemirror_mode": {
    "name": "ipython",
    "version": 3
   },
   "file_extension": ".py",
   "mimetype": "text/x-python",
   "name": "python",
   "nbconvert_exporter": "python",
   "pygments_lexer": "ipython3",
   "version": "3.11.9"
  }
 },
 "nbformat": 4,
 "nbformat_minor": 5
}
