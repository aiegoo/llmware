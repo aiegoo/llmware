{
 "cells": [
  {
   "cell_type": "markdown",
   "metadata": {},
   "source": [
    "\n",
    " To enable rapid testing and prototyping, LLMWare provides a range of sample files that can be accessed<br>\n",
    "through the Setup class, and specific methods that will pull the files from a non-restricted llmware AWS S3 bucket,<br>\n",
    "and download the files locally in the /llmware_data/sample_files path.<br>\n",
    "    Sample files are created from public domain sources, and often developed originally by LLMWare.   They are<br>\n",
    "provided for convenience in testing.   As we find or develop a good testing set, we will generally try to make it<br>\n",
    "available so everyone can use - as a result, the sample files collection is evolving and growing all the time!<br>\n",
    "    If you have an older version, and would like to get the latest, then you can set the over_write=True option.<br>\n"
   ]
  },
  {
   "cell_type": "code",
   "execution_count": 3,
   "metadata": {
    "tags": []
   },
   "outputs": [],
   "source": [
    "import os\n",
    "from llmware.setup import Setup"
   ]
  },
  {
   "cell_type": "code",
   "execution_count": 5,
   "metadata": {
    "tags": []
   },
   "outputs": [],
   "source": [
    "def get_llmware_sample_files():\n",
    "    print (f\"\\n > Loading the llmware Sample Files...\")\n",
    "\n",
    "    #   this call to Setup() will pull the sample files from a public S3 repo\n",
    "    #   the files will be placed in folders locally at the sample_files_path\n",
    "    sample_files_path = Setup().load_sample_files(over_write=False)\n",
    "    print(f\"> Sample Files Path - {sample_files_path}\")\n",
    "    print(f\"> Sample Folders - {os.listdir(sample_files_path)}\")\n",
    "\n",
    "    #   Current Sample Files:\n",
    "    #\n",
    "    #   AgreementsLarge     =   ~80 sample contracts\n",
    "    #   Agreements          =   ~15 sample employment agreements plus edge computing, lanchain and llm agents\n",
    "    #   UN-Resolutions-500  =   500 United Nations Resolutions (~2 years) - public repo - PDF files\n",
    "    #   Invoices            =   ~40 invoice sample documents\n",
    "    #   FinDocs             =   ~15 financial annual reports, earnings and 10Ks\n",
    "    #   AWS-Transcribe      =   ~5 AWS-transcribe JSON files\n",
    "    #   SmallLibrary        =   ~10 mixed document types for quick testing\n",
    "    #   Images              =   ~3 images for OCR processing\n",
    "\n",
    "    #   Note: these files will be updated from time-to-time - if you want to pull fresh new files\n",
    "    #   sample_files_path = Setup().load_sample_files(over_write=True)\n",
    "\n",
    "    #   These files were prepared by LLMWare from public domain materials or invented bespoke as examples\n",
    "    #   If you have any concerns about PII or the suitability or any material, please let us know\n",
    "    #   We reserve the right to withdraw documents at any time\n",
    "    return 0"
   ]
  },
  {
   "cell_type": "code",
   "execution_count": 7,
   "metadata": {
    "tags": []
   },
   "outputs": [],
   "source": [
    "def get_llmware_voice_sample_files():\n",
    "    print (f\"\\n > Loading the llmware Sample Voice Files...\")\n",
    "\n",
    "    #   check out the examples:  Models/using-whisper-cpp-sample-files.py and\n",
    "    #                            Use_Cases/parsing_great_speeches.py\n",
    "\n",
    "    #   this call to Setup() will pull the sample files from a public S3 repo\n",
    "    #   the files will be placed in folders locally at the sample voice files path\n",
    "    sample_files_path = Setup().load_voice_sample_files(over_write=False,small_only=False)\n",
    "    print(f\"> Sample Voice Files Path - {sample_files_path}\")\n",
    "    print(f\"> Sample Voice Folders - {os.listdir(sample_files_path)}\")\n",
    "\n",
    "    # examples - \"famous_quotes\" | \"greatest_speeches\" | \"youtube_demos\" | \"earnings_calls\"\n",
    "\n",
    "    #   -- famous_quotes - approximately 20 small .wav files with clips from old movies and speeches\n",
    "    #   -- greatest_speeches - approximately 60 famous historical speeches in english\n",
    "    #   -- youtube_videos - wav files of ~3 llmware youtube videos\n",
    "    #   -- earnings_calls - wav files of ~4 public company earnings calls (gathered from public investor relations)\n",
    "\n",
    "    # These sample files are hosted in a non-restricted AWS S3 bucket, and downloaded via the Setup method\n",
    "    # `load_sample_voice_files`.   There are two options:\n",
    "\n",
    "    #    --  small_only = True:      only pulls the 'famous_quotes' samples\n",
    "    #    --  small_only = False:     pulls all of the samples    (requires ~1.9 GB in total)\n",
    "\n",
    "    # Please note that all of these samples have been pulled from open public domain sources, including the\n",
    "    # Internet Archives, e.g., https://archive.org.  These sample files are being provided solely for the purpose of\n",
    "    # testing the code scripts below.   Please do not use them for any other purpose.\n",
    "    return 0"
   ]
  },
  {
   "cell_type": "code",
   "execution_count": 9,
   "metadata": {
    "tags": []
   },
   "outputs": [
    {
     "name": "stdout",
     "output_type": "stream",
     "text": [
      "\n",
      " > Loading the llmware Sample Files...\n",
      "> Sample Files Path - C:\\Users\\hsyyu\\llmware_data\\sample_files\n",
      "> Sample Folders - ['Agreements', 'AgreementsLarge', 'AWS-Transcribe', 'Books', 'FinDocs', 'Images', 'Invoices', 'metfactory', 'SmallLibrary', 'UN-Resolutions-500']\n",
      "\n",
      " > Loading the llmware Sample Voice Files...\n",
      "> Sample Voice Files Path - C:\\Users\\hsyyu\\llmware_data\\voice_sample_files\n",
      "> Sample Voice Folders - ['earnings_calls', 'famous_quotes', 'greatest_speeches', 'youtube_demos']\n"
     ]
    }
   ],
   "source": [
    "if __name__ == \"__main__\":\n",
    "    get_llmware_sample_files()\n",
    "    get_llmware_voice_sample_files()"
   ]
  }
 ],
 "metadata": {
  "kernelspec": {
   "display_name": "Python 3 (ipykernel)",
   "language": "python",
   "name": "python3"
  },
  "language_info": {
   "codemirror_mode": {
    "name": "ipython",
    "version": 3
   },
   "file_extension": ".py",
   "mimetype": "text/x-python",
   "name": "python",
   "nbconvert_exporter": "python",
   "pygments_lexer": "ipython3",
   "version": "3.11.9"
  }
 },
 "nbformat": 4,
 "nbformat_minor": 4
}
