{
 "cells": [
  {
   "cell_type": "markdown",
   "metadata": {},
   "source": [
    "\n",
    " This example shows the basics of working with Libraries.  Library is the main organizing construct for<br>\n",
    "unstructured information in LLMWare.   Users can create one large library with all types of different content, or<br>\n",
    "can create multiple libraries with each library comprising a specific logical collection of information on a<br>\n",
    "particular subject matter, project/case/deal, or even different accounts/users/departments.<br>\n",
    "    Each Library consists of the following components:<br>\n",
    "    1. Collection on a Database - this is the core of the Library, and is created through parsing of documents, which<br>\n",
    "    are then automatically chunked and indexed in a text collection database.  This is the basis for retrieval,<br>\n",
    "    and the collection that will be used as the basis for tracking any number of vector embeddings that can be<br>\n",
    "    attached to a library collection.<br>\n",
    "    2. File archives - found in the llmware_data path, within Accounts, there is a folder structure for each Library.<br>\n",
    "    All file-based artifacts for the Library are organized in these folders, including copies of all files added in<br>\n",
    "    the library (very useful for retrieval-based applications), images extracted and indexed from the source<br>\n",
    "    documents, as well as derived artifacts such as nlp and knowledge graph and datasets.<br>\n",
    "    3. Library Catalog - each Library is registered in the LibraryCatalog table, with a unique library_card that has<br>\n",
    "    the key attributes and statistics of the Library.<br>\n",
    "    When a Library object is passed to the Parser, the parser will automatically route all information into the<br>\n",
    "    Library structure.<br>\n",
    "    The Library also exposes convenience methods to easily install embeddings on a library, including tracking of<br>\n",
    "    incremental progress.<br>\n",
    "    To parse into a Library, there is the very useful convenience methods, \"add_files\" which will invoke the Parser,<br>\n",
    "    collate and route the files within a selected folder path, check for duplicate files, execute the parsing,<br>\n",
    "    text chunking and insertion into the database, and update all of the Library state automatically.<br>\n",
    "    Libraries are the main index constructs that are used in executing a Query.   Pass the library object when<br>\n",
    "    constructing the Query object, and then all retrievals (text, semantic and hybrid) will be executed against<br>\n",
    "    the content in that Library only.<br>\n"
   ]
  },
  {
   "cell_type": "code",
   "execution_count": 1,
   "metadata": {
    "tags": []
   },
   "outputs": [],
   "source": [
    "import json\n",
    "import os\n",
    "from llmware.configs import LLMWareConfig\n",
    "from llmware.library import Library, LibraryCatalog\n",
    "from llmware.setup import Setup"
   ]
  },
  {
   "cell_type": "code",
   "execution_count": 15,
   "metadata": {
    "tags": []
   },
   "outputs": [],
   "source": [
    "def core_library_functions(library_name):\n",
    "\n",
    "    # Create a library\n",
    "    print (f\"\\n > Creating library {library_name}...\")\n",
    "    library = Library().create_new_library(library_name)\n",
    "\n",
    "    # Load an existing library. This not required after library creation and is only shown here for reference\n",
    "    library = Library().load_library(library_name)\n",
    "\n",
    "    # The LibraryCatalog is used to query all libraries\n",
    "    print (f\"\\n > All libraries\")\n",
    "    for library_card in LibraryCatalog().all_library_cards():\n",
    "        lib_name = library_card[\"library_name\"]\n",
    "        docs = library_card[\"documents\"]\n",
    "        print (f\"  - {lib_name} ({docs} documents)\")\n",
    "\n",
    "    # Add a few files to our library\n",
    "    print (f\"\\n > Adding some files to {library_name}\")\n",
    "    sample_files_path = Setup().load_sample_files()\n",
    "    library.add_files(os.path.join(sample_files_path,\"SmallLibrary\"))\n",
    "\n",
    "    # View the library card to confirm document, block and other counts\n",
    "    print (f\"\\n > Library Card\")\n",
    "    library_card = library.get_library_card()\n",
    "    library_card[\"_id\"] = str(library_card[\"_id\"]) # The _id needs to be converted to a str before printing\n",
    "    print (json.dumps(library_card, indent=2))\n",
    " \n",
    "    # Library Export to JSON\n",
    "    print (f\"\\n > Exporting library to jsonl file...\")\n",
    "    temp_export_dir = LLMWareConfig().get_tmp_path()\n",
    "    json_export_path = library.export_library_to_jsonl_file(temp_export_dir, \"lib_export\")\n",
    "    print (f\" - library exported to {json_export_path}\")\n",
    "    \n",
    "    # Library export to txt file\n",
    "    print (f\"\\n > Exporting library to text file...\")\n",
    "    text_export_path = library.export_library_to_txt_file(temp_export_dir, \"lib_export\")\n",
    "    print (f\" - library exported to {text_export_path}\")\n",
    "\n",
    "    # check out the images extracted\n",
    "    print (f\"\\n images extracted and saved at local path - {library.image_path}\")\n",
    "\n",
    "    # Delete the library\n",
    "    # print (f\"\\n > Deleting the library...\")\n",
    "    # note: for safety: set the confirm_delete=True when/if you want to delete\n",
    "    library.delete_library(confirm_delete=False)"
   ]
  },
  {
   "cell_type": "code",
   "execution_count": 17,
   "metadata": {
    "tags": []
   },
   "outputs": [
    {
     "data": {
      "text/plain": [
       "<function __main__.core_library_functions(library_name)>"
      ]
     },
     "execution_count": 17,
     "metadata": {},
     "output_type": "execute_result"
    }
   ],
   "source": [
    "def core_library_functions(library_name):\n",
    "\n",
    "    # Create a library\n",
    "    print (f\"\\n > Creating library {library_name}...\")\n",
    "    library = Library().create_new_library(library_name)\n",
    "\n",
    "    # Load an existing library. This not required after library creation and is only shown here for reference\n",
    "    library = Library().load_library(library_name)\n",
    "\n",
    "    # The LibraryCatalog is used to query all libraries\n",
    "    print (f\"\\n > All libraries\")\n",
    "    library_cards = LibraryCatalog().all_library_cards()\n",
    "    for library_card in library_cards:\n",
    "        lib_name = library_card[\"library_name\"]\n",
    "        docs = library_card[\"documents\"]\n",
    "        print (f\"  - {lib_name} ({docs} documents)\")\n",
    "\n",
    "    # Add a few files to our library\n",
    "    print (f\"\\n > Adding some files to {library_name}\")\n",
    "    sample_files_path = Setup().load_sample_files()\n",
    "    library.add_files(os.path.join(sample_files_path,\"SmallLibrary\"))\n",
    "\n",
    "    # View the library card to confirm document, block and other counts\n",
    "    print (f\"\\n > Library Card\")\n",
    "    library_card = library.get_library_card()\n",
    "    library_card[\"_id\"] = str(library_card[\"_id\"]) # The _id needs to be converted to a str before printing\n",
    "    print (json.dumps(library_card, indent=2))\n",
    " \n",
    "    # Library Export to JSON\n",
    "    print (f\"\\n > Exporting library to jsonl file...\")\n",
    "    temp_export_dir = LLMWareConfig().get_tmp_path()\n",
    "    json_export_path = library.export_library_to_jsonl_file(temp_export_dir, \"lib_export\")\n",
    "    print (f\" - library exported to {json_export_path}\")\n",
    "    \n",
    "    # Library export to txt file\n",
    "    print (f\"\\n > Exporting library to text file...\")\n",
    "    text_export_path = library.export_library_to_txt_file(temp_export_dir, \"lib_export\")\n",
    "    print (f\" - library exported to {text_export_path}\")\n",
    "\n",
    "    # check out the images extracted\n",
    "    print (f\"\\n images extracted and saved at local path - {library.image_path}\")\n",
    "\n",
    "    # Delete the library\n",
    "    # print (f\"\\n > Deleting the library...\")\n",
    "    # note: for safety: set the confirm_delete=True when/if you want to delete\n",
    "    library.delete_library(confirm_delete=False)\n",
    "\n",
    "    return library_name\n",
    "\n",
    "core_library_functions\n"
   ]
  },
  {
   "cell_type": "code",
   "execution_count": 25,
   "metadata": {
    "tags": []
   },
   "outputs": [
    {
     "name": "stdout",
     "output_type": "stream",
     "text": [
      "\n",
      " > Creating library library_tests2...\n",
      "\n",
      " > All libraries\n",
      "  - example1_library (84 documents)\n",
      "  - example2_library (18 documents)\n",
      "  - example4_library (15 documents)\n",
      "  - example_5_library (15 documents)\n",
      "  - example6_library (81 documents)\n",
      "  - aws_transcripts_lib_1 (124 documents)\n",
      "  - financial_docs_library (14 documents)\n",
      "  - library_tests2 (8 documents)\n",
      "\n",
      " > Adding some files to library_tests2\n",
      "\n",
      " > Library Card\n",
      "{\n",
      "  \"_id\": \"8\",\n",
      "  \"library_name\": \"library_tests2\",\n",
      "  \"embedding\": [\n",
      "    {\n",
      "      \"embedding_status\": \"no\",\n",
      "      \"embedding_model\": \"none\",\n",
      "      \"embedding_db\": \"none\",\n",
      "      \"embedded_blocks\": 0,\n",
      "      \"embedding_dims\": 0,\n",
      "      \"time_stamp\": \"NA\"\n",
      "    }\n",
      "  ],\n",
      "  \"knowledge_graph\": \"no\",\n",
      "  \"unique_doc_id\": 8,\n",
      "  \"documents\": 8,\n",
      "  \"blocks\": 260,\n",
      "  \"images\": 9,\n",
      "  \"pages\": 38,\n",
      "  \"tables\": 1,\n",
      "  \"account_name\": \"llmware\"\n",
      "}\n",
      "\n",
      " > Exporting library to jsonl file...\n",
      " - library exported to C:\\Users\\hsyyu\\llmware_data\\tmp\\lib_export.jsonl\n",
      "\n",
      " > Exporting library to text file...\n",
      " - library exported to C:\\Users\\hsyyu\\llmware_data\\tmp\\lib_export.txt\n",
      "\n",
      " images extracted and saved at local path - C:\\Users\\hsyyu\\llmware_data\\accounts\\llmware\\library_tests2\\images\\\n"
     ]
    }
   ],
   "source": [
    "if __name__ == \"__main__\":\n",
    "\n",
    "    #   set the database to be used to store Library text collection\n",
    "    #   3 supported options:  MongoDB, Postgres, SQLite\n",
    "    #   MongoDB and Postgres require separate install, while SQLite is no-install/setup\n",
    "\n",
    "    LLMWareConfig().set_active_db(\"sqlite\")\n",
    "\n",
    "    core_library_functions(\"library_tests2\")"
   ]
  },
  {
   "cell_type": "code",
   "execution_count": 19,
   "metadata": {
    "tags": []
   },
   "outputs": [
    {
     "name": "stdout",
     "output_type": "stream",
     "text": [
      "Creating a new library...\n"
     ]
    },
    {
     "ename": "NameError",
     "evalue": "name 'library_name' is not defined",
     "output_type": "error",
     "traceback": [
      "\u001b[1;31m---------------------------------------------\u001b[0m",
      "\u001b[1;31mNameError\u001b[0m   Traceback (most recent call last)",
      "Cell \u001b[1;32mIn[19], line 53\u001b[0m\n\u001b[0;32m     49\u001b[0m     \u001b[38;5;28mprint\u001b[39m(\u001b[38;5;124m\"\u001b[39m\u001b[38;5;124mLibrary deleted.\u001b[39m\u001b[38;5;124m\"\u001b[39m)\n\u001b[0;32m     51\u001b[0m     \u001b[38;5;28;01mreturn\u001b[39;00m library_name\n\u001b[1;32m---> 53\u001b[0m \u001b[43msome_function\u001b[49m\u001b[43m(\u001b[49m\u001b[43m)\u001b[49m\n",
      "Cell \u001b[1;32mIn[19], line 3\u001b[0m, in \u001b[0;36msome_function\u001b[1;34m()\u001b[0m\n\u001b[0;32m      1\u001b[0m \u001b[38;5;28;01mdef\u001b[39;00m \u001b[38;5;21msome_function\u001b[39m():\n\u001b[0;32m      2\u001b[0m     \u001b[38;5;28mprint\u001b[39m(\u001b[38;5;124m\"\u001b[39m\u001b[38;5;124mCreating a new library...\u001b[39m\u001b[38;5;124m\"\u001b[39m)\n\u001b[1;32m----> 3\u001b[0m     library \u001b[38;5;241m=\u001b[39m Library()\u001b[38;5;241m.\u001b[39mcreate_new_library(\u001b[43mlibrary_name\u001b[49m)\n\u001b[0;32m      4\u001b[0m     \u001b[38;5;28mprint\u001b[39m(\u001b[38;5;124m\"\u001b[39m\u001b[38;5;124mNew library created.\u001b[39m\u001b[38;5;124m\"\u001b[39m)\n\u001b[0;32m      6\u001b[0m     \u001b[38;5;66;03m# Load an existing library. This not required after library creation and is only shown here for reference\u001b[39;00m\n",
      "\u001b[1;31mNameError\u001b[0m: name 'library_name' is not defined"
     ]
    }
   ],
   "source": [
    "def some_function():\n",
    "    print(\"Creating a new library...\")\n",
    "    library = Library().create_new_library(library_name)\n",
    "    print(\"New library created.\")\n",
    "\n",
    "    # Load an existing library. This not required after library creation and is only shown here for reference\n",
    "    print(\"Loading an existing library...\")\n",
    "    library = Library().load_library(library_name)\n",
    "    print(\"Existing library loaded.\")\n",
    "\n",
    "    # The LibraryCatalog is used to query all libraries\n",
    "    print(\"\\n > All libraries\")\n",
    "    library_cards = LibraryCatalog().all_library_cards()\n",
    "    for library_card in library_cards:\n",
    "        lib_name = library_card[\"library_name\"]\n",
    "        docs = library_card[\"documents\"]\n",
    "        print(f\"  - {lib_name} ({docs} documents)\")\n",
    "\n",
    "    # Add a few files to our library\n",
    "    print(f\"\\n > Adding some files to {library_name}\")\n",
    "    sample_files_path = Setup().load_sample_files()\n",
    "    library.add_files(os.path.join(sample_files_path, \"SmallLibrary\"))\n",
    "    print(\"Files added to the library.\")\n",
    "\n",
    "    # View the library card to confirm document, block and other counts\n",
    "    print(\"\\n > Library Card\")\n",
    "    library_card = library.get_library_card()\n",
    "    library_card[\"_id\"] = str(library_card[\"_id\"])  # The _id needs to be converted to a str before printing\n",
    "    print(json.dumps(library_card, indent=2))\n",
    "\n",
    "    # Library Export to JSON\n",
    "    print(\"\\n > Exporting library to jsonl file...\")\n",
    "    temp_export_dir = LLMWareConfig().get_tmp_path()\n",
    "    json_export_path = library.export_library_to_jsonl_file(temp_export_dir, \"lib_export\")\n",
    "    print(f\" - library exported to {json_export_path}\")\n",
    "\n",
    "    # Library export to txt file\n",
    "    print(\"\\n > Exporting library to text file...\")\n",
    "    text_export_path = library.export_library_to_txt_file(temp_export_dir, \"lib_export\")\n",
    "    print(f\" - library exported to {text_export_path}\")\n",
    "\n",
    "    # check out the images extracted\n",
    "    print(f\"\\n images extracted and saved at local path - {library.image_path}\")\n",
    "\n",
    "    # Delete the library\n",
    "    # print (f\"\\n > Deleting the library...\")\n",
    "    # note: for safety: set the confirm_delete=True when/if you want to delete\n",
    "    library.delete_library(confirm_delete=False)\n",
    "    print(\"Library deleted.\")\n",
    "\n",
    "    return library_name\n",
    "\n",
    "some_function()"
   ]
  },
  {
   "cell_type": "code",
   "execution_count": 22,
   "metadata": {
    "tags": []
   },
   "outputs": [
    {
     "name": "stdout",
     "output_type": "stream",
     "text": [
      "\n",
      " > Creating library library_tests2...\n",
      "\n",
      " > All libraries\n",
      "  - example1_library (84 documents)\n",
      "  - example2_library (18 documents)\n",
      "  - example4_library (15 documents)\n",
      "  - example_5_library (15 documents)\n",
      "  - example6_library (81 documents)\n",
      "  - aws_transcripts_lib_1 (124 documents)\n",
      "  - financial_docs_library (14 documents)\n",
      "  - library_tests2 (0 documents)\n",
      "\n",
      " > Adding some files to library_tests2\n",
      "\n",
      " > Library Card\n",
      "{\n",
      "  \"_id\": \"8\",\n",
      "  \"library_name\": \"library_tests2\",\n",
      "  \"embedding\": [\n",
      "    {\n",
      "      \"embedding_status\": \"no\",\n",
      "      \"embedding_model\": \"none\",\n",
      "      \"embedding_db\": \"none\",\n",
      "      \"embedded_blocks\": 0,\n",
      "      \"embedding_dims\": 0,\n",
      "      \"time_stamp\": \"NA\"\n",
      "    }\n",
      "  ],\n",
      "  \"knowledge_graph\": \"no\",\n",
      "  \"unique_doc_id\": 8,\n",
      "  \"documents\": 8,\n",
      "  \"blocks\": 260,\n",
      "  \"images\": 9,\n",
      "  \"pages\": 38,\n",
      "  \"tables\": 1,\n",
      "  \"account_name\": \"llmware\"\n",
      "}\n",
      "\n",
      " > Exporting library to jsonl file...\n",
      " - library exported to C:\\Users\\hsyyu\\llmware_data\\tmp\\lib_export.jsonl\n",
      "\n",
      " > Exporting library to text file...\n",
      " - library exported to C:\\Users\\hsyyu\\llmware_data\\tmp\\lib_export.txt\n",
      "\n",
      " images extracted and saved at local path - C:\\Users\\hsyyu\\llmware_data\\accounts\\llmware\\library_tests2\\images\\\n"
     ]
    }
   ],
   "source": [
    "%run working_with_libraries.py"
   ]
  }
 ],
 "metadata": {
  "kernelspec": {
   "display_name": "Python 3 (ipykernel)",
   "language": "python",
   "name": "python3"
  },
  "language_info": {
   "codemirror_mode": {
    "name": "ipython",
    "version": 3
   },
   "file_extension": ".py",
   "mimetype": "text/x-python",
   "name": "python",
   "nbconvert_exporter": "python",
   "pygments_lexer": "ipython3",
   "version": "3.11.9"
  }
 },
 "nbformat": 4,
 "nbformat_minor": 4
}
