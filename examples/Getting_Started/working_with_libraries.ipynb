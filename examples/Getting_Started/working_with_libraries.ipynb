{
 "cells": [
  {
   "cell_type": "markdown",
   "metadata": {},
   "source": [
    "\n",
    " This example shows the basics of working with Libraries.  Library is the main organizing construct for<br>\n",
    "unstructured information in LLMWare.   Users can create one large library with all types of different content, or<br>\n",
    "can create multiple libraries with each library comprising a specific logical collection of information on a<br>\n",
    "particular subject matter, project/case/deal, or even different accounts/users/departments.<br>\n",
    "    Each Library consists of the following components:<br>\n",
    "    1. Collection on a Database - this is the core of the Library, and is created through parsing of documents, which<br>\n",
    "    are then automatically chunked and indexed in a text collection database.  This is the basis for retrieval,<br>\n",
    "    and the collection that will be used as the basis for tracking any number of vector embeddings that can be<br>\n",
    "    attached to a library collection.<br>\n",
    "    2. File archives - found in the llmware_data path, within Accounts, there is a folder structure for each Library.<br>\n",
    "    All file-based artifacts for the Library are organized in these folders, including copies of all files added in<br>\n",
    "    the library (very useful for retrieval-based applications), images extracted and indexed from the source<br>\n",
    "    documents, as well as derived artifacts such as nlp and knowledge graph and datasets.<br>\n",
    "    3. Library Catalog - each Library is registered in the LibraryCatalog table, with a unique library_card that has<br>\n",
    "    the key attributes and statistics of the Library.<br>\n",
    "    When a Library object is passed to the Parser, the parser will automatically route all information into the<br>\n",
    "    Library structure.<br>\n",
    "    The Library also exposes convenience methods to easily install embeddings on a library, including tracking of<br>\n",
    "    incremental progress.<br>\n",
    "    To parse into a Library, there is the very useful convenience methods, \"add_files\" which will invoke the Parser,<br>\n",
    "    collate and route the files within a selected folder path, check for duplicate files, execute the parsing,<br>\n",
    "    text chunking and insertion into the database, and update all of the Library state automatically.<br>\n",
    "    Libraries are the main index constructs that are used in executing a Query.   Pass the library object when<br>\n",
    "    constructing the Query object, and then all retrievals (text, semantic and hybrid) will be executed against<br>\n",
    "    the content in that Library only.<br>\n"
   ]
  },
  {
   "cell_type": "code",
   "execution_count": 1,
   "metadata": {
    "tags": []
   },
   "outputs": [],
   "source": [
    "import json\n",
    "import os\n",
    "from llmware.configs import LLMWareConfig\n",
    "from llmware.library import Library, LibraryCatalog\n",
    "from llmware.setup import Setup"
   ]
  },
  {
   "cell_type": "code",
   "execution_count": 3,
   "metadata": {
    "tags": []
   },
   "outputs": [],
   "source": [
    "def core_library_functions(library_name):\n",
    "\n",
    "    # Create a library\n",
    "    print (f\"\\n > Creating library {library_name}...\")\n",
    "    library = Library().create_new_library(library_name)\n",
    "\n",
    "    # Load an existing library. This not required after library creation and is only shown here for reference\n",
    "    library = Library().load_library(library_name)\n",
    "\n",
    "    # The LibraryCatalog is used to query all libraries\n",
    "    print (f\"\\n > All libraries\")\n",
    "    for library_card in LibraryCatalog().all_library_cards():\n",
    "        lib_name = library_card[\"library_name\"]\n",
    "        docs = library_card[\"documents\"]\n",
    "        print (f\"  - {lib_name} ({docs} documents)\")\n",
    "\n",
    "    # Add a few files to our library\n",
    "    print (f\"\\n > Adding some files to {library_name}\")\n",
    "    sample_files_path = Setup().load_sample_files()\n",
    "    library.add_files(os.path.join(sample_files_path,\"SmallLibrary\"))\n",
    "\n",
    "    # View the library card to confirm document, block and other counts\n",
    "    print (f\"\\n > Library Card\")\n",
    "    library_card = library.get_library_card()\n",
    "    library_card[\"_id\"] = str(library_card[\"_id\"]) # The _id needs to be converted to a str before printing\n",
    "    print (json.dumps(library_card, indent=2))\n",
    " \n",
    "    # Library Export to JSON\n",
    "    print (f\"\\n > Exporting library to jsonl file...\")\n",
    "    temp_export_dir = LLMWareConfig().get_tmp_path()\n",
    "    json_export_path = library.export_library_to_jsonl_file(temp_export_dir, \"lib_export\")\n",
    "    print (f\" - library exported to {json_export_path}\")\n",
    "    \n",
    "    # Library export to txt file\n",
    "    print (f\"\\n > Exporting library to text file...\")\n",
    "    text_export_path = library.export_library_to_txt_file(temp_export_dir, \"lib_export\")\n",
    "    print (f\" - library exported to {text_export_path}\")\n",
    "\n",
    "    # check out the images extracted\n",
    "    print (f\"\\n images extracted and saved at local path - {library.image_path}\")\n",
    "\n",
    "    # Delete the library\n",
    "    # print (f\"\\n > Deleting the library...\")\n",
    "    # note: for safety: set the confirm_delete=True when/if you want to delete\n",
    "    library.delete_library(confirm_delete=False)"
   ]
  },
  {
   "cell_type": "code",
   "execution_count": 5,
   "metadata": {
    "tags": []
   },
   "outputs": [
    {
     "data": {
      "text/plain": [
       "<function __main__.core_library_functions(library_name)>"
      ]
     },
     "execution_count": 5,
     "metadata": {},
     "output_type": "execute_result"
    }
   ],
   "source": [
    "def core_library_functions(library_name):\n",
    "\n",
    "    # Create a library\n",
    "    print (f\"\\n > Creating library {library_name}...\")\n",
    "    library = Library().create_new_library(library_name)\n",
    "\n",
    "    # Load an existing library. This not required after library creation and is only shown here for reference\n",
    "    library = Library().load_library(library_name)\n",
    "\n",
    "    # The LibraryCatalog is used to query all libraries\n",
    "    print (f\"\\n > All libraries\")\n",
    "    library_cards = LibraryCatalog().all_library_cards()\n",
    "    for library_card in library_cards:\n",
    "        lib_name = library_card[\"library_name\"]\n",
    "        docs = library_card[\"documents\"]\n",
    "        print (f\"  - {lib_name} ({docs} documents)\")\n",
    "\n",
    "    # Add a few files to our library\n",
    "    print (f\"\\n > Adding some files to {library_name}\")\n",
    "    sample_files_path = Setup().load_sample_files()\n",
    "    library.add_files(os.path.join(sample_files_path,\"SmallLibrary\"))\n",
    "\n",
    "    # View the library card to confirm document, block and other counts\n",
    "    print (f\"\\n > Library Card\")\n",
    "    library_card = library.get_library_card()\n",
    "    library_card[\"_id\"] = str(library_card[\"_id\"]) # The _id needs to be converted to a str before printing\n",
    "    print (json.dumps(library_card, indent=2))\n",
    " \n",
    "    # Library Export to JSON\n",
    "    print (f\"\\n > Exporting library to jsonl file...\")\n",
    "    temp_export_dir = LLMWareConfig().get_tmp_path()\n",
    "    json_export_path = library.export_library_to_jsonl_file(temp_export_dir, \"lib_export\")\n",
    "    print (f\" - library exported to {json_export_path}\")\n",
    "    \n",
    "    # Library export to txt file\n",
    "    print (f\"\\n > Exporting library to text file...\")\n",
    "    text_export_path = library.export_library_to_txt_file(temp_export_dir, \"lib_export\")\n",
    "    print (f\" - library exported to {text_export_path}\")\n",
    "\n",
    "    # check out the images extracted\n",
    "    print (f\"\\n images extracted and saved at local path - {library.image_path}\")\n",
    "\n",
    "    # Delete the library\n",
    "    # print (f\"\\n > Deleting the library...\")\n",
    "    # note: for safety: set the confirm_delete=True when/if you want to delete\n",
    "    library.delete_library(confirm_delete=False)\n",
    "\n",
    "    return library_name\n",
    "\n",
    "core_library_functions\n"
   ]
  }
 ],
 "metadata": {
  "kernelspec": {
   "display_name": "Python 3 (ipykernel)",
   "language": "python",
   "name": "python3"
  },
  "language_info": {
   "codemirror_mode": {
    "name": "ipython",
    "version": 3
   },
   "file_extension": ".py",
   "mimetype": "text/x-python",
   "name": "python",
   "nbconvert_exporter": "python",
   "pygments_lexer": "ipython3",
   "version": "3.11.4"
  }
 },
 "nbformat": 4,
 "nbformat_minor": 4
}
