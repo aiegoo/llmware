{
 "cells": [
  {
   "cell_type": "code",
   "execution_count": null,
   "id": "4b3bd8b0",
   "metadata": {
    "lines_to_next_cell": 0
   },
   "outputs": [],
   "source": []
  },
  {
   "cell_type": "code",
   "execution_count": null,
   "id": "2ea7cd62",
   "metadata": {},
   "outputs": [],
   "source": [
    "\"\"\" This example shows how to select and set the collection database. The collection DB is used as the primary\n",
    "source of storing text chunks from parsing runs, and organizing into Libraries.  LLMWare supports three\n",
    "collection databases:  MongoDB, Postgres, and SQLite.\n",
    "\n",
    "    For a fast no-install start, we would recommend SQLite.\n",
    "\n",
    "    If you prefer SQL and massive scalability, we would recommend Postgres.\n",
    "\n",
    "    If you prefer no-SQL and combo of scale and flexibility, we would recommend MongoDB.\n",
    "\n",
    "    The LLMWare functions, methods and interfaces to each of the DBs are exactly the same with a\n",
    "    high-level abstraction interface provided within LLMWare CollectionRetrieval and CollectionWriter classes\n",
    "    that handle the implementation-specific details of writing and retrieving from each of these data sources.\n",
    "\n",
    "    While semantic retrieval requires the use of a separate vector database and creating an embedding for the\n",
    "    content in the Library, once the library is created, text search retrieval is available automatically so text\n",
    "    Queries can be run immediately after Parsing.\n",
    "\n",
    "\"\"\""
   ]
  },
  {
   "cell_type": "code",
   "execution_count": 1,
   "id": "59cd7bfd",
   "metadata": {
    "tags": []
   },
   "outputs": [],
   "source": [
    "from llmware.configs import LLMWareConfig"
   ]
  },
  {
   "cell_type": "code",
   "execution_count": 2,
   "id": "424214c2",
   "metadata": {
    "lines_to_next_cell": 2,
    "tags": []
   },
   "outputs": [
    {
     "name": "stdout",
     "output_type": "stream",
     "text": [
      "update: current 'active' collection database -  mongo\n",
      "update: supported collection databases -  ['mongo', 'postgres', 'sqlite']\n"
     ]
    },
    {
     "data": {
      "text/plain": [
       "0"
      ]
     },
     "execution_count": 2,
     "metadata": {},
     "output_type": "execute_result"
    }
   ],
   "source": [
    "def set_collection_database():\n",
    "\n",
    "    #   check the current active db\n",
    "    active_db = LLMWareConfig().get_active_db()\n",
    "\n",
    "    print(\"update: current 'active' collection database - \", active_db)\n",
    "\n",
    "    #   supported db list\n",
    "    supported_db = LLMWareConfig().get_supported_collection_db()\n",
    "\n",
    "    print(\"update: supported collection databases - \", supported_db)\n",
    "\n",
    "    #   set the current active db -> once set, any calls to library / parsing will write to this db\n",
    "    LLMWareConfig.set_active_db(\"sqlite\")\n",
    "\n",
    "    #   change anytime -> going forward, any new libraries will be written to the new db, but existing libraries\n",
    "    #   remain on the previous db\n",
    "    LLMWareConfig.set_active_db(\"postgres\")\n",
    "\n",
    "    return 0\n",
    "    \n",
    "    \n",
    "set_collection_database()\n",
    "    \n"
   ]
  }
 ],
 "metadata": {
  "jupytext": {
   "cell_metadata_filter": "-all",
   "main_language": "python",
   "notebook_metadata_filter": "-all"
  },
  "kernelspec": {
   "display_name": "Python 3 (ipykernel)",
   "language": "python",
   "name": "python3"
  },
  "language_info": {
   "codemirror_mode": {
    "name": "ipython",
    "version": 3
   },
   "file_extension": ".py",
   "mimetype": "text/x-python",
   "name": "python",
   "nbconvert_exporter": "python",
   "pygments_lexer": "ipython3",
   "version": "3.12.3"
  }
 },
 "nbformat": 4,
 "nbformat_minor": 5
}
