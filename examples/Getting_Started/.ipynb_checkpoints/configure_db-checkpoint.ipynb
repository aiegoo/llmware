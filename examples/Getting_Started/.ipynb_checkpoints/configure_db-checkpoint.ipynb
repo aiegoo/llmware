{
 "cells": [
  {
   "cell_type": "code",
   "execution_count": null,
   "id": "4b3bd8b0",
   "metadata": {
    "lines_to_next_cell": 0
   },
   "outputs": [],
   "source": []
  },
  {
   "cell_type": "code",
   "execution_count": null,
   "id": "2ea7cd62",
   "metadata": {},
   "outputs": [],
   "source": [
    "\"\"\" This example shows how to select and set the collection database. The collection DB is used as the primary\n",
    "source of storing text chunks from parsing runs, and organizing into Libraries.  LLMWare supports three\n",
    "collection databases:  MongoDB, Postgres, and SQLite.\n",
    "\n",
    "    For a fast no-install start, we would recommend SQLite.\n",
    "\n",
    "    If you prefer SQL and massive scalability, we would recommend Postgres.\n",
    "\n",
    "    If you prefer no-SQL and combo of scale and flexibility, we would recommend MongoDB.\n",
    "\n",
    "    The LLMWare functions, methods and interfaces to each of the DBs are exactly the same with a\n",
    "    high-level abstraction interface provided within LLMWare CollectionRetrieval and CollectionWriter classes\n",
    "    that handle the implementation-specific details of writing and retrieving from each of these data sources.\n",
    "\n",
    "    While semantic retrieval requires the use of a separate vector database and creating an embedding for the\n",
    "    content in the Library, once the library is created, text search retrieval is available automatically so text\n",
    "    Queries can be run immediately after Parsing.\n",
    "\n",
    "\"\"\""
   ]
  },
  {
   "cell_type": "code",
   "execution_count": null,
   "id": "59cd7bfd",
   "metadata": {},
   "outputs": [],
   "source": [
    "from llmware.configs import LLMWareConfig"
   ]
  },
  {
   "cell_type": "code",
   "execution_count": null,
   "id": "424214c2",
   "metadata": {
    "lines_to_next_cell": 2
   },
   "outputs": [],
   "source": [
    "def set_collection_database():\n",
    "\n",
    "    #   check the current active db\n",
    "    active_db = LLMWareConfig().get_active_db(\"sqlite\")\n",
    "\n",
    "    print(\"update: current 'active' collection database - \", active_db)\n",
    "exrea\n",
    "    #   supported db list\n",
    "    supported_db = LLMWareConfig().get_supported_collection_db()\n",
    "\n",
    "    print(\"update: supported collection databases - \", supported_db)\n",
    "\n",
    "    #   set the current active db -> once set, any calls to library / parsing will write to this db\n",
    "    LLMWareConfig.set_active_db(\"sqlite\")\n",
    "\n",
    "    #   change anytime -> going forward, any new libraries will be written to the new db, but existing libraries\n",
    "    #   remain on the previous db\n",
    "    LLMWareConfig.set_active_db(\"postgres\")\n",
    "\n",
    "    return 0"
   ]
  }
 ],
 "metadata": {
  "jupytext": {
   "cell_metadata_filter": "-all",
   "main_language": "python",
   "notebook_metadata_filter": "-all"
  }
 },
 "nbformat": 4,
 "nbformat_minor": 5
}
