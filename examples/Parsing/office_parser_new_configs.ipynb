{
 "cells": [
  {
   "cell_type": "markdown",
   "metadata": {},
   "source": [
    "\n",
    " Starting with llmware 0.2.8, new configuration options are exposed in the Office parser, with many more to come.<br>\n",
    "    This should not result in any breaking changes in existing code, but only exposes new configuration options.<br>\n",
    "    Note: the configuration options for the Office parser apply to parsing of the following document types:<br>\n",
    "        --  Word Documents   --  .docx<br>\n",
    "        --  Powerpoints      --  .pptx<br>\n",
    "        --  Excel            --  .xlsx<br>\n",
    "  Wherever possible, the configuration options match the PDF parsing configuration options. \n"
   ]
  },
  {
   "cell_type": "code",
   "execution_count": 15,
   "metadata": {
    "tags": []
   },
   "outputs": [
    {
     "name": "stderr",
     "output_type": "stream",
     "text": [
      "'pwd' is not recognized as an internal or external command,\n",
      "operable program or batch file.\n"
     ]
    }
   ],
   "source": [
    "!pwd"
   ]
  },
  {
   "cell_type": "code",
   "execution_count": 5,
   "metadata": {
    "tags": []
   },
   "outputs": [],
   "source": [
    "from llmware.library import Library"
   ]
  },
  {
   "cell_type": "code",
   "execution_count": 17,
   "metadata": {},
   "outputs": [],
   "source": [
    "fp = \"C:/Users/hsyyu/llmware_data/sample_files\""
   ]
  },
  {
   "cell_type": "code",
   "execution_count": 19,
   "metadata": {},
   "outputs": [],
   "source": [
    "lib = Library().create_new_library(\"my_library\")"
   ]
  },
  {
   "cell_type": "markdown",
   "metadata": {},
   "source": [
    "standard call to 'ingest' files into a library (implicitly calls Parser and manages the details)"
   ]
  },
  {
   "cell_type": "code",
   "execution_count": 21,
   "metadata": {},
   "outputs": [
    {
     "data": {
      "text/plain": [
       "{'docs_added': 0,\n",
       " 'blocks_added': 0,\n",
       " 'images_added': 0,\n",
       " 'pages_added': 0,\n",
       " 'tables_added': 0,\n",
       " 'rejected_files': ['SmallLibrary',\n",
       "  'AgreementsLarge',\n",
       "  'AWS-Transcribe',\n",
       "  'UN-Resolutions-500',\n",
       "  'Books',\n",
       "  'metfactory',\n",
       "  'Agreements',\n",
       "  'Images',\n",
       "  'FinDocs',\n",
       "  'Invoices']}"
      ]
     },
     "execution_count": 21,
     "metadata": {},
     "output_type": "execute_result"
    }
   ],
   "source": [
    "lib.add_files(input_folder_path=fp)"
   ]
  },
  {
   "cell_type": "markdown",
   "metadata": {},
   "source": [
    "  new configuration options in Parser class, exposed in .add_files method for convenience, although it can<br>\n",
    "  always be accessed by direct construction of a Parser"
   ]
  },
  {
   "cell_type": "markdown",
   "metadata": {},
   "source": [
    "  CHUNK SIZING - implemented in both PDF and Office parser<br>\n",
    "  Measured in string len characters, e.g., 400 characters as target text chunk size, with max of 600 characters"
   ]
  },
  {
   "cell_type": "markdown",
   "metadata": {},
   "source": [
    "  --  there are 4 text chunking strategies supported in the Office parser:<br>\n",
    "  --   smart_chunking   =   0  -> will stop at the target chunk size (or as close as possible) - breaks words<br>\n",
    "  --   smart_chunking   =   1  -> will stop at the first white space after the target chunk size - preserves words<br>\n",
    "  --   smart_chunking   =   2  -> will look for a natural break, either a \".\" or \"\\r\" or \"\\n\", up to the max size<br>\n",
    "  --   smart_chunking   =   3  -> will follow the structures as set out in the Office XML document"
   ]
  },
  {
   "cell_type": "markdown",
   "metadata": {},
   "source": [
    "  --  note:  this applies to all text content types, but does not apply to tables, which will be parsed and captured<br>\n",
    "      separately as \"table\" content types - and generally table will be kept in a single logical chunk, which may<br>\n",
    "      exceed the limits of the text chunking."
   ]
  },
  {
   "cell_type": "markdown",
   "metadata": {},
   "source": [
    "  -- note: it is possible that the char lengths will vary by 1-3 bytes, as there are safeguards to prevent breaking a<br>\n",
    "      multi-byte utf-8 character.  If there are any breaking changes, they will generally be remediated before<br>\n",
    "      entering the text in the database automatically."
   ]
  },
  {
   "cell_type": "code",
   "execution_count": 23,
   "metadata": {},
   "outputs": [
    {
     "data": {
      "text/plain": [
       "{'docs_added': 0,\n",
       " 'blocks_added': 0,\n",
       " 'images_added': 0,\n",
       " 'pages_added': 0,\n",
       " 'tables_added': 0,\n",
       " 'rejected_files': ['SmallLibrary',\n",
       "  'AgreementsLarge',\n",
       "  'AWS-Transcribe',\n",
       "  'UN-Resolutions-500',\n",
       "  'Books',\n",
       "  'metfactory',\n",
       "  'Agreements',\n",
       "  'Images',\n",
       "  'FinDocs',\n",
       "  'Invoices']}"
      ]
     },
     "execution_count": 23,
     "metadata": {},
     "output_type": "execute_result"
    }
   ],
   "source": [
    "lib.add_files(input_folder_path=fp, chunk_size=400, max_chunk_size=600, smart_chunking=1)"
   ]
  },
  {
   "cell_type": "markdown",
   "metadata": {},
   "source": [
    "  CAPTURE PARAMETERS"
   ]
  },
  {
   "cell_type": "markdown",
   "metadata": {},
   "source": [
    "  --  ability to turn on/off the capture of other features in the parser, e.g, whether to capture images, tables,<br>\n",
    "      and formatted header text (e.g., BOLD, ITALICS and Large Font)"
   ]
  },
  {
   "cell_type": "markdown",
   "metadata": {},
   "source": [
    "  --  if you are only interested in text, then you can turn off these features for faster performance"
   ]
  },
  {
   "cell_type": "code",
   "execution_count": null,
   "metadata": {},
   "outputs": [],
   "source": [
    "lib.add_files(input_folder_path=fp, get_images=False, get_tables=False, get_header_text=False)"
   ]
  },
  {
   "cell_type": "markdown",
   "metadata": {},
   "source": [
    "  ENCODING"
   ]
  },
  {
   "cell_type": "markdown",
   "metadata": {},
   "source": [
    "  --  encoding = \"utf-8\" - new default - supports Western European characters, and many characters across the<br>\n",
    "      wider Unicode set of code points - note: not full support yet for Asian languages and characters"
   ]
  },
  {
   "cell_type": "markdown",
   "metadata": {},
   "source": [
    "  --  right now, the Office parser only supports UTF-8 encoding<br>\n",
    "  --  will explore options to add ASCII 7-bit range in the future<br>\n",
    "  --  if there is a problem parsing the text's UTF-8 character set, then the problematic text is converted to ASCII."
   ]
  },
  {
   "cell_type": "code",
   "execution_count": null,
   "metadata": {},
   "outputs": [],
   "source": [
    "lib.add_files(input_folder_path=fp, encoding=\"utf-8\")"
   ]
  },
  {
   "cell_type": "markdown",
   "metadata": {},
   "source": [
    "  COPY FILES TO LIBRARY"
   ]
  },
  {
   "cell_type": "markdown",
   "metadata": {},
   "source": [
    "  --  by default, input files are collated to different parsers, and then at the end of the process, copied to a<br>\n",
    "      library file structure for convenient future access by the library and for downstream retrieval applications<br>\n",
    "      that query the library, and then want to provide direct access to the files."
   ]
  },
  {
   "cell_type": "markdown",
   "metadata": {},
   "source": [
    "  --  if you do not want to duplicate files, then set copy_files_to_library = False"
   ]
  },
  {
   "cell_type": "code",
   "execution_count": null,
   "metadata": {},
   "outputs": [],
   "source": [
    "lib.add_files(input_folder_path=fp, copy_files_to_library=False)"
   ]
  },
  {
   "cell_type": "markdown",
   "metadata": {},
   "source": [
    "  VERBOSE OUTPUT"
   ]
  },
  {
   "cell_type": "markdown",
   "metadata": {},
   "source": [
    "  --  four modes of output to screen<br>\n",
    "  --  verbose_level   == 0    -> suppresses virtually all output, except major errors/problems<br>\n",
    "  --  verbose_level   == 1    -> displays 1st ten pages of document text in text chunks as parsing<br>\n",
    "  --  verbose_level   == 2    -> displays file name being parsed only<br>\n",
    "  --  verbose_level   == 3    -> deep debugging mode (not recommended) - useful for llmware dev team in tracing errors"
   ]
  },
  {
   "cell_type": "code",
   "execution_count": null,
   "metadata": {},
   "outputs": [],
   "source": [
    "lib.add_files(input_folder_path=fp, verbose_level=2)"
   ]
  }
 ],
 "metadata": {
  "kernelspec": {
   "display_name": "Python 3 (ipykernel)",
   "language": "python",
   "name": "python3"
  },
  "language_info": {
   "codemirror_mode": {
    "name": "ipython",
    "version": 3
   },
   "file_extension": ".py",
   "mimetype": "text/x-python",
   "name": "python",
   "nbconvert_exporter": "python",
   "pygments_lexer": "ipython3",
   "version": "3.11.9"
  }
 },
 "nbformat": 4,
 "nbformat_minor": 4
}
