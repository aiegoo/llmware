{
 "cells": [
  {
   "cell_type": "markdown",
   "metadata": {},
   "source": [
    "\n",
    "This 'Getting Started' example demonstrates how to parse document files into a library<br>\n",
    "      1. Create a library<br>\n",
    "      2. Assemble input files into a single folder path (fp)<br>\n",
    "      3. Pass the folder path to library.add_files(fp) to automatically parse, text chunk, index<br>\n"
   ]
  },
  {
   "cell_type": "code",
   "execution_count": null,
   "metadata": {},
   "outputs": [],
   "source": [
    "import os\n",
    "from llmware.library import Library\n",
    "from llmware.setup import Setup\n",
    "from llmware.configs import LLMWareConfig"
   ]
  },
  {
   "cell_type": "code",
   "execution_count": null,
   "metadata": {},
   "outputs": [],
   "source": [
    "def parsing_documents_into_library(library_name, sample_folder):\n",
    "    print(f\"\\nExample - Parsing Files into Library\")\n",
    "\n",
    "    #   create new library\n",
    "    print (f\"\\nStep 1 - creating library {library_name}\")\n",
    "    library = Library().create_new_library(library_name)\n",
    "\n",
    "    #   load the llmware sample files\n",
    "    #   -- note: if you have used this example previously, UN-Resolutions-500 is new path\n",
    "    #   -- to pull updated sample files, set: 'over_write=True'\n",
    "    sample_files_path = Setup().load_sample_files(over_write=False)\n",
    "    print (f\"Step 2 - loading the llmware sample files and saving at: {sample_files_path}\")\n",
    "\n",
    "    #   note: to replace with your own documents, just point to a local folder path with the documents\n",
    "    ingestion_folder_path = os.path.join(sample_files_path, sample_folder)\n",
    "    print (f\"Step 3 - parsing and indexing files from {ingestion_folder_path}\")\n",
    "\n",
    "    #   add files is the key ingestion method - parses, text chunks and indexes all files in folder\n",
    "    #       --will automatically route to correct parser based on file extension\n",
    "    #       --supported file extensions:  .pdf, .pptx, .docx, .xlsx, .csv, .md, .txt, .json, .wav, and .zip, .jpg, .png\n",
    "    parsing_output = library.add_files(ingestion_folder_path)\n",
    "    print (f\"Step 4 - completed parsing - {parsing_output}\")\n",
    "\n",
    "    #   check the updated library card\n",
    "    updated_library_card = library.get_library_card()\n",
    "    doc_count = updated_library_card[\"documents\"]\n",
    "    block_count = updated_library_card[\"blocks\"]\n",
    "    print(f\"Step 5 - updated library card - documents - {doc_count} - blocks - {block_count} - {updated_library_card}\")\n",
    "\n",
    "    #   check the main folder structure created for the library - check /images to find extracted images\n",
    "    library_path = library.library_main_path\n",
    "    print(f\"Step 6 - library artifacts - including extracted images - saved at folder path - {library_path}\")\n",
    "    return parsing_output"
   ]
  },
  {
   "cell_type": "code",
   "execution_count": null,
   "metadata": {},
   "outputs": [],
   "source": [
    "if __name__ == \"__main__\":\n",
    "\n",
    "    #  note on sample documents - downloaded by Setup()\n",
    "    #       UN-Resolutions-500 is 500 pdf documents\n",
    "    #       Invoices is 40 pdf invoice samples\n",
    "    #       Agreements is ~15 contract documents\n",
    "    #       AgreementsLarge is ~80 contract documents\n",
    "    #       FinDocs is ~15 financial annual reports and earnings\n",
    "    #       SmallLibrary is a mix of ~10 pdf and office documents\n",
    "\n",
    "    # this is a list of document folders that will be pulled down by calling Setup()\n",
    "    sample_folders = [\"Agreements\", \"Invoices\", \"UN-Resolutions-500\", \"SmallLibrary\", \"FinDocs\", \"AgreementsLarge\"]\n",
    "    LLMWareConfig().set_active_db(\"sqlite\")\n",
    "    library_name = \"parsing_test_lib\"\n",
    "    selected_folder = sample_folders[0]\n",
    "    output = parsing_documents_into_library(library_name, selected_folder)"
   ]
  }
 ],
 "metadata": {
  "kernelspec": {
   "display_name": "Python 3 (ipykernel)",
   "language": "python",
   "name": "python3"
  },
  "language_info": {
   "codemirror_mode": {
    "name": "ipython",
    "version": 3
   },
   "file_extension": ".py",
   "mimetype": "text/x-python",
   "name": "python",
   "nbconvert_exporter": "python",
   "pygments_lexer": "ipython3",
   "version": "3.11.9"
  }
 },
 "nbformat": 4,
 "nbformat_minor": 4
}
