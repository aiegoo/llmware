{
 "cells": [
  {
   "cell_type": "markdown",
   "metadata": {},
   "source": [
    "\n",
    " This example demonstrates how to parse PDF documents consisting of scanned pages using OCR<br>\n",
    "    Parsing a PDF-by-OCR is much slower and loses metadata, compared with a digital parse - but this is a<br>\n",
    "    necessary fall-back for many 'paper-scanned' PDFs, or in the relatively rare cases in which<br>\n",
    "    digital parsing is not successful<br>\n",
    "    NOTE:  there are several dependencies that must be installed to run this example:<br>\n",
    "    pip install:<br>\n",
    "        -- pip3 install pytesseract<br>\n",
    "        -- pip3 install pdf2image<br>\n",
    "    core libraries:<br>\n",
    "        -- tesseract: e.g., (Mac OS) - brew install tesseract or (Linux) - sudo apt install tesseract<br>\n",
    "        -- poppler:   e.g., (Mac OS) - brew install poppler or (Linux) - sudo apt-get install -y poppler-utils<br>\n",
    "                     for Windows download see - https://poppler.freedesktop.org/<br>\n"
   ]
  },
  {
   "cell_type": "code",
   "execution_count": null,
   "metadata": {},
   "outputs": [],
   "source": [
    "import os\n",
    "import time"
   ]
  },
  {
   "cell_type": "code",
   "execution_count": null,
   "metadata": {},
   "outputs": [],
   "source": [
    "from llmware.parsers import Parser\n",
    "from llmware.setup import Setup"
   ]
  },
  {
   "cell_type": "code",
   "execution_count": null,
   "metadata": {},
   "outputs": [],
   "source": [
    "from importlib import util\n",
    "if not util.find_spec(\"pytesseract\") or not util.find_spec(\"pdf2image\"):\n",
    "    print(\"\\nto run this example, please install pytesseract and pdf2image - and there may be core libraries \"\n",
    "          \"that need to be installed as well - see comments above more details.\")"
   ]
  },
  {
   "cell_type": "code",
   "execution_count": null,
   "metadata": {},
   "outputs": [],
   "source": [
    "def parsing_pdf_by_ocr ():\n",
    "    print(f\"Example - Parsing PDF with Scanned Pages\")\n",
    "\n",
    "    # Load the llmware sample files\n",
    "    print (f\"\\nstep 1 - loading the llmware sample files\")\n",
    "    sample_files_path = Setup().load_sample_files()\n",
    "    print (f\"step 2 - llmware sample files saved locally at: {sample_files_path}\")\n",
    "\n",
    "    # Parse individual documents. The output will be a list of blocks (dicts with metadata)\n",
    "    ingestion_file_path = os.path.join(sample_files_path,\"Agreements\")\n",
    "    files = os.listdir(ingestion_file_path)\n",
    "    parser = Parser()\n",
    "    for i, doc in enumerate(files):\n",
    "        t0 = time.time()\n",
    "        print(f\"\\nProcessing file - {i} - {doc}\")\n",
    "        parser_output = parser.parse_one_pdf_by_ocr_images(ingestion_file_path, doc,save_history=True)\n",
    "        if parser_output:\n",
    "            print(f\"Completed parsing - {doc} - time - {time.time()-t0} - blocks created - {len(parser_output)}\")\n",
    "\n",
    "            # to see the full output of the blocks created - uncomment this section\n",
    "            \"\"\"\n",
    "            for j, entries in enumerate(parser_output):\n",
    "                print(f\"parsed blocks created: {j} - {entries}\")\n",
    "            \"\"\"\n",
    "    return 0"
   ]
  }
 ],
 "metadata": {
  "kernelspec": {
   "display_name": "Python 3 (ipykernel)",
   "language": "python",
   "name": "python3"
  },
  "language_info": {
   "codemirror_mode": {
    "name": "ipython",
    "version": 3
   },
   "file_extension": ".py",
   "mimetype": "text/x-python",
   "name": "python",
   "nbconvert_exporter": "python",
   "pygments_lexer": "ipython3",
   "version": "3.11.9"
  }
 },
 "nbformat": 4,
 "nbformat_minor": 4
}
