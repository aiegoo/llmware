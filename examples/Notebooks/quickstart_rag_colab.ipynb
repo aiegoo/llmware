{
 "cells": [
  {
   "cell_type": "markdown",
   "metadata": {
    "id": "zECN53X4Wf7M"
   },
   "source": [
    "**Quick Start for RAG with `llmware`**\n",
    "\n",
    "This example illustrates a simple contract analysis using a small RAG-optimized LLM running locally\n",
    "\n",
    "*Note: Colab's built-in Python 3.10 comes with a newer version of `grcpio` (1.60) which is incompatible with a dependency of llmware. Downgrading `grcpio` requires a restart afterwards.*"
   ]
  },
  {
   "cell_type": "code",
   "execution_count": 1,
   "metadata": {
    "colab": {
     "base_uri": "https://localhost:8080/"
    },
    "id": "nGD_UZh4IfYm",
    "outputId": "3f74b4f8-1457-4559-faf1-7cf903abbe9e",
    "tags": []
   },
   "outputs": [
    {
     "name": "stdout",
     "output_type": "stream",
     "text": [
      "Python 3.11.9\n"
     ]
    }
   ],
   "source": [
    "!python -V"
   ]
  },
  {
   "cell_type": "code",
   "execution_count": 3,
   "metadata": {
    "id": "971vCYB51IqI",
    "tags": []
   },
   "outputs": [
    {
     "name": "stdout",
     "output_type": "stream",
     "text": [
      "Requirement already satisfied: grpcio<=1.60.0,>=1.49.1 in c:\\users\\hsyyu\\anaconda3\\lib\\site-packages (1.60.0)\n",
      "Note: you may need to restart the kernel to use updated packages.\n"
     ]
    },
    {
     "name": "stderr",
     "output_type": "stream",
     "text": [
      "ERROR: Cannot uninstall 'TBB'. It is a distutils installed project and thus we cannot accurately determine which files belong to it which would lead to only a partial uninstall.\n"
     ]
    }
   ],
   "source": [
    "%pip install \"grpcio<=1.60.0,>=1.49.1\" --no-cache-dir\n",
    "!pip install -q llmware\n"
   ]
  },
  {
   "cell_type": "markdown",
   "metadata": {
    "id": "SKBTfwyTDr6F"
   },
   "source": [
    "🛑 In Colab click Runtime > Restart session and run all"
   ]
  },
  {
   "cell_type": "code",
   "execution_count": 5,
   "metadata": {
    "colab": {
     "base_uri": "https://localhost:8080/"
    },
    "id": "RoFBsyUgyJni",
    "outputId": "956f1d28-5160-45aa-e53a-00ebe8a60c75",
    "tags": []
   },
   "outputs": [
    {
     "name": "stderr",
     "output_type": "stream",
     "text": [
      "ERROR: Cannot uninstall 'TBB'. It is a distutils installed project and thus we cannot accurately determine which files belong to it which would lead to only a partial uninstall.\n"
     ]
    }
   ],
   "source": [
    "!pip install -q llmware"
   ]
  },
  {
   "cell_type": "code",
   "execution_count": 7,
   "metadata": {
    "colab": {
     "base_uri": "https://localhost:8080/",
     "height": 1000,
     "referenced_widgets": [
      "f34b375b7e464941b06fa55056186b1c",
      "0878975b308f410a9cd80c1f150f8edc",
      "353c350eec234922bcce1fd87b641be9",
      "c8238e040b8e4ebfade1b1f84bf3b9d4",
      "a1bfe7fb8dcf40f6956aadf34d879711",
      "881d89a137ab4a54b629cbaed4a5d116",
      "fc4f680743e149e7a329b3028d6aad10",
      "a93ea4fd7e314034b832f52766ffa741",
      "ad37d5cf8b714c038954998e094d8513",
      "b6e5202476c2459a96fd15f7c6e90173",
      "49620f0b97394ef6ab921b15beec8069",
      "fe76443ff5ae41268a310dea485a30a4",
      "ccb677fac5bc48b8ba2c5da953052c93",
      "21d7dc2e713c4ccf8b426e2bf16012fe",
      "413fbbae136a4c24b7153ef3017325f1",
      "5cfb42aa18244f57bcb799c6d17f1347",
      "406d86667d234d9aaff0ca844f14e402",
      "4f3d19d7e8f24fdb8d39a7a14e302338",
      "8f21514be40747f887f161a21698173d",
      "c90c25225aac40078311d8ee63a27892",
      "a740788a38604222b5594b999b70f0c8",
      "f9f989043c0d4312a656bb1f5a15a1da",
      "056b709c53a14074a1b295ad66a7e0a0",
      "f512d6a27ce245c6918a2f05f1b87a9d",
      "8ae4150d5f784bd4a56a4a42fe588b48",
      "cc2aa420b4cd44f0988ea1f6ee73d479",
      "e0b44f199ee54c58a0bcdb119cec52ef",
      "7e8a32daccbf4d7ab23bc5d587faacfd",
      "35e2957dc115421bba4a68399a51c9c9",
      "9378f057e81148869421d38c6e3d73ce",
      "e4c7f46621c945a690c55ed47c34dc77",
      "cf0d2867b8304913a2fad9e5115bfde8",
      "c113e36bd5704df4b30922533cddc88f"
     ]
    },
    "id": "cqWRMrztyCfR",
    "outputId": "8a22a3a0-09e4-48b0-bd11-44f129abc73d",
    "tags": []
   },
   "outputs": [
    {
     "name": "stdout",
     "output_type": "stream",
     "text": [
      "\n",
      " > Loading the llmware sample files...\n",
      "\n",
      " > Loading model llmware/bling-1b-0.1...\n"
     ]
    },
    {
     "name": "stderr",
     "output_type": "stream",
     "text": [
      "C:\\Users\\hsyyu\\AppData\\Roaming\\Python\\Python311\\site-packages\\huggingface_hub\\file_download.py:1132: FutureWarning: `resume_download` is deprecated and will be removed in version 1.0.0. Downloads always resume when possible. If you want to force a new download, use `force_download=True`.\n",
      "  warnings.warn(\n",
      "C:\\Users\\hsyyu\\AppData\\Roaming\\Python\\Python311\\site-packages\\huggingface_hub\\file_download.py:1132: FutureWarning: `resume_download` is deprecated and will be removed in version 1.0.0. Downloads always resume when possible. If you want to force a new download, use `force_download=True`.\n",
      "  warnings.warn(\n"
     ]
    },
    {
     "name": "stdout",
     "output_type": "stream",
     "text": [
      "\n",
      "Analyzing contract:  1 aiAgent.pdf\n",
      "LLM Responses:\n"
     ]
    },
    {
     "name": "stderr",
     "output_type": "stream",
     "text": [
      "WARNING:root:No source added in .add_source_document.\n",
      "WARNING:root:No source materials attached to the Prompt. Running prompt_with_source inference without source may lead to unexpected results.\n"
     ]
    },
    {
     "name": "stdout",
     "output_type": "stream",
     "text": [
      "ai at the edge : Blerp is a company that provides a platform for the development of mobile applications.\n",
      "ai agent : Not Found.\n"
     ]
    },
    {
     "name": "stderr",
     "output_type": "stream",
     "text": [
      "WARNING:root:No source added in .add_source_document.\n",
      "WARNING:root:No source materials attached to the Prompt. Running prompt_with_source inference without source may lead to unexpected results.\n"
     ]
    },
    {
     "name": "stdout",
     "output_type": "stream",
     "text": [
      "langchain : Language chain is a term used to describe the process of translating a language into another language.\n",
      "\n",
      "Analyzing contract:  2 aiEdge.pdf\n",
      "LLM Responses:\n",
      "ai at the edge : Business Language and Reasoning Platform.\n"
     ]
    },
    {
     "name": "stderr",
     "output_type": "stream",
     "text": [
      "WARNING:root:No source added in .add_source_document.\n",
      "WARNING:root:No source materials attached to the Prompt. Running prompt_with_source inference without source may lead to unexpected results.\n"
     ]
    },
    {
     "name": "stdout",
     "output_type": "stream",
     "text": [
      "ai agent : Not Found.\n"
     ]
    },
    {
     "name": "stderr",
     "output_type": "stream",
     "text": [
      "WARNING:root:No source added in .add_source_document.\n",
      "WARNING:root:No source materials attached to the Prompt. Running prompt_with_source inference without source may lead to unexpected results.\n"
     ]
    },
    {
     "name": "stdout",
     "output_type": "stream",
     "text": [
      "langchain : Language chain is a term used to describe the process of translating a language into another language.\n",
      "\n",
      "Analyzing contract:  3 Amphitrite EXECUTIVE EMPLOYMENT AGREEMENT.pdf\n",
      "LLM Responses:\n"
     ]
    },
    {
     "name": "stderr",
     "output_type": "stream",
     "text": [
      "WARNING:root:No source added in .add_source_document.\n",
      "WARNING:root:No source materials attached to the Prompt. Running prompt_with_source inference without source may lead to unexpected results.\n"
     ]
    },
    {
     "name": "stdout",
     "output_type": "stream",
     "text": [
      "ai at the edge : Blerp is a company that provides a platform for the development of mobile applications.\n"
     ]
    },
    {
     "name": "stderr",
     "output_type": "stream",
     "text": [
      "WARNING:root:No source added in .add_source_document.\n",
      "WARNING:root:No source materials attached to the Prompt. Running prompt_with_source inference without source may lead to unexpected results.\n"
     ]
    },
    {
     "name": "stdout",
     "output_type": "stream",
     "text": [
      "ai agent : Not Found.\n"
     ]
    },
    {
     "name": "stderr",
     "output_type": "stream",
     "text": [
      "WARNING:root:No source added in .add_source_document.\n",
      "WARNING:root:No source materials attached to the Prompt. Running prompt_with_source inference without source may lead to unexpected results.\n"
     ]
    },
    {
     "name": "stdout",
     "output_type": "stream",
     "text": [
      "langchain : Language chain is a term used to describe the process of translating a language into another language.\n",
      "\n",
      "Analyzing contract:  4 Aphrodite EXECUTIVE EMPLOYMENT AGREEMENT.pdf\n",
      "LLM Responses:\n"
     ]
    },
    {
     "name": "stderr",
     "output_type": "stream",
     "text": [
      "WARNING:root:No source added in .add_source_document.\n",
      "WARNING:root:No source materials attached to the Prompt. Running prompt_with_source inference without source may lead to unexpected results.\n"
     ]
    },
    {
     "name": "stdout",
     "output_type": "stream",
     "text": [
      "ai at the edge : Blerp is a company that provides a platform for the development of mobile applications.\n"
     ]
    },
    {
     "name": "stderr",
     "output_type": "stream",
     "text": [
      "WARNING:root:No source added in .add_source_document.\n",
      "WARNING:root:No source materials attached to the Prompt. Running prompt_with_source inference without source may lead to unexpected results.\n"
     ]
    },
    {
     "name": "stdout",
     "output_type": "stream",
     "text": [
      "ai agent : Not Found.\n"
     ]
    },
    {
     "name": "stderr",
     "output_type": "stream",
     "text": [
      "WARNING:root:No source added in .add_source_document.\n",
      "WARNING:root:No source materials attached to the Prompt. Running prompt_with_source inference without source may lead to unexpected results.\n"
     ]
    },
    {
     "name": "stdout",
     "output_type": "stream",
     "text": [
      "langchain : Language chain is a term used to describe the process of translating a language into another language.\n",
      "\n",
      "Analyzing contract:  5 Apollo EXECUTIVE EMPLOYMENT AGREEMENT.pdf\n",
      "LLM Responses:\n"
     ]
    },
    {
     "name": "stderr",
     "output_type": "stream",
     "text": [
      "WARNING:root:No source added in .add_source_document.\n",
      "WARNING:root:No source materials attached to the Prompt. Running prompt_with_source inference without source may lead to unexpected results.\n"
     ]
    },
    {
     "name": "stdout",
     "output_type": "stream",
     "text": [
      "ai at the edge : Blerp is a company that provides a platform for the development of mobile applications.\n"
     ]
    },
    {
     "name": "stderr",
     "output_type": "stream",
     "text": [
      "WARNING:root:No source added in .add_source_document.\n",
      "WARNING:root:No source materials attached to the Prompt. Running prompt_with_source inference without source may lead to unexpected results.\n"
     ]
    },
    {
     "name": "stdout",
     "output_type": "stream",
     "text": [
      "ai agent : Not Found.\n"
     ]
    },
    {
     "name": "stderr",
     "output_type": "stream",
     "text": [
      "WARNING:root:No source added in .add_source_document.\n",
      "WARNING:root:No source materials attached to the Prompt. Running prompt_with_source inference without source may lead to unexpected results.\n"
     ]
    },
    {
     "name": "stdout",
     "output_type": "stream",
     "text": [
      "langchain : Language chain is a term used to describe the process of translating a language into another language.\n",
      "\n",
      "Analyzing contract:  6 Artemis Poseidon EXECUTIVE EMPLOYMENT AGREEMENT.pdf\n",
      "LLM Responses:\n"
     ]
    },
    {
     "name": "stderr",
     "output_type": "stream",
     "text": [
      "WARNING:root:No source added in .add_source_document.\n",
      "WARNING:root:No source materials attached to the Prompt. Running prompt_with_source inference without source may lead to unexpected results.\n"
     ]
    },
    {
     "name": "stdout",
     "output_type": "stream",
     "text": [
      "ai at the edge : Blerp is a company that provides a platform for the development of mobile applications.\n"
     ]
    },
    {
     "name": "stderr",
     "output_type": "stream",
     "text": [
      "WARNING:root:No source added in .add_source_document.\n",
      "WARNING:root:No source materials attached to the Prompt. Running prompt_with_source inference without source may lead to unexpected results.\n"
     ]
    },
    {
     "name": "stdout",
     "output_type": "stream",
     "text": [
      "ai agent : Not Found.\n"
     ]
    },
    {
     "name": "stderr",
     "output_type": "stream",
     "text": [
      "WARNING:root:No source added in .add_source_document.\n",
      "WARNING:root:No source materials attached to the Prompt. Running prompt_with_source inference without source may lead to unexpected results.\n"
     ]
    },
    {
     "name": "stdout",
     "output_type": "stream",
     "text": [
      "langchain : Language chain is a term used to describe the process of translating a language into another language.\n",
      "\n",
      "Analyzing contract:  7 Athena EXECUTIVE EMPLOYMENT AGREEMENT.pdf\n",
      "LLM Responses:\n"
     ]
    },
    {
     "name": "stderr",
     "output_type": "stream",
     "text": [
      "WARNING:root:No source added in .add_source_document.\n",
      "WARNING:root:No source materials attached to the Prompt. Running prompt_with_source inference without source may lead to unexpected results.\n"
     ]
    },
    {
     "name": "stdout",
     "output_type": "stream",
     "text": [
      "ai at the edge : Blerp is a company that provides a platform for the development of mobile applications.\n"
     ]
    },
    {
     "name": "stderr",
     "output_type": "stream",
     "text": [
      "WARNING:root:No source added in .add_source_document.\n",
      "WARNING:root:No source materials attached to the Prompt. Running prompt_with_source inference without source may lead to unexpected results.\n"
     ]
    },
    {
     "name": "stdout",
     "output_type": "stream",
     "text": [
      "ai agent : Not Found.\n"
     ]
    },
    {
     "name": "stderr",
     "output_type": "stream",
     "text": [
      "WARNING:root:No source added in .add_source_document.\n",
      "WARNING:root:No source materials attached to the Prompt. Running prompt_with_source inference without source may lead to unexpected results.\n"
     ]
    },
    {
     "name": "stdout",
     "output_type": "stream",
     "text": [
      "langchain : Language chain is a term used to describe the process of translating a language into another language.\n",
      "\n",
      "Analyzing contract:  8 Bia EXECUTIVE EMPLOYMENT AGREEMENT.pdf\n",
      "LLM Responses:\n"
     ]
    },
    {
     "name": "stderr",
     "output_type": "stream",
     "text": [
      "WARNING:root:No source added in .add_source_document.\n",
      "WARNING:root:No source materials attached to the Prompt. Running prompt_with_source inference without source may lead to unexpected results.\n"
     ]
    },
    {
     "name": "stdout",
     "output_type": "stream",
     "text": [
      "ai at the edge : Blerp is a company that provides a platform for the development of mobile applications.\n"
     ]
    },
    {
     "name": "stderr",
     "output_type": "stream",
     "text": [
      "WARNING:root:No source added in .add_source_document.\n",
      "WARNING:root:No source materials attached to the Prompt. Running prompt_with_source inference without source may lead to unexpected results.\n"
     ]
    },
    {
     "name": "stdout",
     "output_type": "stream",
     "text": [
      "ai agent : Not Found.\n"
     ]
    },
    {
     "name": "stderr",
     "output_type": "stream",
     "text": [
      "WARNING:root:No source added in .add_source_document.\n",
      "WARNING:root:No source materials attached to the Prompt. Running prompt_with_source inference without source may lead to unexpected results.\n"
     ]
    },
    {
     "name": "stdout",
     "output_type": "stream",
     "text": [
      "langchain : Language chain is a term used to describe the process of translating a language into another language.\n",
      "\n",
      "Analyzing contract:  9 Demeter EXECUTIVE EMPLOYMENT AGREEMENT.pdf\n",
      "LLM Responses:\n"
     ]
    },
    {
     "name": "stderr",
     "output_type": "stream",
     "text": [
      "WARNING:root:No source added in .add_source_document.\n",
      "WARNING:root:No source materials attached to the Prompt. Running prompt_with_source inference without source may lead to unexpected results.\n"
     ]
    },
    {
     "name": "stdout",
     "output_type": "stream",
     "text": [
      "ai at the edge : Blerp is a company that provides a platform for the development of mobile applications.\n"
     ]
    },
    {
     "name": "stderr",
     "output_type": "stream",
     "text": [
      "WARNING:root:No source added in .add_source_document.\n",
      "WARNING:root:No source materials attached to the Prompt. Running prompt_with_source inference without source may lead to unexpected results.\n"
     ]
    },
    {
     "name": "stdout",
     "output_type": "stream",
     "text": [
      "ai agent : Not Found.\n"
     ]
    },
    {
     "name": "stderr",
     "output_type": "stream",
     "text": [
      "WARNING:root:No source added in .add_source_document.\n",
      "WARNING:root:No source materials attached to the Prompt. Running prompt_with_source inference without source may lead to unexpected results.\n"
     ]
    },
    {
     "name": "stdout",
     "output_type": "stream",
     "text": [
      "langchain : Language chain is a term used to describe the process of translating a language into another language.\n",
      "\n",
      "Analyzing contract:  10 Eileithyia EXECUTIVE EMPLOYMENT AGREEMENT.pdf\n",
      "LLM Responses:\n"
     ]
    },
    {
     "name": "stderr",
     "output_type": "stream",
     "text": [
      "WARNING:root:No source added in .add_source_document.\n",
      "WARNING:root:No source materials attached to the Prompt. Running prompt_with_source inference without source may lead to unexpected results.\n"
     ]
    },
    {
     "name": "stdout",
     "output_type": "stream",
     "text": [
      "ai at the edge : Blerp is a company that provides a platform for the development of mobile applications.\n"
     ]
    },
    {
     "name": "stderr",
     "output_type": "stream",
     "text": [
      "WARNING:root:No source added in .add_source_document.\n",
      "WARNING:root:No source materials attached to the Prompt. Running prompt_with_source inference without source may lead to unexpected results.\n"
     ]
    },
    {
     "name": "stdout",
     "output_type": "stream",
     "text": [
      "ai agent : Not Found.\n"
     ]
    },
    {
     "name": "stderr",
     "output_type": "stream",
     "text": [
      "WARNING:root:No source added in .add_source_document.\n",
      "WARNING:root:No source materials attached to the Prompt. Running prompt_with_source inference without source may lead to unexpected results.\n"
     ]
    },
    {
     "name": "stdout",
     "output_type": "stream",
     "text": [
      "langchain : Language chain is a term used to describe the process of translating a language into another language.\n",
      "\n",
      "Analyzing contract:  11 Gaia EXECUTIVE EMPLOYMENT AGREEMENT.pdf\n",
      "LLM Responses:\n"
     ]
    },
    {
     "name": "stderr",
     "output_type": "stream",
     "text": [
      "WARNING:root:No source added in .add_source_document.\n",
      "WARNING:root:No source materials attached to the Prompt. Running prompt_with_source inference without source may lead to unexpected results.\n"
     ]
    },
    {
     "name": "stdout",
     "output_type": "stream",
     "text": [
      "ai at the edge : Blerp is a company that provides a platform for the development of mobile applications.\n"
     ]
    },
    {
     "name": "stderr",
     "output_type": "stream",
     "text": [
      "WARNING:root:No source added in .add_source_document.\n",
      "WARNING:root:No source materials attached to the Prompt. Running prompt_with_source inference without source may lead to unexpected results.\n"
     ]
    },
    {
     "name": "stdout",
     "output_type": "stream",
     "text": [
      "ai agent : Not Found.\n"
     ]
    },
    {
     "name": "stderr",
     "output_type": "stream",
     "text": [
      "WARNING:root:No source added in .add_source_document.\n",
      "WARNING:root:No source materials attached to the Prompt. Running prompt_with_source inference without source may lead to unexpected results.\n"
     ]
    },
    {
     "name": "stdout",
     "output_type": "stream",
     "text": [
      "langchain : Language chain is a term used to describe the process of translating a language into another language.\n",
      "\n",
      "Analyzing contract:  12 Leto EXECUTIVE EMPLOYMENT AGREEMENT.pdf\n",
      "LLM Responses:\n"
     ]
    },
    {
     "name": "stderr",
     "output_type": "stream",
     "text": [
      "WARNING:root:No source added in .add_source_document.\n",
      "WARNING:root:No source materials attached to the Prompt. Running prompt_with_source inference without source may lead to unexpected results.\n"
     ]
    },
    {
     "name": "stdout",
     "output_type": "stream",
     "text": [
      "ai at the edge : Blerp is a company that provides a platform for the development of mobile applications.\n"
     ]
    },
    {
     "name": "stderr",
     "output_type": "stream",
     "text": [
      "WARNING:root:No source added in .add_source_document.\n",
      "WARNING:root:No source materials attached to the Prompt. Running prompt_with_source inference without source may lead to unexpected results.\n"
     ]
    },
    {
     "name": "stdout",
     "output_type": "stream",
     "text": [
      "ai agent : Not Found.\n"
     ]
    },
    {
     "name": "stderr",
     "output_type": "stream",
     "text": [
      "WARNING:root:No source added in .add_source_document.\n",
      "WARNING:root:No source materials attached to the Prompt. Running prompt_with_source inference without source may lead to unexpected results.\n"
     ]
    },
    {
     "name": "stdout",
     "output_type": "stream",
     "text": [
      "langchain : Language chain is a term used to describe the process of translating a language into another language.\n",
      "\n",
      "Analyzing contract:  13 Metis EXECUTIVE EMPLOYMENT AGREEMENT.pdf\n",
      "LLM Responses:\n"
     ]
    },
    {
     "name": "stderr",
     "output_type": "stream",
     "text": [
      "WARNING:root:No source added in .add_source_document.\n",
      "WARNING:root:No source materials attached to the Prompt. Running prompt_with_source inference without source may lead to unexpected results.\n"
     ]
    },
    {
     "name": "stdout",
     "output_type": "stream",
     "text": [
      "ai at the edge : Blerp is a company that provides a platform for the development of mobile applications.\n"
     ]
    },
    {
     "name": "stderr",
     "output_type": "stream",
     "text": [
      "WARNING:root:No source added in .add_source_document.\n",
      "WARNING:root:No source materials attached to the Prompt. Running prompt_with_source inference without source may lead to unexpected results.\n"
     ]
    },
    {
     "name": "stdout",
     "output_type": "stream",
     "text": [
      "ai agent : Not Found.\n"
     ]
    },
    {
     "name": "stderr",
     "output_type": "stream",
     "text": [
      "WARNING:root:No source added in .add_source_document.\n",
      "WARNING:root:No source materials attached to the Prompt. Running prompt_with_source inference without source may lead to unexpected results.\n"
     ]
    },
    {
     "name": "stdout",
     "output_type": "stream",
     "text": [
      "langchain : Language chain is a term used to describe the process of translating a language into another language.\n",
      "\n",
      "Analyzing contract:  14 Nike EXECUTIVE EMPLOYMENT AGREEMENT.pdf\n",
      "LLM Responses:\n"
     ]
    },
    {
     "name": "stderr",
     "output_type": "stream",
     "text": [
      "WARNING:root:No source added in .add_source_document.\n",
      "WARNING:root:No source materials attached to the Prompt. Running prompt_with_source inference without source may lead to unexpected results.\n"
     ]
    },
    {
     "name": "stdout",
     "output_type": "stream",
     "text": [
      "ai at the edge : Blerp is a company that provides a platform for the development of mobile applications.\n"
     ]
    },
    {
     "name": "stderr",
     "output_type": "stream",
     "text": [
      "WARNING:root:No source added in .add_source_document.\n",
      "WARNING:root:No source materials attached to the Prompt. Running prompt_with_source inference without source may lead to unexpected results.\n"
     ]
    },
    {
     "name": "stdout",
     "output_type": "stream",
     "text": [
      "ai agent : Not Found.\n"
     ]
    },
    {
     "name": "stderr",
     "output_type": "stream",
     "text": [
      "WARNING:root:No source added in .add_source_document.\n",
      "WARNING:root:No source materials attached to the Prompt. Running prompt_with_source inference without source may lead to unexpected results.\n"
     ]
    },
    {
     "name": "stdout",
     "output_type": "stream",
     "text": [
      "langchain : Language chain is a term used to describe the process of translating a language into another language.\n",
      "\n",
      "Analyzing contract:  15 Nyx EXECUTIVE EMPLOYMENT AGREEMENT.pdf\n",
      "LLM Responses:\n"
     ]
    },
    {
     "name": "stderr",
     "output_type": "stream",
     "text": [
      "WARNING:root:No source added in .add_source_document.\n",
      "WARNING:root:No source materials attached to the Prompt. Running prompt_with_source inference without source may lead to unexpected results.\n"
     ]
    },
    {
     "name": "stdout",
     "output_type": "stream",
     "text": [
      "ai at the edge : Blerp is a company that provides a platform for the development of mobile applications.\n"
     ]
    },
    {
     "name": "stderr",
     "output_type": "stream",
     "text": [
      "WARNING:root:No source added in .add_source_document.\n",
      "WARNING:root:No source materials attached to the Prompt. Running prompt_with_source inference without source may lead to unexpected results.\n"
     ]
    },
    {
     "name": "stdout",
     "output_type": "stream",
     "text": [
      "ai agent : Not Found.\n"
     ]
    },
    {
     "name": "stderr",
     "output_type": "stream",
     "text": [
      "WARNING:root:No source added in .add_source_document.\n",
      "WARNING:root:No source materials attached to the Prompt. Running prompt_with_source inference without source may lead to unexpected results.\n"
     ]
    },
    {
     "name": "stdout",
     "output_type": "stream",
     "text": [
      "langchain : Language chain is a term used to describe the process of translating a language into another language.\n",
      "\n",
      "Analyzing contract:  16 Persephone EXECUTIVE EMPLOYMENT AGREEMENT.pdf\n",
      "LLM Responses:\n"
     ]
    },
    {
     "name": "stderr",
     "output_type": "stream",
     "text": [
      "WARNING:root:No source added in .add_source_document.\n",
      "WARNING:root:No source materials attached to the Prompt. Running prompt_with_source inference without source may lead to unexpected results.\n"
     ]
    },
    {
     "name": "stdout",
     "output_type": "stream",
     "text": [
      "ai at the edge : Blerp is a company that provides a platform for the development of mobile applications.\n"
     ]
    },
    {
     "name": "stderr",
     "output_type": "stream",
     "text": [
      "WARNING:root:No source added in .add_source_document.\n",
      "WARNING:root:No source materials attached to the Prompt. Running prompt_with_source inference without source may lead to unexpected results.\n"
     ]
    },
    {
     "name": "stdout",
     "output_type": "stream",
     "text": [
      "ai agent : Not Found.\n"
     ]
    },
    {
     "name": "stderr",
     "output_type": "stream",
     "text": [
      "WARNING:root:No source added in .add_source_document.\n",
      "WARNING:root:No source materials attached to the Prompt. Running prompt_with_source inference without source may lead to unexpected results.\n"
     ]
    },
    {
     "name": "stdout",
     "output_type": "stream",
     "text": [
      "langchain : Language chain is a term used to describe the process of translating a language into another language.\n",
      "\n",
      "Analyzing contract:  17 Rhea EXECUTIVE EMPLOYMENT AGREEMENT.pdf\n",
      "LLM Responses:\n"
     ]
    },
    {
     "name": "stderr",
     "output_type": "stream",
     "text": [
      "WARNING:root:No source added in .add_source_document.\n",
      "WARNING:root:No source materials attached to the Prompt. Running prompt_with_source inference without source may lead to unexpected results.\n"
     ]
    },
    {
     "name": "stdout",
     "output_type": "stream",
     "text": [
      "ai at the edge : Blerp is a company that provides a platform for the development of mobile applications.\n"
     ]
    },
    {
     "name": "stderr",
     "output_type": "stream",
     "text": [
      "WARNING:root:No source added in .add_source_document.\n",
      "WARNING:root:No source materials attached to the Prompt. Running prompt_with_source inference without source may lead to unexpected results.\n"
     ]
    },
    {
     "name": "stdout",
     "output_type": "stream",
     "text": [
      "ai agent : Not Found.\n"
     ]
    },
    {
     "name": "stderr",
     "output_type": "stream",
     "text": [
      "WARNING:root:No source added in .add_source_document.\n",
      "WARNING:root:No source materials attached to the Prompt. Running prompt_with_source inference without source may lead to unexpected results.\n",
      "WARNING:root:No source added in .add_source_document.\n"
     ]
    },
    {
     "name": "stdout",
     "output_type": "stream",
     "text": [
      "langchain : Language chain is a term used to describe the process of translating a language into another language.\n",
      "\n",
      "Analyzing contract:  18 Understanding Langchain.txt\n",
      "LLM Responses:\n"
     ]
    },
    {
     "name": "stderr",
     "output_type": "stream",
     "text": [
      "WARNING:root:No source materials attached to the Prompt. Running prompt_with_source inference without source may lead to unexpected results.\n",
      "WARNING:root:No source added in .add_source_document.\n",
      "WARNING:root:No source materials attached to the Prompt. Running prompt_with_source inference without source may lead to unexpected results.\n"
     ]
    },
    {
     "name": "stdout",
     "output_type": "stream",
     "text": [
      "ai at the edge : Blerp is a company that provides a platform for the development of mobile applications.\n",
      "ai agent : Not Found.\n",
      "langchain : Language Model Revolution\n",
      "\n",
      "Prompt state saved at:  C:\\Users\\hsyyu\\llmware_data\\prompt_history\\9abd6818-10cb-47d0-821d-98f91c3922d0\n",
      "csv output saved at:   {'report_name': 'interaction_report_2024-05-17_195821.csv', 'report_fp': 'C:\\\\Users\\\\hsyyu\\\\llmware_data\\\\prompt_history\\\\interaction_report_2024-05-17_195821.csv', 'results': 3}\n"
     ]
    }
   ],
   "source": [
    "# This example illustrates a simple contract analysis\n",
    "# using a small RAG-optimized LLM running locally\n",
    "\n",
    "import os\n",
    "import re\n",
    "from llmware.prompts import Prompt, HumanInTheLoop\n",
    "from llmware.setup import Setup\n",
    "from llmware.configs import LLMWareConfig\n",
    "\n",
    "def contract_analysis_on_laptop (model_name):\n",
    "\n",
    "    # Load the llmware sample files\n",
    "    print (f\"\\n > Loading the llmware sample files...\")\n",
    "    sample_files_path = Setup().load_sample_files()\n",
    "    contracts_path = os.path.join(sample_files_path,\"Agreements\")\n",
    "\n",
    "    # query list\n",
    "    query_list = {\"ai at the edge\": \"what is BLERP?\",\n",
    "                  \"ai agent\": \"when is LLM agent used?\",\n",
    "                  \"langchain\": \"What is the langchain?\"}\n",
    "\n",
    "    print (f\"\\n > Loading model {model_name}...\")\n",
    "\n",
    "    prompter = Prompt().load_model(model_name)\n",
    "\n",
    "    for i, contract in enumerate(os.listdir(contracts_path)):\n",
    "\n",
    "        #   excluding Mac file artifact\n",
    "        if contract != \".DS_Store\":\n",
    "\n",
    "            print(\"\\nAnalyzing contract: \", str(i+1), contract)\n",
    "\n",
    "            print(\"LLM Responses:\")\n",
    "            for key, value in query_list.items():\n",
    "\n",
    "                # contract is parsed, text-chunked, and then filtered by topic key\n",
    "                source = prompter.add_source_document(contracts_path, contract, query=key)\n",
    "\n",
    "                # calling the LLM with 'source' information from the contract automatically packaged into the prompt\n",
    "                responses = prompter.prompt_with_source(value, prompt_name=\"just_the_facts\", temperature=0.3)\n",
    "\n",
    "                for r, response in enumerate(responses):\n",
    "                    print(key, \":\", re.sub(\"[\\n]\",\" \", response[\"llm_response\"]).strip())\n",
    "\n",
    "                # We're done with this contract, clear the source from the prompt\n",
    "                prompter.clear_source_materials()\n",
    "\n",
    "    # Save jsonl report to jsonl to /prompt_history folder\n",
    "    print(\"\\nPrompt state saved at: \", os.path.join(LLMWareConfig.get_prompt_path(),prompter.prompt_id))\n",
    "    prompter.save_state()\n",
    "\n",
    "    # Save csv report that includes the model, response, prompt, and evidence for human-in-the-loop review\n",
    "    csv_output = HumanInTheLoop(prompter).export_current_interaction_to_csv()\n",
    "    print(\"csv output saved at:  \", csv_output)\n",
    "\n",
    "\n",
    "if __name__ == \"__main__\":\n",
    "\n",
    "    # use local cpu model - smallest, fastest (use larger BLING models for higher accuracy)\n",
    "    model = \"llmware/bling-1b-0.1\"\n",
    "\n",
    "    contract_analysis_on_laptop(model)"
   ]
  }
 ],
 "metadata": {
  "colab": {
   "provenance": []
  },
  "kernelspec": {
   "display_name": "Python 3 (ipykernel)",
   "language": "python",
   "name": "python3"
  },
  "language_info": {
   "codemirror_mode": {
    "name": "ipython",
    "version": 3
   },
   "file_extension": ".py",
   "mimetype": "text/x-python",
   "name": "python",
   "nbconvert_exporter": "python",
   "pygments_lexer": "ipython3",
   "version": "3.11.9"
  },
  "widgets": {
   "application/vnd.jupyter.widget-state+json": {
    "056b709c53a14074a1b295ad66a7e0a0": {
     "model_module": "@jupyter-widgets/controls",
     "model_module_version": "1.5.0",
     "model_name": "HBoxModel",
     "state": {
      "_dom_classes": [],
      "_model_module": "@jupyter-widgets/controls",
      "_model_module_version": "1.5.0",
      "_model_name": "HBoxModel",
      "_view_count": null,
      "_view_module": "@jupyter-widgets/controls",
      "_view_module_version": "1.5.0",
      "_view_name": "HBoxView",
      "box_style": "",
      "children": [
       "IPY_MODEL_f512d6a27ce245c6918a2f05f1b87a9d",
       "IPY_MODEL_8ae4150d5f784bd4a56a4a42fe588b48",
       "IPY_MODEL_cc2aa420b4cd44f0988ea1f6ee73d479"
      ],
      "layout": "IPY_MODEL_e0b44f199ee54c58a0bcdb119cec52ef"
     }
    },
    "0878975b308f410a9cd80c1f150f8edc": {
     "model_module": "@jupyter-widgets/controls",
     "model_module_version": "1.5.0",
     "model_name": "HTMLModel",
     "state": {
      "_dom_classes": [],
      "_model_module": "@jupyter-widgets/controls",
      "_model_module_version": "1.5.0",
      "_model_name": "HTMLModel",
      "_view_count": null,
      "_view_module": "@jupyter-widgets/controls",
      "_view_module_version": "1.5.0",
      "_view_name": "HTMLView",
      "description": "",
      "description_tooltip": null,
      "layout": "IPY_MODEL_881d89a137ab4a54b629cbaed4a5d116",
      "placeholder": "​",
      "style": "IPY_MODEL_fc4f680743e149e7a329b3028d6aad10",
      "value": "config.json: 100%"
     }
    },
    "21d7dc2e713c4ccf8b426e2bf16012fe": {
     "model_module": "@jupyter-widgets/controls",
     "model_module_version": "1.5.0",
     "model_name": "FloatProgressModel",
     "state": {
      "_dom_classes": [],
      "_model_module": "@jupyter-widgets/controls",
      "_model_module_version": "1.5.0",
      "_model_name": "FloatProgressModel",
      "_view_count": null,
      "_view_module": "@jupyter-widgets/controls",
      "_view_module_version": "1.5.0",
      "_view_name": "ProgressView",
      "bar_style": "success",
      "description": "",
      "description_tooltip": null,
      "layout": "IPY_MODEL_8f21514be40747f887f161a21698173d",
      "max": 4114329821,
      "min": 0,
      "orientation": "horizontal",
      "style": "IPY_MODEL_c90c25225aac40078311d8ee63a27892",
      "value": 4114329821
     }
    },
    "353c350eec234922bcce1fd87b641be9": {
     "model_module": "@jupyter-widgets/controls",
     "model_module_version": "1.5.0",
     "model_name": "FloatProgressModel",
     "state": {
      "_dom_classes": [],
      "_model_module": "@jupyter-widgets/controls",
      "_model_module_version": "1.5.0",
      "_model_name": "FloatProgressModel",
      "_view_count": null,
      "_view_module": "@jupyter-widgets/controls",
      "_view_module_version": "1.5.0",
      "_view_name": "ProgressView",
      "bar_style": "success",
      "description": "",
      "description_tooltip": null,
      "layout": "IPY_MODEL_a93ea4fd7e314034b832f52766ffa741",
      "max": 2270,
      "min": 0,
      "orientation": "horizontal",
      "style": "IPY_MODEL_ad37d5cf8b714c038954998e094d8513",
      "value": 2270
     }
    },
    "35e2957dc115421bba4a68399a51c9c9": {
     "model_module": "@jupyter-widgets/controls",
     "model_module_version": "1.5.0",
     "model_name": "DescriptionStyleModel",
     "state": {
      "_model_module": "@jupyter-widgets/controls",
      "_model_module_version": "1.5.0",
      "_model_name": "DescriptionStyleModel",
      "_view_count": null,
      "_view_module": "@jupyter-widgets/base",
      "_view_module_version": "1.2.0",
      "_view_name": "StyleView",
      "description_width": ""
     }
    },
    "406d86667d234d9aaff0ca844f14e402": {
     "model_module": "@jupyter-widgets/base",
     "model_module_version": "1.2.0",
     "model_name": "LayoutModel",
     "state": {
      "_model_module": "@jupyter-widgets/base",
      "_model_module_version": "1.2.0",
      "_model_name": "LayoutModel",
      "_view_count": null,
      "_view_module": "@jupyter-widgets/base",
      "_view_module_version": "1.2.0",
      "_view_name": "LayoutView",
      "align_content": null,
      "align_items": null,
      "align_self": null,
      "border": null,
      "bottom": null,
      "display": null,
      "flex": null,
      "flex_flow": null,
      "grid_area": null,
      "grid_auto_columns": null,
      "grid_auto_flow": null,
      "grid_auto_rows": null,
      "grid_column": null,
      "grid_gap": null,
      "grid_row": null,
      "grid_template_areas": null,
      "grid_template_columns": null,
      "grid_template_rows": null,
      "height": null,
      "justify_content": null,
      "justify_items": null,
      "left": null,
      "margin": null,
      "max_height": null,
      "max_width": null,
      "min_height": null,
      "min_width": null,
      "object_fit": null,
      "object_position": null,
      "order": null,
      "overflow": null,
      "overflow_x": null,
      "overflow_y": null,
      "padding": null,
      "right": null,
      "top": null,
      "visibility": null,
      "width": null
     }
    },
    "413fbbae136a4c24b7153ef3017325f1": {
     "model_module": "@jupyter-widgets/controls",
     "model_module_version": "1.5.0",
     "model_name": "HTMLModel",
     "state": {
      "_dom_classes": [],
      "_model_module": "@jupyter-widgets/controls",
      "_model_module_version": "1.5.0",
      "_model_name": "HTMLModel",
      "_view_count": null,
      "_view_module": "@jupyter-widgets/controls",
      "_view_module_version": "1.5.0",
      "_view_name": "HTMLView",
      "description": "",
      "description_tooltip": null,
      "layout": "IPY_MODEL_a740788a38604222b5594b999b70f0c8",
      "placeholder": "​",
      "style": "IPY_MODEL_f9f989043c0d4312a656bb1f5a15a1da",
      "value": " 4.11G/4.11G [03:24&lt;00:00, 19.9MB/s]"
     }
    },
    "49620f0b97394ef6ab921b15beec8069": {
     "model_module": "@jupyter-widgets/controls",
     "model_module_version": "1.5.0",
     "model_name": "DescriptionStyleModel",
     "state": {
      "_model_module": "@jupyter-widgets/controls",
      "_model_module_version": "1.5.0",
      "_model_name": "DescriptionStyleModel",
      "_view_count": null,
      "_view_module": "@jupyter-widgets/base",
      "_view_module_version": "1.2.0",
      "_view_name": "StyleView",
      "description_width": ""
     }
    },
    "4f3d19d7e8f24fdb8d39a7a14e302338": {
     "model_module": "@jupyter-widgets/controls",
     "model_module_version": "1.5.0",
     "model_name": "DescriptionStyleModel",
     "state": {
      "_model_module": "@jupyter-widgets/controls",
      "_model_module_version": "1.5.0",
      "_model_name": "DescriptionStyleModel",
      "_view_count": null,
      "_view_module": "@jupyter-widgets/base",
      "_view_module_version": "1.2.0",
      "_view_name": "StyleView",
      "description_width": ""
     }
    },
    "5cfb42aa18244f57bcb799c6d17f1347": {
     "model_module": "@jupyter-widgets/base",
     "model_module_version": "1.2.0",
     "model_name": "LayoutModel",
     "state": {
      "_model_module": "@jupyter-widgets/base",
      "_model_module_version": "1.2.0",
      "_model_name": "LayoutModel",
      "_view_count": null,
      "_view_module": "@jupyter-widgets/base",
      "_view_module_version": "1.2.0",
      "_view_name": "LayoutView",
      "align_content": null,
      "align_items": null,
      "align_self": null,
      "border": null,
      "bottom": null,
      "display": null,
      "flex": null,
      "flex_flow": null,
      "grid_area": null,
      "grid_auto_columns": null,
      "grid_auto_flow": null,
      "grid_auto_rows": null,
      "grid_column": null,
      "grid_gap": null,
      "grid_row": null,
      "grid_template_areas": null,
      "grid_template_columns": null,
      "grid_template_rows": null,
      "height": null,
      "justify_content": null,
      "justify_items": null,
      "left": null,
      "margin": null,
      "max_height": null,
      "max_width": null,
      "min_height": null,
      "min_width": null,
      "object_fit": null,
      "object_position": null,
      "order": null,
      "overflow": null,
      "overflow_x": null,
      "overflow_y": null,
      "padding": null,
      "right": null,
      "top": null,
      "visibility": null,
      "width": null
     }
    },
    "7e8a32daccbf4d7ab23bc5d587faacfd": {
     "model_module": "@jupyter-widgets/base",
     "model_module_version": "1.2.0",
     "model_name": "LayoutModel",
     "state": {
      "_model_module": "@jupyter-widgets/base",
      "_model_module_version": "1.2.0",
      "_model_name": "LayoutModel",
      "_view_count": null,
      "_view_module": "@jupyter-widgets/base",
      "_view_module_version": "1.2.0",
      "_view_name": "LayoutView",
      "align_content": null,
      "align_items": null,
      "align_self": null,
      "border": null,
      "bottom": null,
      "display": null,
      "flex": null,
      "flex_flow": null,
      "grid_area": null,
      "grid_auto_columns": null,
      "grid_auto_flow": null,
      "grid_auto_rows": null,
      "grid_column": null,
      "grid_gap": null,
      "grid_row": null,
      "grid_template_areas": null,
      "grid_template_columns": null,
      "grid_template_rows": null,
      "height": null,
      "justify_content": null,
      "justify_items": null,
      "left": null,
      "margin": null,
      "max_height": null,
      "max_width": null,
      "min_height": null,
      "min_width": null,
      "object_fit": null,
      "object_position": null,
      "order": null,
      "overflow": null,
      "overflow_x": null,
      "overflow_y": null,
      "padding": null,
      "right": null,
      "top": null,
      "visibility": null,
      "width": null
     }
    },
    "881d89a137ab4a54b629cbaed4a5d116": {
     "model_module": "@jupyter-widgets/base",
     "model_module_version": "1.2.0",
     "model_name": "LayoutModel",
     "state": {
      "_model_module": "@jupyter-widgets/base",
      "_model_module_version": "1.2.0",
      "_model_name": "LayoutModel",
      "_view_count": null,
      "_view_module": "@jupyter-widgets/base",
      "_view_module_version": "1.2.0",
      "_view_name": "LayoutView",
      "align_content": null,
      "align_items": null,
      "align_self": null,
      "border": null,
      "bottom": null,
      "display": null,
      "flex": null,
      "flex_flow": null,
      "grid_area": null,
      "grid_auto_columns": null,
      "grid_auto_flow": null,
      "grid_auto_rows": null,
      "grid_column": null,
      "grid_gap": null,
      "grid_row": null,
      "grid_template_areas": null,
      "grid_template_columns": null,
      "grid_template_rows": null,
      "height": null,
      "justify_content": null,
      "justify_items": null,
      "left": null,
      "margin": null,
      "max_height": null,
      "max_width": null,
      "min_height": null,
      "min_width": null,
      "object_fit": null,
      "object_position": null,
      "order": null,
      "overflow": null,
      "overflow_x": null,
      "overflow_y": null,
      "padding": null,
      "right": null,
      "top": null,
      "visibility": null,
      "width": null
     }
    },
    "8ae4150d5f784bd4a56a4a42fe588b48": {
     "model_module": "@jupyter-widgets/controls",
     "model_module_version": "1.5.0",
     "model_name": "FloatProgressModel",
     "state": {
      "_dom_classes": [],
      "_model_module": "@jupyter-widgets/controls",
      "_model_module_version": "1.5.0",
      "_model_name": "FloatProgressModel",
      "_view_count": null,
      "_view_module": "@jupyter-widgets/controls",
      "_view_module_version": "1.5.0",
      "_view_name": "ProgressView",
      "bar_style": "success",
      "description": "",
      "description_tooltip": null,
      "layout": "IPY_MODEL_9378f057e81148869421d38c6e3d73ce",
      "max": 2113837,
      "min": 0,
      "orientation": "horizontal",
      "style": "IPY_MODEL_e4c7f46621c945a690c55ed47c34dc77",
      "value": 2113837
     }
    },
    "8f21514be40747f887f161a21698173d": {
     "model_module": "@jupyter-widgets/base",
     "model_module_version": "1.2.0",
     "model_name": "LayoutModel",
     "state": {
      "_model_module": "@jupyter-widgets/base",
      "_model_module_version": "1.2.0",
      "_model_name": "LayoutModel",
      "_view_count": null,
      "_view_module": "@jupyter-widgets/base",
      "_view_module_version": "1.2.0",
      "_view_name": "LayoutView",
      "align_content": null,
      "align_items": null,
      "align_self": null,
      "border": null,
      "bottom": null,
      "display": null,
      "flex": null,
      "flex_flow": null,
      "grid_area": null,
      "grid_auto_columns": null,
      "grid_auto_flow": null,
      "grid_auto_rows": null,
      "grid_column": null,
      "grid_gap": null,
      "grid_row": null,
      "grid_template_areas": null,
      "grid_template_columns": null,
      "grid_template_rows": null,
      "height": null,
      "justify_content": null,
      "justify_items": null,
      "left": null,
      "margin": null,
      "max_height": null,
      "max_width": null,
      "min_height": null,
      "min_width": null,
      "object_fit": null,
      "object_position": null,
      "order": null,
      "overflow": null,
      "overflow_x": null,
      "overflow_y": null,
      "padding": null,
      "right": null,
      "top": null,
      "visibility": null,
      "width": null
     }
    },
    "9378f057e81148869421d38c6e3d73ce": {
     "model_module": "@jupyter-widgets/base",
     "model_module_version": "1.2.0",
     "model_name": "LayoutModel",
     "state": {
      "_model_module": "@jupyter-widgets/base",
      "_model_module_version": "1.2.0",
      "_model_name": "LayoutModel",
      "_view_count": null,
      "_view_module": "@jupyter-widgets/base",
      "_view_module_version": "1.2.0",
      "_view_name": "LayoutView",
      "align_content": null,
      "align_items": null,
      "align_self": null,
      "border": null,
      "bottom": null,
      "display": null,
      "flex": null,
      "flex_flow": null,
      "grid_area": null,
      "grid_auto_columns": null,
      "grid_auto_flow": null,
      "grid_auto_rows": null,
      "grid_column": null,
      "grid_gap": null,
      "grid_row": null,
      "grid_template_areas": null,
      "grid_template_columns": null,
      "grid_template_rows": null,
      "height": null,
      "justify_content": null,
      "justify_items": null,
      "left": null,
      "margin": null,
      "max_height": null,
      "max_width": null,
      "min_height": null,
      "min_width": null,
      "object_fit": null,
      "object_position": null,
      "order": null,
      "overflow": null,
      "overflow_x": null,
      "overflow_y": null,
      "padding": null,
      "right": null,
      "top": null,
      "visibility": null,
      "width": null
     }
    },
    "a1bfe7fb8dcf40f6956aadf34d879711": {
     "model_module": "@jupyter-widgets/base",
     "model_module_version": "1.2.0",
     "model_name": "LayoutModel",
     "state": {
      "_model_module": "@jupyter-widgets/base",
      "_model_module_version": "1.2.0",
      "_model_name": "LayoutModel",
      "_view_count": null,
      "_view_module": "@jupyter-widgets/base",
      "_view_module_version": "1.2.0",
      "_view_name": "LayoutView",
      "align_content": null,
      "align_items": null,
      "align_self": null,
      "border": null,
      "bottom": null,
      "display": null,
      "flex": null,
      "flex_flow": null,
      "grid_area": null,
      "grid_auto_columns": null,
      "grid_auto_flow": null,
      "grid_auto_rows": null,
      "grid_column": null,
      "grid_gap": null,
      "grid_row": null,
      "grid_template_areas": null,
      "grid_template_columns": null,
      "grid_template_rows": null,
      "height": null,
      "justify_content": null,
      "justify_items": null,
      "left": null,
      "margin": null,
      "max_height": null,
      "max_width": null,
      "min_height": null,
      "min_width": null,
      "object_fit": null,
      "object_position": null,
      "order": null,
      "overflow": null,
      "overflow_x": null,
      "overflow_y": null,
      "padding": null,
      "right": null,
      "top": null,
      "visibility": null,
      "width": null
     }
    },
    "a740788a38604222b5594b999b70f0c8": {
     "model_module": "@jupyter-widgets/base",
     "model_module_version": "1.2.0",
     "model_name": "LayoutModel",
     "state": {
      "_model_module": "@jupyter-widgets/base",
      "_model_module_version": "1.2.0",
      "_model_name": "LayoutModel",
      "_view_count": null,
      "_view_module": "@jupyter-widgets/base",
      "_view_module_version": "1.2.0",
      "_view_name": "LayoutView",
      "align_content": null,
      "align_items": null,
      "align_self": null,
      "border": null,
      "bottom": null,
      "display": null,
      "flex": null,
      "flex_flow": null,
      "grid_area": null,
      "grid_auto_columns": null,
      "grid_auto_flow": null,
      "grid_auto_rows": null,
      "grid_column": null,
      "grid_gap": null,
      "grid_row": null,
      "grid_template_areas": null,
      "grid_template_columns": null,
      "grid_template_rows": null,
      "height": null,
      "justify_content": null,
      "justify_items": null,
      "left": null,
      "margin": null,
      "max_height": null,
      "max_width": null,
      "min_height": null,
      "min_width": null,
      "object_fit": null,
      "object_position": null,
      "order": null,
      "overflow": null,
      "overflow_x": null,
      "overflow_y": null,
      "padding": null,
      "right": null,
      "top": null,
      "visibility": null,
      "width": null
     }
    },
    "a93ea4fd7e314034b832f52766ffa741": {
     "model_module": "@jupyter-widgets/base",
     "model_module_version": "1.2.0",
     "model_name": "LayoutModel",
     "state": {
      "_model_module": "@jupyter-widgets/base",
      "_model_module_version": "1.2.0",
      "_model_name": "LayoutModel",
      "_view_count": null,
      "_view_module": "@jupyter-widgets/base",
      "_view_module_version": "1.2.0",
      "_view_name": "LayoutView",
      "align_content": null,
      "align_items": null,
      "align_self": null,
      "border": null,
      "bottom": null,
      "display": null,
      "flex": null,
      "flex_flow": null,
      "grid_area": null,
      "grid_auto_columns": null,
      "grid_auto_flow": null,
      "grid_auto_rows": null,
      "grid_column": null,
      "grid_gap": null,
      "grid_row": null,
      "grid_template_areas": null,
      "grid_template_columns": null,
      "grid_template_rows": null,
      "height": null,
      "justify_content": null,
      "justify_items": null,
      "left": null,
      "margin": null,
      "max_height": null,
      "max_width": null,
      "min_height": null,
      "min_width": null,
      "object_fit": null,
      "object_position": null,
      "order": null,
      "overflow": null,
      "overflow_x": null,
      "overflow_y": null,
      "padding": null,
      "right": null,
      "top": null,
      "visibility": null,
      "width": null
     }
    },
    "ad37d5cf8b714c038954998e094d8513": {
     "model_module": "@jupyter-widgets/controls",
     "model_module_version": "1.5.0",
     "model_name": "ProgressStyleModel",
     "state": {
      "_model_module": "@jupyter-widgets/controls",
      "_model_module_version": "1.5.0",
      "_model_name": "ProgressStyleModel",
      "_view_count": null,
      "_view_module": "@jupyter-widgets/base",
      "_view_module_version": "1.2.0",
      "_view_name": "StyleView",
      "bar_color": null,
      "description_width": ""
     }
    },
    "b6e5202476c2459a96fd15f7c6e90173": {
     "model_module": "@jupyter-widgets/base",
     "model_module_version": "1.2.0",
     "model_name": "LayoutModel",
     "state": {
      "_model_module": "@jupyter-widgets/base",
      "_model_module_version": "1.2.0",
      "_model_name": "LayoutModel",
      "_view_count": null,
      "_view_module": "@jupyter-widgets/base",
      "_view_module_version": "1.2.0",
      "_view_name": "LayoutView",
      "align_content": null,
      "align_items": null,
      "align_self": null,
      "border": null,
      "bottom": null,
      "display": null,
      "flex": null,
      "flex_flow": null,
      "grid_area": null,
      "grid_auto_columns": null,
      "grid_auto_flow": null,
      "grid_auto_rows": null,
      "grid_column": null,
      "grid_gap": null,
      "grid_row": null,
      "grid_template_areas": null,
      "grid_template_columns": null,
      "grid_template_rows": null,
      "height": null,
      "justify_content": null,
      "justify_items": null,
      "left": null,
      "margin": null,
      "max_height": null,
      "max_width": null,
      "min_height": null,
      "min_width": null,
      "object_fit": null,
      "object_position": null,
      "order": null,
      "overflow": null,
      "overflow_x": null,
      "overflow_y": null,
      "padding": null,
      "right": null,
      "top": null,
      "visibility": null,
      "width": null
     }
    },
    "c113e36bd5704df4b30922533cddc88f": {
     "model_module": "@jupyter-widgets/controls",
     "model_module_version": "1.5.0",
     "model_name": "DescriptionStyleModel",
     "state": {
      "_model_module": "@jupyter-widgets/controls",
      "_model_module_version": "1.5.0",
      "_model_name": "DescriptionStyleModel",
      "_view_count": null,
      "_view_module": "@jupyter-widgets/base",
      "_view_module_version": "1.2.0",
      "_view_name": "StyleView",
      "description_width": ""
     }
    },
    "c8238e040b8e4ebfade1b1f84bf3b9d4": {
     "model_module": "@jupyter-widgets/controls",
     "model_module_version": "1.5.0",
     "model_name": "HTMLModel",
     "state": {
      "_dom_classes": [],
      "_model_module": "@jupyter-widgets/controls",
      "_model_module_version": "1.5.0",
      "_model_name": "HTMLModel",
      "_view_count": null,
      "_view_module": "@jupyter-widgets/controls",
      "_view_module_version": "1.5.0",
      "_view_name": "HTMLView",
      "description": "",
      "description_tooltip": null,
      "layout": "IPY_MODEL_b6e5202476c2459a96fd15f7c6e90173",
      "placeholder": "​",
      "style": "IPY_MODEL_49620f0b97394ef6ab921b15beec8069",
      "value": " 2.27k/2.27k [00:00&lt;00:00, 36.9kB/s]"
     }
    },
    "c90c25225aac40078311d8ee63a27892": {
     "model_module": "@jupyter-widgets/controls",
     "model_module_version": "1.5.0",
     "model_name": "ProgressStyleModel",
     "state": {
      "_model_module": "@jupyter-widgets/controls",
      "_model_module_version": "1.5.0",
      "_model_name": "ProgressStyleModel",
      "_view_count": null,
      "_view_module": "@jupyter-widgets/base",
      "_view_module_version": "1.2.0",
      "_view_name": "StyleView",
      "bar_color": null,
      "description_width": ""
     }
    },
    "cc2aa420b4cd44f0988ea1f6ee73d479": {
     "model_module": "@jupyter-widgets/controls",
     "model_module_version": "1.5.0",
     "model_name": "HTMLModel",
     "state": {
      "_dom_classes": [],
      "_model_module": "@jupyter-widgets/controls",
      "_model_module_version": "1.5.0",
      "_model_name": "HTMLModel",
      "_view_count": null,
      "_view_module": "@jupyter-widgets/controls",
      "_view_module_version": "1.5.0",
      "_view_name": "HTMLView",
      "description": "",
      "description_tooltip": null,
      "layout": "IPY_MODEL_cf0d2867b8304913a2fad9e5115bfde8",
      "placeholder": "​",
      "style": "IPY_MODEL_c113e36bd5704df4b30922533cddc88f",
      "value": " 2.11M/2.11M [00:00&lt;00:00, 2.13MB/s]"
     }
    },
    "ccb677fac5bc48b8ba2c5da953052c93": {
     "model_module": "@jupyter-widgets/controls",
     "model_module_version": "1.5.0",
     "model_name": "HTMLModel",
     "state": {
      "_dom_classes": [],
      "_model_module": "@jupyter-widgets/controls",
      "_model_module_version": "1.5.0",
      "_model_name": "HTMLModel",
      "_view_count": null,
      "_view_module": "@jupyter-widgets/controls",
      "_view_module_version": "1.5.0",
      "_view_name": "HTMLView",
      "description": "",
      "description_tooltip": null,
      "layout": "IPY_MODEL_406d86667d234d9aaff0ca844f14e402",
      "placeholder": "​",
      "style": "IPY_MODEL_4f3d19d7e8f24fdb8d39a7a14e302338",
      "value": "pytorch_model.bin: 100%"
     }
    },
    "cf0d2867b8304913a2fad9e5115bfde8": {
     "model_module": "@jupyter-widgets/base",
     "model_module_version": "1.2.0",
     "model_name": "LayoutModel",
     "state": {
      "_model_module": "@jupyter-widgets/base",
      "_model_module_version": "1.2.0",
      "_model_name": "LayoutModel",
      "_view_count": null,
      "_view_module": "@jupyter-widgets/base",
      "_view_module_version": "1.2.0",
      "_view_name": "LayoutView",
      "align_content": null,
      "align_items": null,
      "align_self": null,
      "border": null,
      "bottom": null,
      "display": null,
      "flex": null,
      "flex_flow": null,
      "grid_area": null,
      "grid_auto_columns": null,
      "grid_auto_flow": null,
      "grid_auto_rows": null,
      "grid_column": null,
      "grid_gap": null,
      "grid_row": null,
      "grid_template_areas": null,
      "grid_template_columns": null,
      "grid_template_rows": null,
      "height": null,
      "justify_content": null,
      "justify_items": null,
      "left": null,
      "margin": null,
      "max_height": null,
      "max_width": null,
      "min_height": null,
      "min_width": null,
      "object_fit": null,
      "object_position": null,
      "order": null,
      "overflow": null,
      "overflow_x": null,
      "overflow_y": null,
      "padding": null,
      "right": null,
      "top": null,
      "visibility": null,
      "width": null
     }
    },
    "e0b44f199ee54c58a0bcdb119cec52ef": {
     "model_module": "@jupyter-widgets/base",
     "model_module_version": "1.2.0",
     "model_name": "LayoutModel",
     "state": {
      "_model_module": "@jupyter-widgets/base",
      "_model_module_version": "1.2.0",
      "_model_name": "LayoutModel",
      "_view_count": null,
      "_view_module": "@jupyter-widgets/base",
      "_view_module_version": "1.2.0",
      "_view_name": "LayoutView",
      "align_content": null,
      "align_items": null,
      "align_self": null,
      "border": null,
      "bottom": null,
      "display": null,
      "flex": null,
      "flex_flow": null,
      "grid_area": null,
      "grid_auto_columns": null,
      "grid_auto_flow": null,
      "grid_auto_rows": null,
      "grid_column": null,
      "grid_gap": null,
      "grid_row": null,
      "grid_template_areas": null,
      "grid_template_columns": null,
      "grid_template_rows": null,
      "height": null,
      "justify_content": null,
      "justify_items": null,
      "left": null,
      "margin": null,
      "max_height": null,
      "max_width": null,
      "min_height": null,
      "min_width": null,
      "object_fit": null,
      "object_position": null,
      "order": null,
      "overflow": null,
      "overflow_x": null,
      "overflow_y": null,
      "padding": null,
      "right": null,
      "top": null,
      "visibility": null,
      "width": null
     }
    },
    "e4c7f46621c945a690c55ed47c34dc77": {
     "model_module": "@jupyter-widgets/controls",
     "model_module_version": "1.5.0",
     "model_name": "ProgressStyleModel",
     "state": {
      "_model_module": "@jupyter-widgets/controls",
      "_model_module_version": "1.5.0",
      "_model_name": "ProgressStyleModel",
      "_view_count": null,
      "_view_module": "@jupyter-widgets/base",
      "_view_module_version": "1.2.0",
      "_view_name": "StyleView",
      "bar_color": null,
      "description_width": ""
     }
    },
    "f34b375b7e464941b06fa55056186b1c": {
     "model_module": "@jupyter-widgets/controls",
     "model_module_version": "1.5.0",
     "model_name": "HBoxModel",
     "state": {
      "_dom_classes": [],
      "_model_module": "@jupyter-widgets/controls",
      "_model_module_version": "1.5.0",
      "_model_name": "HBoxModel",
      "_view_count": null,
      "_view_module": "@jupyter-widgets/controls",
      "_view_module_version": "1.5.0",
      "_view_name": "HBoxView",
      "box_style": "",
      "children": [
       "IPY_MODEL_0878975b308f410a9cd80c1f150f8edc",
       "IPY_MODEL_353c350eec234922bcce1fd87b641be9",
       "IPY_MODEL_c8238e040b8e4ebfade1b1f84bf3b9d4"
      ],
      "layout": "IPY_MODEL_a1bfe7fb8dcf40f6956aadf34d879711"
     }
    },
    "f512d6a27ce245c6918a2f05f1b87a9d": {
     "model_module": "@jupyter-widgets/controls",
     "model_module_version": "1.5.0",
     "model_name": "HTMLModel",
     "state": {
      "_dom_classes": [],
      "_model_module": "@jupyter-widgets/controls",
      "_model_module_version": "1.5.0",
      "_model_name": "HTMLModel",
      "_view_count": null,
      "_view_module": "@jupyter-widgets/controls",
      "_view_module_version": "1.5.0",
      "_view_name": "HTMLView",
      "description": "",
      "description_tooltip": null,
      "layout": "IPY_MODEL_7e8a32daccbf4d7ab23bc5d587faacfd",
      "placeholder": "​",
      "style": "IPY_MODEL_35e2957dc115421bba4a68399a51c9c9",
      "value": "tokenizer.json: 100%"
     }
    },
    "f9f989043c0d4312a656bb1f5a15a1da": {
     "model_module": "@jupyter-widgets/controls",
     "model_module_version": "1.5.0",
     "model_name": "DescriptionStyleModel",
     "state": {
      "_model_module": "@jupyter-widgets/controls",
      "_model_module_version": "1.5.0",
      "_model_name": "DescriptionStyleModel",
      "_view_count": null,
      "_view_module": "@jupyter-widgets/base",
      "_view_module_version": "1.2.0",
      "_view_name": "StyleView",
      "description_width": ""
     }
    },
    "fc4f680743e149e7a329b3028d6aad10": {
     "model_module": "@jupyter-widgets/controls",
     "model_module_version": "1.5.0",
     "model_name": "DescriptionStyleModel",
     "state": {
      "_model_module": "@jupyter-widgets/controls",
      "_model_module_version": "1.5.0",
      "_model_name": "DescriptionStyleModel",
      "_view_count": null,
      "_view_module": "@jupyter-widgets/base",
      "_view_module_version": "1.2.0",
      "_view_name": "StyleView",
      "description_width": ""
     }
    },
    "fe76443ff5ae41268a310dea485a30a4": {
     "model_module": "@jupyter-widgets/controls",
     "model_module_version": "1.5.0",
     "model_name": "HBoxModel",
     "state": {
      "_dom_classes": [],
      "_model_module": "@jupyter-widgets/controls",
      "_model_module_version": "1.5.0",
      "_model_name": "HBoxModel",
      "_view_count": null,
      "_view_module": "@jupyter-widgets/controls",
      "_view_module_version": "1.5.0",
      "_view_name": "HBoxView",
      "box_style": "",
      "children": [
       "IPY_MODEL_ccb677fac5bc48b8ba2c5da953052c93",
       "IPY_MODEL_21d7dc2e713c4ccf8b426e2bf16012fe",
       "IPY_MODEL_413fbbae136a4c24b7153ef3017325f1"
      ],
      "layout": "IPY_MODEL_5cfb42aa18244f57bcb799c6d17f1347"
     }
    }
   }
  }
 },
 "nbformat": 4,
 "nbformat_minor": 4
}
