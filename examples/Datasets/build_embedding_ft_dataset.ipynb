{
 "cells": [
  {
   "cell_type": "code",
   "execution_count": null,
   "id": "2c85a221",
   "metadata": {
    "lines_to_next_cell": 0
   },
   "outputs": [],
   "source": []
  },
  {
   "cell_type": "code",
   "execution_count": null,
   "id": "3aec6259",
   "metadata": {},
   "outputs": [],
   "source": [
    "\"\"\"\n",
    "#   This example shows how easily a core text dataset for domain adaptation can be created.\n",
    "#   The dataset is packaged as JSONL files with each row representing a training sample, and is automatically split\n",
    "#   into train / test / validation datasets. A manifest.json file describes the dataset artifacts in the archive.\n",
    "#   This dataset is designed primarily for fine-tuning semantic embedding models using a contrastive distortion\n",
    "#   technique, such as TSDAE or DECLUTR, but the dataset is generally \"model-ready\" for most \"language model\"\n",
    "#   unsupervised tasks.\n",
    "\n",
    "#   Note: this dataset is not intended for instruct-training -> see other examples for building instruct/dialog datasets\n",
    "\"\"\""
   ]
  },
  {
   "cell_type": "code",
   "execution_count": null,
   "id": "9986346d",
   "metadata": {},
   "outputs": [],
   "source": [
    "import os"
   ]
  },
  {
   "cell_type": "code",
   "execution_count": null,
   "id": "43115006",
   "metadata": {},
   "outputs": [],
   "source": [
    "from llmware.library import Library\n",
    "from llmware.dataset_tools import Datasets\n",
    "from llmware.setup import Setup\n",
    "from llmware.configs import LLMWareConfig"
   ]
  },
  {
   "cell_type": "code",
   "execution_count": null,
   "id": "c6df5336",
   "metadata": {},
   "outputs": [],
   "source": [
    "def build_embedding_finetuning_dataset(library_name):\n",
    "\n",
    "    # step 1 - create new library\n",
    "    lib = Library().create_new_library(library_name)\n",
    "\n",
    "    # step 2 - pull sample documents (or point to your own)\n",
    "    sample_file_path = Setup().load_sample_files(over_write=False)\n",
    "    fin_docs_path = os.path.join(sample_file_path, \"FinDocs\")\n",
    "\n",
    "    # step 3 - parse, text chunk and index files that will be used to create the dataset\n",
    "    parsing_output = lib.add_files(fin_docs_path)\n",
    "\n",
    "    print(\"update: completed parsing - \", parsing_output)\n",
    "\n",
    "    # step 4 - create dataset\n",
    "    ds = Datasets(library=lib, testing_split=0.10, validation_split=0.10)\n",
    "    ds_output = ds.build_text_ds(min_tokens=100, max_tokens=500)\n",
    "    print(\"update: completed building dataset - \", ds_output)\n",
    "    print(\"update: dataset will be found in this path - \", lib.dataset_path)\n",
    "\n",
    "    return ds_output"
   ]
  },
  {
   "cell_type": "code",
   "execution_count": null,
   "id": "789028de",
   "metadata": {},
   "outputs": [],
   "source": [
    "if __name__ == \"__main__\":\n",
    "\n",
    "    LLMWareConfig().set_active_db(\"sqlite\")\n",
    "\n",
    "    my_lib_name = \"financial_docs_library\"\n",
    "    output = build_embedding_finetuning_dataset(my_lib_name)"
   ]
  }
 ],
 "metadata": {
  "jupytext": {
   "cell_metadata_filter": "-all",
   "main_language": "python",
   "notebook_metadata_filter": "-all"
  }
 },
 "nbformat": 4,
 "nbformat_minor": 5
}
