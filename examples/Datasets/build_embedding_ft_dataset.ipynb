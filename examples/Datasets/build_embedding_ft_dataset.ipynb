{
 "cells": [
  {
   "cell_type": "code",
   "execution_count": null,
   "id": "2c85a221",
   "metadata": {
    "lines_to_next_cell": 0
   },
   "outputs": [],
   "source": []
  },
  {
   "cell_type": "code",
   "execution_count": 3,
   "id": "3aec6259",
   "metadata": {},
   "outputs": [
    {
     "data": {
      "text/plain": [
       "'\\n#   This example shows how easily a core text dataset for domain adaptation can be created.\\n#   The dataset is packaged as JSONL files with each row representing a training sample, and is automatically split\\n#   into train / test / validation datasets. A manifest.json file describes the dataset artifacts in the archive.\\n#   This dataset is designed primarily for fine-tuning semantic embedding models using a contrastive distortion\\n#   technique, such as TSDAE or DECLUTR, but the dataset is generally \"model-ready\" for most \"language model\"\\n#   unsupervised tasks.\\n\\n#   Note: this dataset is not intended for instruct-training -> see other examples for building instruct/dialog datasets\\n'"
      ]
     },
     "execution_count": 3,
     "metadata": {},
     "output_type": "execute_result"
    }
   ],
   "source": [
    "\"\"\"\n",
    "#   This example shows how easily a core text dataset for domain adaptation can be created.\n",
    "#   The dataset is packaged as JSONL files with each row representing a training sample, and is automatically split\n",
    "#   into train / test / validation datasets. A manifest.json file describes the dataset artifacts in the archive.\n",
    "#   This dataset is designed primarily for fine-tuning semantic embedding models using a contrastive distortion\n",
    "#   technique, such as TSDAE or DECLUTR, but the dataset is generally \"model-ready\" for most \"language model\"\n",
    "#   unsupervised tasks.\n",
    "\n",
    "#   Note: this dataset is not intended for instruct-training -> see other examples for building instruct/dialog datasets\n",
    "\"\"\""
   ]
  },
  {
   "cell_type": "code",
   "execution_count": 1,
   "id": "9986346d",
   "metadata": {},
   "outputs": [],
   "source": [
    "import os"
   ]
  },
  {
   "cell_type": "code",
   "execution_count": 2,
   "id": "43115006",
   "metadata": {},
   "outputs": [],
   "source": [
    "from llmware.library import Library\n",
    "from llmware.dataset_tools import Datasets\n",
    "from llmware.setup import Setup\n",
    "from llmware.configs import LLMWareConfig"
   ]
  },
  {
   "cell_type": "code",
   "execution_count": 4,
   "id": "c6df5336",
   "metadata": {},
   "outputs": [],
   "source": [
    "def build_embedding_finetuning_dataset(library_name):\n",
    "\n",
    "    # step 1 - create new library\n",
    "    lib = Library().create_new_library(library_name)\n",
    "\n",
    "    # step 2 - pull sample documents (or point to your own)\n",
    "    sample_file_path = Setup().load_sample_files(over_write=False)\n",
    "    fin_docs_path = os.path.join(sample_file_path, \"FinDocs\")\n",
    "\n",
    "    # step 3 - parse, text chunk and index files that will be used to create the dataset\n",
    "    parsing_output = lib.add_files(fin_docs_path)\n",
    "\n",
    "    print(\"update: completed parsing - \", parsing_output)\n",
    "\n",
    "    # step 4 - create dataset\n",
    "    ds = Datasets(library=lib, testing_split=0.10, validation_split=0.10)\n",
    "    ds_output = ds.build_text_ds(min_tokens=100, max_tokens=500)\n",
    "    print(\"update: completed building dataset - \", ds_output)\n",
    "    print(\"update: dataset will be found in this path - \", lib.dataset_path)\n",
    "\n",
    "    return ds_output"
   ]
  },
  {
   "cell_type": "code",
   "execution_count": 5,
   "id": "789028de",
   "metadata": {},
   "outputs": [
    {
     "name": "stdout",
     "output_type": "stream",
     "text": [
      "update: completed parsing -  {'docs_added': 14, 'blocks_added': 7608, 'images_added': 707, 'pages_added': 876, 'tables_added': 37, 'rejected_files': []}\n",
      "update: completed building dataset -  {'ds_type': 'build_text_ds', 'ds_id': '5bcdaefa-7cd7-4eb2-a660-ec93b5f1e58d', 'training_samples': 8321, 'training_files': ['training_samples_0.jsonl', 'training_samples_text_0.txt'], 'validation_samples': 1039, 'validation_files': ['validation_samples_0.jsonl', 'validation_samples_text_0.txt'], 'testing_samples': 1039, 'testing_files': ['testing_samples_0.jsonl', 'testing_samples_text_0.txt'], 'batches': 1, 'prompt_wrapper': 'None', 'description': 'Core unsupervised text chunk dataset useful for text embedding fine-tuning and domain adaptation with token span size between 100 - 500', 'features': ['text', 'file_source', 'sample_number'], 'time_stamp': '2024-05-16_004231'}\n",
      "update: dataset will be found in this path -  C:\\Users\\hsyyu\\llmware_data\\accounts\\llmware\\financial_docs_library\\datasets\\\n"
     ]
    }
   ],
   "source": [
    "if __name__ == \"__main__\":\n",
    "\n",
    "    LLMWareConfig().set_active_db(\"sqlite\")\n",
    "\n",
    "    my_lib_name = \"financial_docs_library\"\n",
    "    output = build_embedding_finetuning_dataset(my_lib_name)"
   ]
  }
 ],
 "metadata": {
  "jupytext": {
   "cell_metadata_filter": "-all",
   "main_language": "python",
   "notebook_metadata_filter": "-all"
  },
  "kernelspec": {
   "display_name": "Python 3 (ipykernel)",
   "language": "python",
   "name": "python3"
  },
  "language_info": {
   "codemirror_mode": {
    "name": "ipython",
    "version": 3
   },
   "file_extension": ".py",
   "mimetype": "text/x-python",
   "name": "python",
   "nbconvert_exporter": "python",
   "pygments_lexer": "ipython3",
   "version": "3.11.9"
  }
 },
 "nbformat": 4,
 "nbformat_minor": 5
}
