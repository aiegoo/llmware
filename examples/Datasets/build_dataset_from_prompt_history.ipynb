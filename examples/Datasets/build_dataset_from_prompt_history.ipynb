{
 "cells": [
  {
   "cell_type": "code",
   "execution_count": null,
   "id": "87d1b2fd",
   "metadata": {
    "lines_to_next_cell": 0
   },
   "outputs": [],
   "source": []
  },
  {
   "cell_type": "code",
   "execution_count": null,
   "id": "fecbf011",
   "metadata": {},
   "outputs": [],
   "source": [
    "\"\"\"This example shows how to automatically build an 'instruct' dataset from prompt state history\"\"\""
   ]
  },
  {
   "cell_type": "code",
   "execution_count": null,
   "id": "cc853405",
   "metadata": {},
   "outputs": [],
   "source": [
    "import json\n",
    "import os\n",
    "from llmware.prompts import Prompt\n",
    "from llmware.dataset_tools import Datasets\n",
    "from llmware.configs import LLMWareConfig"
   ]
  },
  {
   "cell_type": "code",
   "execution_count": null,
   "id": "1bb00513",
   "metadata": {},
   "outputs": [],
   "source": [
    "# Use prompt history to easily create model-ready fine-tuning datasets\n",
    "def create_datasets_from_prompt_history(model_name):\n",
    "\n",
    "    context = \"Joe Biden is the 46th President of the United States.  He was born in Scranton, \" \\\n",
    "              \"Pennsylvania.  He served as Vice President from 2008 through 2016.\"\n",
    "\n",
    "    # Create a Prompt\n",
    "    prompter = Prompt(save_state=True)\n",
    "    prompter.load_model(model_name)\n",
    "\n",
    "    # Perform several prompts\n",
    "    print (f\"\\n > Performing several prompts to populate the prompt state...\")\n",
    "\n",
    "    response = prompter.prompt_main(\"Who was the 46th president?\", context=context,\n",
    "                                    register_trx=True)\n",
    "\n",
    "    response = prompter.prompt_main(prompt=\"What year did Joe Biden start as vice president?\", context=context,\n",
    "                                    register_trx=True)\n",
    "\n",
    "    response = prompter.prompt_main(prompt=\"Who is Joe Biden?\", context=context, register_trx=True)\n",
    "\n",
    "    for i, entries in enumerate(prompter.interaction_history):\n",
    "        print(\"update: interaction prompt history created: \", i, entries)\n",
    "\n",
    "    prompter.save_state()\n",
    "\n",
    "    # Create a Datasets object\n",
    "    datasets = Datasets(testing_split=0.0, validation_split=0.0)\n",
    "\n",
    "    # Create dataset wrapped in \"Alpaca format\"\n",
    "    print (f\"\\n > Creating a dataset from prompt history in ALPACA format...\")\n",
    "    alpaca_dataset = datasets.build_gen_ds_from_prompt_history(prompt_wrapper=\"alpaca\")\n",
    "    print (f\"\\nThe dataset dict:\\n{json.dumps(alpaca_dataset, indent=2)}\")\n",
    "    sample = datasets.get_dataset_sample(datasets.current_ds_name)\n",
    "    print (f\"\\nRandom sample from the dataset:\\n{json.dumps(sample, indent=2)}\")\n",
    "\n",
    "    # Create dataset wrapped in \"Chat GPT format\"\n",
    "    print (f\"\\n > Creating a dataset from prompt history in CHAT GPT format...\")\n",
    "    chatgpt_dataset = datasets.build_gen_ds_from_prompt_history(prompt_wrapper=\"chat_gpt\")\n",
    "    print (f\"\\nThe dataset dict:\\n{json.dumps(chatgpt_dataset, indent=2)}\")\n",
    "    sample = datasets.get_dataset_sample(datasets.current_ds_name)\n",
    "    print (f\"\\nRandom sample from the dataset:\\n{json.dumps(sample, indent=2)}\")\n",
    "\n",
    "    # Create dataset wrapped in \"human_bot format\"\n",
    "    print (f\"\\n > Creating a dataset from prompt history in HUMAN BOT format...\")\n",
    "    humanbot_dataset = datasets.build_gen_ds_from_prompt_history(prompt_wrapper=\"human_bot\")\n",
    "    print (f\"\\nThe dataset dict:\\n{json.dumps(humanbot_dataset, indent=2)}\")\n",
    "    sample = datasets.get_dataset_sample(datasets.current_ds_name)\n",
    "    print (f\"\\nRandom sample from the dataset:\\n{json.dumps(sample, indent=2)}\")\n",
    "\n",
    "    return 0"
   ]
  },
  {
   "cell_type": "code",
   "execution_count": null,
   "id": "7931f916",
   "metadata": {
    "lines_to_next_cell": 2
   },
   "outputs": [],
   "source": [
    "if __name__ == \"__main__\":\n",
    "\n",
    "    LLMWareConfig().set_active_db(\"sqlite\")\n",
    "\n",
    "    model_name = \"llmware/bling-1b-0.1\"\n",
    "\n",
    "    create_datasets_from_prompt_history(model_name)"
   ]
  }
 ],
 "metadata": {
  "jupytext": {
   "cell_metadata_filter": "-all",
   "main_language": "python",
   "notebook_metadata_filter": "-all"
  }
 },
 "nbformat": 4,
 "nbformat_minor": 5
}
