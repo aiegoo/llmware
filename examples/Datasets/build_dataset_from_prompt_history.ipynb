{
 "cells": [
  {
   "cell_type": "code",
   "execution_count": null,
   "id": "87d1b2fd",
   "metadata": {
    "lines_to_next_cell": 0
   },
   "outputs": [],
   "source": []
  },
  {
   "cell_type": "code",
   "execution_count": 1,
   "id": "fecbf011",
   "metadata": {
    "tags": []
   },
   "outputs": [
    {
     "data": {
      "text/plain": [
       "\"This example shows how to automatically build an 'instruct' dataset from prompt state history\""
      ]
     },
     "execution_count": 1,
     "metadata": {},
     "output_type": "execute_result"
    }
   ],
   "source": [
    "\"\"\"This example shows how to automatically build an 'instruct' dataset from prompt state history\"\"\""
   ]
  },
  {
   "cell_type": "code",
   "execution_count": 3,
   "id": "cc853405",
   "metadata": {
    "tags": []
   },
   "outputs": [],
   "source": [
    "import json\n",
    "import os\n",
    "from llmware.prompts import Prompt\n",
    "from llmware.dataset_tools import Datasets\n",
    "from llmware.configs import LLMWareConfig"
   ]
  },
  {
   "cell_type": "code",
   "execution_count": 5,
   "id": "1bb00513",
   "metadata": {
    "tags": []
   },
   "outputs": [],
   "source": [
    "# Use prompt history to easily create model-ready fine-tuning datasets\n",
    "def create_datasets_from_prompt_history(model_name):\n",
    "\n",
    "    context = \"Joe Biden is the 46th President of the United States.  He was born in Scranton, \" \\\n",
    "              \"Pennsylvania.  He served as Vice President from 2008 through 2016.\"\n",
    "\n",
    "    # Create a Prompt\n",
    "    prompter = Prompt(save_state=True)\n",
    "    prompter.load_model(model_name)\n",
    "\n",
    "    # Perform several prompts\n",
    "    print (f\"\\n > Performing several prompts to populate the prompt state...\")\n",
    "\n",
    "    response = prompter.prompt_main(\"Who was the 46th president?\", context=context,\n",
    "                                    register_trx=True)\n",
    "\n",
    "    response = prompter.prompt_main(prompt=\"What year did Joe Biden start as vice president?\", context=context,\n",
    "                                    register_trx=True)\n",
    "\n",
    "    response = prompter.prompt_main(prompt=\"Who is Joe Biden?\", context=context, register_trx=True)\n",
    "\n",
    "    for i, entries in enumerate(prompter.interaction_history):\n",
    "        print(\"update: interaction prompt history created: \", i, entries)\n",
    "\n",
    "    prompter.save_state()\n",
    "\n",
    "    # Create a Datasets object\n",
    "    datasets = Datasets(testing_split=0.0, validation_split=0.0)\n",
    "\n",
    "    # Create dataset wrapped in \"Alpaca format\"\n",
    "    print (f\"\\n > Creating a dataset from prompt history in ALPACA format...\")\n",
    "    alpaca_dataset = datasets.build_gen_ds_from_prompt_history(prompt_wrapper=\"alpaca\")\n",
    "    print (f\"\\nThe dataset dict:\\n{json.dumps(alpaca_dataset, indent=2)}\")\n",
    "    sample = datasets.get_dataset_sample(datasets.current_ds_name)\n",
    "    print (f\"\\nRandom sample from the dataset:\\n{json.dumps(sample, indent=2)}\")\n",
    "\n",
    "    # Create dataset wrapped in \"Chat GPT format\"\n",
    "    print (f\"\\n > Creating a dataset from prompt history in CHAT GPT format...\")\n",
    "    chatgpt_dataset = datasets.build_gen_ds_from_prompt_history(prompt_wrapper=\"chat_gpt\")\n",
    "    print (f\"\\nThe dataset dict:\\n{json.dumps(chatgpt_dataset, indent=2)}\")\n",
    "    sample = datasets.get_dataset_sample(datasets.current_ds_name)\n",
    "    print (f\"\\nRandom sample from the dataset:\\n{json.dumps(sample, indent=2)}\")\n",
    "\n",
    "    # Create dataset wrapped in \"human_bot format\"\n",
    "    print (f\"\\n > Creating a dataset from prompt history in HUMAN BOT format...\")\n",
    "    humanbot_dataset = datasets.build_gen_ds_from_prompt_history(prompt_wrapper=\"human_bot\")\n",
    "    print (f\"\\nThe dataset dict:\\n{json.dumps(humanbot_dataset, indent=2)}\")\n",
    "    sample = datasets.get_dataset_sample(datasets.current_ds_name)\n",
    "    print (f\"\\nRandom sample from the dataset:\\n{json.dumps(sample, indent=2)}\")\n",
    "\n",
    "    return 0"
   ]
  },
  {
   "cell_type": "code",
   "execution_count": 7,
   "id": "7931f916",
   "metadata": {
    "lines_to_next_cell": 2,
    "tags": []
   },
   "outputs": [
    {
     "name": "stderr",
     "output_type": "stream",
     "text": [
      "C:\\Users\\hsyyu\\AppData\\Roaming\\Python\\Python311\\site-packages\\huggingface_hub\\file_download.py:1132: FutureWarning: `resume_download` is deprecated and will be removed in version 1.0.0. Downloads always resume when possible. If you want to force a new download, use `force_download=True`.\n",
      "  warnings.warn(\n",
      "C:\\Users\\hsyyu\\AppData\\Roaming\\Python\\Python311\\site-packages\\huggingface_hub\\file_download.py:1132: FutureWarning: `resume_download` is deprecated and will be removed in version 1.0.0. Downloads always resume when possible. If you want to force a new download, use `force_download=True`.\n",
      "  warnings.warn(\n"
     ]
    },
    {
     "name": "stdout",
     "output_type": "stream",
     "text": [
      "\n",
      " > Performing several prompts to populate the prompt state...\n",
      "update: interaction prompt history created:  0 {'llm_response': ' Joe Biden', 'prompt': 'Who was the 46th president?', 'evidence': 'Joe Biden is the 46th President of the United States.  He was born in Scranton, Pennsylvania.  He served as Vice President from 2008 through 2016.', 'instruction': 'default_with_context', 'model': 'llmware/bling-1b-0.1', 'usage': {'input': 49, 'output': 3, 'total': 52, 'metric': 'tokens', 'processing_time': 1.197199821472168}, 'time_stamp': '2024-05-15_212742', 'calling_app_ID': '', 'rating': '', 'account_name': 'llmware', 'prompt_id': '0057a3c0-3609-4d9e-b833-1ad2545ec720', 'batch_id': 0, 'evidence_metadata': [{'evidence_start_char': 0, 'evidence_stop_char': 146, 'page_num': 'NA', 'source_name': 'NA', 'doc_id': 'NA', 'block_id': 'NA'}], 'event_type': 'inference', 'human_feedback': '', 'human_assessed_accuracy': ''}\n",
      "update: interaction prompt history created:  1 {'llm_response': ' 2008', 'prompt': 'What year did Joe Biden start as vice president?', 'evidence': 'Joe Biden is the 46th President of the United States.  He was born in Scranton, Pennsylvania.  He served as Vice President from 2008 through 2016.', 'instruction': 'default_with_context', 'model': 'llmware/bling-1b-0.1', 'usage': {'input': 52, 'output': 2, 'total': 54, 'metric': 'tokens', 'processing_time': 0.48575782775878906}, 'time_stamp': '2024-05-15_212743', 'calling_app_ID': '', 'rating': '', 'account_name': 'llmware', 'prompt_id': '0057a3c0-3609-4d9e-b833-1ad2545ec720', 'batch_id': 0, 'evidence_metadata': [{'evidence_start_char': 0, 'evidence_stop_char': 146, 'page_num': 'NA', 'source_name': 'NA', 'doc_id': 'NA', 'block_id': 'NA'}], 'event_type': 'inference', 'human_feedback': '', 'human_assessed_accuracy': ''}\n",
      "update: interaction prompt history created:  2 {'llm_response': ' Joe Biden is the 46th President of the United States.', 'prompt': 'Who is Joe Biden?', 'evidence': 'Joe Biden is the 46th President of the United States.  He was born in Scranton, Pennsylvania.  He served as Vice President from 2008 through 2016.', 'instruction': 'default_with_context', 'model': 'llmware/bling-1b-0.1', 'usage': {'input': 47, 'output': 13, 'total': 60, 'metric': 'tokens', 'processing_time': 1.591876745223999}, 'time_stamp': '2024-05-15_212744', 'calling_app_ID': '', 'rating': '', 'account_name': 'llmware', 'prompt_id': '0057a3c0-3609-4d9e-b833-1ad2545ec720', 'batch_id': 0, 'evidence_metadata': [{'evidence_start_char': 0, 'evidence_stop_char': 146, 'page_num': 'NA', 'source_name': 'NA', 'doc_id': 'NA', 'block_id': 'NA'}], 'event_type': 'inference', 'human_feedback': '', 'human_assessed_accuracy': ''}\n",
      "\n",
      " > Creating a dataset from prompt history in ALPACA format...\n",
      "\n",
      "The dataset dict:\n",
      "{\n",
      "  \"ds_type\": \"build_gen_ds_from_prompt_history\",\n",
      "  \"ds_id\": \"922f98c4-dc98-49d0-9ef6-4565dc1c4e40\",\n",
      "  \"training_samples\": 223,\n",
      "  \"training_files\": [\n",
      "    \"training_samples_0.jsonl\",\n",
      "    \"training_samples_text_0.txt\"\n",
      "  ],\n",
      "  \"validation_samples\": 0,\n",
      "  \"validation_files\": [],\n",
      "  \"testing_samples\": 0,\n",
      "  \"testing_files\": [],\n",
      "  \"batches\": 1,\n",
      "  \"prompt_wrapper\": \"alpaca\",\n",
      "  \"description\": \"Generative AI Dataset created self-supervised from AI audit log records that capture all facets of generative AI inferences, and can be re-packaged to enhance fine-tuning.\",\n",
      "  \"features\": [\n",
      "    \"text\"\n",
      "  ],\n",
      "  \"time_stamp\": \"2024-05-15_212744\"\n",
      "}\n",
      "\n",
      "Random sample from the dataset:\n",
      "{\n",
      "  \"text\": \"Below is an instruction that describes a task. Write a response that appropriately completes the request.\\n ### Instruction: a base salary at the annual rate of $500,000, payable semimonthly in   accordance with Employer's normal payroll practices. Executive's base salary shall be reviewed annually   by the Board (or the compensation committee of the Board), pursuant to Employer's normal   compensation and performance review policies for senior level executives, and may be increased but not   decreased. The amount of any \\nincrease for each year shall be determined accordingly. For purposes of this   Agreement, the term \\u201cBase Salary\\u201d shall mean the amount of Executive's base salary established from   time to time pursuant to this Section 2.2.    2.3. Incentive Bonus. Executive shall be entitled to participate in Employer's annual cash incentive   bonus plan (the \\u201cPlan\\u201d), based on the same terms and conditions \\nsixty (60) days following the date which   the Executive initially has actual knowledge of the occurrence of any such event or condition and   Employer does not fully correct the situation within thirty (30) days after such notice of Good Reason:         (i)  a reduction by Employer in Executive's Base Salary (other than a proportional reduction as part of a   generalized reduction in the base salaries \\nof Termination of the General Release   (as defined below), Executive shall be entitled to continue to receive his Base Salary (\\u201cSalary   Continuation\\u201d) through the twelve-month anniversary of the Date of Termination (the \\u201cSeverance   Period\\u201d) plus an amount equal to the Incentive Bonus earned during the previous fiscal year from the   Date of Termination (\\u201cSeverance Bonus\\u201d and, together \\nof senior management of the Company not to exceed 5% of   Base Salary then currently in effect);         (ii)  Employer changing the location of Executive's principal work location to a location more than thirty   (30) miles from such location;         (iii)  a material reduction or material negative change by Employer in the type or level of compensation   and benefits provided by Employer and its \\n\\nWhat is the executive's base salary? ### Response:  $500,000.\\n<|endoftext|>\"\n",
      "}\n",
      "\n",
      " > Creating a dataset from prompt history in CHAT GPT format...\n",
      "\n",
      "The dataset dict:\n",
      "{\n",
      "  \"ds_type\": \"build_gen_ds_from_prompt_history\",\n",
      "  \"ds_id\": \"70dcb592-d1be-48c5-bfaa-2d570596d82e\",\n",
      "  \"training_samples\": 223,\n",
      "  \"training_files\": [\n",
      "    \"training_samples_0.jsonl\",\n",
      "    \"training_samples_text_0.txt\"\n",
      "  ],\n",
      "  \"validation_samples\": 0,\n",
      "  \"validation_files\": [],\n",
      "  \"testing_samples\": 0,\n",
      "  \"testing_files\": [],\n",
      "  \"batches\": 1,\n",
      "  \"prompt_wrapper\": \"chat_gpt\",\n",
      "  \"description\": \"Generative AI Dataset created self-supervised from AI audit log records that capture all facets of generative AI inferences, and can be re-packaged to enhance fine-tuning.\",\n",
      "  \"features\": [\n",
      "    \"text\"\n",
      "  ],\n",
      "  \"time_stamp\": \"2024-05-15_212745\"\n",
      "}\n",
      "\n",
      "Random sample from the dataset:\n",
      "[\n",
      "  {\n",
      "    \"role\": \"system\",\n",
      "    \"content\": \"You are a helpful assistant who speaks with facts and no wasted words.\"\n",
      "  },\n",
      "  {\n",
      "    \"role\": \"user\",\n",
      "    \"content\": \" party  may  be   deemed  notice  of   termination  of  this  Agreement,  effective  on  the  date  of  assignment, by the other party.   Survival upon Termination or End of Term.   The   provisions  regarding  warranty,  limitation  of  liability,  confidentiality,  fees  and   expenses,  obligations  on   termination or expiration, ownership and license, and miscellaneous of this  Agreement, and \\n any  work  order  or  services  description  if  the  other  party  is  in  material  breach  or   default  of any obligation that is not cured  within 15 days' notice of such breach. The TestCo agrees to pay all fees   for services performed  and  expenses  incurred  prior  to  the  termination  of  this  Agreement.  Termination  of  this   Agreement  will  terminate  all  outstanding  Statement \\n of  the  Customer, which  includes  trade  secrets.   Accordingly,  in  order  to  prevent TestCo  and  its  employees  from  intentionally  or  unintentionally   misappropriating any residual Confidential Information, TestCo agr ees that for the period of one (1)   year from the termination of this Agreement, its employees who provide services hereunder will not   work on any Competitive Products \\nbelow.   Each of the contracting parties agrees to notify the other in writing of address or  contact changes.     All  notices,  authorizations,  and  requests  given  or  made  in  connection  with  this  agreement,  including notice of   termination of this agreement, must be sent by  post, express courier, facsimile,  or email to the addresses and   numbers indicated in this section. Notices will \\nmust be   brought within two years from the date that the cause of action arose.   Term and Termination of Agreement; Assignment.   This Agreement shall remain in effect until terminated. Either party may terminate this agreement,  any Statement of   Work or Services Description for convenience by giving the other party 30 days   written  notice.  Either  party  may   terminate  this  Agreement  or \\nany provisions specified  as surviving in a Statement of Work or Services  Description, survive any termination or expiration of this agreement,   any Statement of Work or   Services Description.   Severability.  If  a  court  holds  any   provision  of  this  Agreement  to  be  illegal,  invalid  or  unenforceable,  the   remaining   provisions will remain in full force and effect and the parties \\n(24) months  following   termination  of  this  Agreement,  directly  or  indirectly,  call  on  or  attempt  to  call  on,  hire,  solicit,  or  induce  any   change  in  or  cessation  of,   the  business  relationship,  of  any   customers,  clients, contractors, vendors, contract   manufacturers, suppliers, investors or employees of other on  whom  the party  called  on  or  became  acquainted \\n\\nWhat is the notice for termination for convenience?\"\n",
      "  },\n",
      "  {\n",
      "    \"role\": \"assistant\",\n",
      "    \"content\": \"30 days written notice.\"\n",
      "  }\n",
      "]\n",
      "\n",
      " > Creating a dataset from prompt history in HUMAN BOT format...\n",
      "\n",
      "The dataset dict:\n",
      "{\n",
      "  \"ds_type\": \"build_gen_ds_from_prompt_history\",\n",
      "  \"ds_id\": \"5387a3e6-2927-4dbc-a9bf-b8b4348bcbc2\",\n",
      "  \"training_samples\": 223,\n",
      "  \"training_files\": [\n",
      "    \"training_samples_0.jsonl\",\n",
      "    \"training_samples_text_0.txt\"\n",
      "  ],\n",
      "  \"validation_samples\": 0,\n",
      "  \"validation_files\": [],\n",
      "  \"testing_samples\": 0,\n",
      "  \"testing_files\": [],\n",
      "  \"batches\": 1,\n",
      "  \"prompt_wrapper\": \"human_bot\",\n",
      "  \"description\": \"Generative AI Dataset created self-supervised from AI audit log records that capture all facets of generative AI inferences, and can be re-packaged to enhance fine-tuning.\",\n",
      "  \"features\": [\n",
      "    \"text\"\n",
      "  ],\n",
      "  \"time_stamp\": \"2024-05-15_212745\"\n",
      "}\n",
      "\n",
      "Random sample from the dataset:\n",
      "{\n",
      "  \"text\": \"<human>: EXECUTIVE EMPLOYMENT AGREEMENT    THIS EXECUTIVE EMPLOYMENT AGREEMENT (this \\u201cAgreement\\u201d) is entered into this 2nd day of   April, 2012, by and between Bia Hermes (\\u201cExecutive\\u201d) and TestCo Software, Inc. (the \\u201cCompany\\u201d or \\u201cEmployer\\u201d),   and shall become effective upon Executive's commencement of employment (the \\u201cEffective Date\\u201d) which is   expected to commence on January 16, 2013. \\nIN WITNESS WHEREOF, the undersigned, intending to be legally bound, have executed this   Agreement as of the date first above written.       TESTCO SOFTWARE, INC.     /s/    Name: TESTCO CEO   Title: Authorized Signatory     EXECUTIVE     /s/   Bia Hermes       Signature Page to Executive Employment Agreement   \\nlegal or tax advice,  (iii) disclosing the post-employment restrictions in this Agreement in confidence to any   potential new employer, or (iv) retaining, at any time, his personal correspondence, personal   rolodex and documents related to his own personal benefits, entitlements and obligations.    4.2. Non-Competition and Other Restricted Activity.    (a) Non-Competition. During Executive's employment \\nuntil Employer acts to   terminate Executive's employment due to a Disability. If Employer terminates Executive's employment   due to a Disability, or if Executive dies while employed by Employer, then except as otherwise provided   under the terms of the Separation Plan, (a) after Executive's Date of Termination, no further payments   and benefits shall be due under Section 2 of this Agreement, and \\n Any termination of Executive's employment shall be communicated by a   written notice of termination to the other party hereto given in accordance with Section 8. The notice of   termination shall (a) indicate the specific termination provision in this Agreement relied upon, (b) briefly   summarize the facts and circumstances deemed to provide a basis for a termination of employment, and   (c) specify \\n\\nWhat are the names of the two parties?\\n\\n<bot>:  Bia Hermes and TestCo Software, Inc.<|endoftext|>\"\n",
      "}\n"
     ]
    }
   ],
   "source": [
    "if __name__ == \"__main__\":\n",
    "\n",
    "    LLMWareConfig().set_active_db(\"sqlite\")\n",
    "\n",
    "    model_name = \"llmware/bling-1b-0.1\"\n",
    "\n",
    "    create_datasets_from_prompt_history(model_name)"
   ]
  },
  {
   "cell_type": "code",
   "execution_count": 8,
   "id": "d67eeb6e-dd9d-40b7-ab00-33f33b2bc1ac",
   "metadata": {
    "tags": []
   },
   "outputs": [
    {
     "name": "stdout",
     "output_type": "stream",
     "text": [
      "No GPU available. Using CPU instead.\n"
     ]
    }
   ],
   "source": [
    "import torch\n",
    "\n",
    "if torch.cuda.is_available():\n",
    "    device = torch.device(\"cuda\")\n",
    "    print(f\"GPU: {torch.cuda.get_device_name(0)}\")\n",
    "    print(f\"Total Memory: {torch.cuda.get_device_properties(device).total_memory / 1024**3:.2f} GB\")\n",
    "    print(f\"CUDA Version: {torch.version.cuda}\")\n",
    "else:\n",
    "    print(\"No GPU available. Using CPU instead.\")\n"
   ]
  },
  {
   "cell_type": "code",
   "execution_count": 9,
   "id": "65d92ecb-7f93-403b-8efc-fa80078a6b8a",
   "metadata": {
    "tags": []
   },
   "outputs": [
    {
     "name": "stdout",
     "output_type": "stream",
     "text": [
      "2.3.0+cpu\n"
     ]
    }
   ],
   "source": [
    "import torch\n",
    "print(torch.__version__)"
   ]
  },
  {
   "cell_type": "code",
   "execution_count": 10,
   "id": "c363f3a9-27af-47b5-af6b-6364c78ecda2",
   "metadata": {
    "tags": []
   },
   "outputs": [
    {
     "name": "stdout",
     "output_type": "stream",
     "text": [
      "CUDA is not available. Using CPU.\n"
     ]
    }
   ],
   "source": [
    "import torch\n",
    "\n",
    "# Check if CUDA (GPU) is available\n",
    "if torch.cuda.is_available():\n",
    "    # Get the number of available GPUs\n",
    "    gpu_count = torch.cuda.device_count()\n",
    "    print(f\"Found {gpu_count} GPU(s) available.\")\n",
    "else:\n",
    "    print(\"CUDA is not available. Using CPU.\")"
   ]
  },
  {
   "cell_type": "code",
   "execution_count": 5,
   "id": "4d02edeb-9562-41e0-8b41-c83468b5747a",
   "metadata": {},
   "outputs": [
    {
     "name": "stdout",
     "output_type": "stream",
     "text": [
      "^C\n"
     ]
    }
   ],
   "source": [
    "!conda install anaconda"
   ]
  },
  {
   "cell_type": "code",
   "execution_count": 3,
   "id": "3f386065-7a05-4d36-8966-f9d0cd12d577",
   "metadata": {},
   "outputs": [
    {
     "name": "stdout",
     "output_type": "stream",
     "text": [
      "Channels:\n",
      " - conda-forge\n",
      " - defaults\n",
      " - pytorch\n",
      "Platform: win-64\n",
      "Collecting package metadata (repodata.json): ...working... done\n",
      "Solving environment: ...working... done\n",
      "\n",
      "# All requested packages already installed.\n",
      "\n"
     ]
    }
   ],
   "source": [
    "!conda update --name base conda"
   ]
  },
  {
   "cell_type": "code",
   "execution_count": 4,
   "id": "bc4ddd70-54ed-4f87-89c3-ef20d81f2520",
   "metadata": {},
   "outputs": [
    {
     "name": "stdout",
     "output_type": "stream",
     "text": [
      "Thu May 16 00:07:20 2024       \n",
      "+-----------------------------------------------------------------------------------------+\n",
      "| NVIDIA-SMI 551.78                 Driver Version: 551.78         CUDA Version: 12.4     |\n",
      "|-----------------------------------------+------------------------+----------------------+\n",
      "| GPU  Name                     TCC/WDDM  | Bus-Id          Disp.A | Volatile Uncorr. ECC |\n",
      "| Fan  Temp   Perf          Pwr:Usage/Cap |           Memory-Usage | GPU-Util  Compute M. |\n",
      "|                                         |                        |               MIG M. |\n",
      "|=========================================+========================+======================|\n",
      "|   0  NVIDIA GeForce RTX 4050 ...  WDDM  |   00000000:01:00.0 Off |                  N/A |\n",
      "| N/A   54C    P4             11W /   30W |       0MiB /   6141MiB |      0%      Default |\n",
      "|                                         |                        |                  N/A |\n",
      "+-----------------------------------------+------------------------+----------------------+\n",
      "                                                                                         \n",
      "+-----------------------------------------------------------------------------------------+\n",
      "| Processes:                                                                              |\n",
      "|  GPU   GI   CI        PID   Type   Process name                              GPU Memory |\n",
      "|        ID   ID                                                               Usage      |\n",
      "|=========================================================================================|\n",
      "|  No running processes found                                                             |\n",
      "+-----------------------------------------------------------------------------------------+\n"
     ]
    }
   ],
   "source": [
    "!nvidia-smi"
   ]
  },
  {
   "cell_type": "code",
   "execution_count": 6,
   "id": "eb9e2dc7-b80e-461f-add1-80d39397a1ea",
   "metadata": {},
   "outputs": [
    {
     "name": "stdout",
     "output_type": "stream",
     "text": [
      "nvcc: NVIDIA (R) Cuda compiler driver\n",
      "Copyright (c) 2005-2024 NVIDIA Corporation\n",
      "Built on Thu_Mar_28_02:30:10_Pacific_Daylight_Time_2024\n",
      "Cuda compilation tools, release 12.4, V12.4.131\n",
      "Build cuda_12.4.r12.4/compiler.34097967_0\n"
     ]
    }
   ],
   "source": [
    "!nvcc --version"
   ]
  },
  {
   "cell_type": "code",
   "execution_count": 7,
   "id": "aa7a8953-683a-4db0-b1e2-1486a76d5b00",
   "metadata": {},
   "outputs": [
    {
     "name": "stdout",
     "output_type": "stream",
     "text": [
      "Requirement already satisfied: torch in c:\\users\\hsyyu\\anaconda3\\envs\\llmware\\lib\\site-packages (2.3.0)\n",
      "Requirement already satisfied: torchvision in c:\\users\\hsyyu\\anaconda3\\envs\\llmware\\lib\\site-packages (0.18.0)\n",
      "Requirement already satisfied: torchaudio in c:\\users\\hsyyu\\anaconda3\\envs\\llmware\\lib\\site-packages (2.0.2)\n",
      "Collecting torchaudio\n",
      "  Using cached torchaudio-2.3.0-cp311-cp311-win_amd64.whl.metadata (6.4 kB)\n",
      "Requirement already satisfied: filelock in c:\\users\\hsyyu\\appdata\\roaming\\python\\python311\\site-packages (from torch) (3.14.0)\n",
      "Requirement already satisfied: typing-extensions>=4.8.0 in c:\\users\\hsyyu\\appdata\\roaming\\python\\python311\\site-packages (from torch) (4.11.0)\n",
      "Requirement already satisfied: sympy in c:\\users\\hsyyu\\appdata\\roaming\\python\\python311\\site-packages (from torch) (1.12)\n",
      "Requirement already satisfied: networkx in c:\\users\\hsyyu\\appdata\\roaming\\python\\python311\\site-packages (from torch) (3.3)\n",
      "Requirement already satisfied: jinja2 in c:\\users\\hsyyu\\appdata\\roaming\\python\\python311\\site-packages (from torch) (3.1.4)\n",
      "Requirement already satisfied: fsspec in c:\\users\\hsyyu\\appdata\\roaming\\python\\python311\\site-packages (from torch) (2024.3.1)\n",
      "Requirement already satisfied: mkl<=2021.4.0,>=2021.1.1 in c:\\users\\hsyyu\\appdata\\roaming\\python\\python311\\site-packages (from torch) (2021.4.0)\n",
      "Requirement already satisfied: numpy in c:\\users\\hsyyu\\appdata\\roaming\\python\\python311\\site-packages (from torchvision) (1.24.3)\n",
      "Requirement already satisfied: pillow!=8.3.*,>=5.3.0 in c:\\users\\hsyyu\\anaconda3\\envs\\llmware\\lib\\site-packages (from torchvision) (10.3.0)\n",
      "Requirement already satisfied: intel-openmp==2021.* in c:\\users\\hsyyu\\appdata\\roaming\\python\\python311\\site-packages (from mkl<=2021.4.0,>=2021.1.1->torch) (2021.4.0)\n",
      "Requirement already satisfied: tbb==2021.* in c:\\users\\hsyyu\\anaconda3\\envs\\llmware\\lib\\site-packages (from mkl<=2021.4.0,>=2021.1.1->torch) (2021.12.0)\n",
      "Requirement already satisfied: MarkupSafe>=2.0 in c:\\users\\hsyyu\\appdata\\roaming\\python\\python311\\site-packages (from jinja2->torch) (2.1.3)\n",
      "Requirement already satisfied: mpmath>=0.19 in c:\\users\\hsyyu\\appdata\\roaming\\python\\python311\\site-packages (from sympy->torch) (1.3.0)\n",
      "Downloading torchaudio-2.3.0-cp311-cp311-win_amd64.whl (2.4 MB)\n",
      "   ---------------------------------------- 0.0/2.4 MB ? eta -:--:--\n",
      "   ---------------------------------------- 0.0/2.4 MB ? eta -:--:--\n",
      "   ----- ---------------------------------- 0.3/2.4 MB 4.2 MB/s eta 0:00:01\n",
      "   ------------------------- -------------- 1.5/2.4 MB 12.0 MB/s eta 0:00:01\n",
      "   ---------------------------------------- 2.4/2.4 MB 15.1 MB/s eta 0:00:00\n",
      "Installing collected packages: torchaudio\n",
      "  Attempting uninstall: torchaudio\n",
      "    Found existing installation: torchaudio 2.0.2\n",
      "    Uninstalling torchaudio-2.0.2:\n",
      "      Successfully uninstalled torchaudio-2.0.2\n",
      "Successfully installed torchaudio-2.3.0\n"
     ]
    },
    {
     "name": "stderr",
     "output_type": "stream",
     "text": [
      "WARNING: Skipping C:\\Users\\hsyyu\\anaconda3\\envs\\llmware\\Lib\\site-packages\\torch-2.0.1.dist-info due to invalid metadata entry 'name'\n",
      "WARNING: Skipping C:\\Users\\hsyyu\\anaconda3\\envs\\llmware\\Lib\\site-packages\\torch-2.0.1.dist-info due to invalid metadata entry 'name'\n",
      "    WARNING: Skipping C:\\Users\\hsyyu\\anaconda3\\envs\\llmware\\Lib\\site-packages\\torch-2.0.1.dist-info due to invalid metadata entry 'name'\n",
      "WARNING: Skipping C:\\Users\\hsyyu\\anaconda3\\envs\\llmware\\Lib\\site-packages\\torch-2.0.1.dist-info due to invalid metadata entry 'name'\n"
     ]
    }
   ],
   "source": [
    "!pip install --upgrade torch torchvision torchaudio"
   ]
  },
  {
   "cell_type": "code",
   "execution_count": 11,
   "id": "d49f5335-7074-4ce2-b88f-45d041731083",
   "metadata": {},
   "outputs": [
    {
     "name": "stdout",
     "output_type": "stream",
     "text": [
      "Collecting nomic\n",
      "  Downloading nomic-3.0.28.tar.gz (44 kB)\n",
      "     ---------------------------------------- 0.0/44.2 kB ? eta -:--:--\n",
      "     ----------------- -------------------- 20.5/44.2 kB 682.7 kB/s eta 0:00:01\n",
      "     -------------------------------------- 44.2/44.2 kB 547.7 kB/s eta 0:00:00\n",
      "  Installing build dependencies: started\n",
      "  Installing build dependencies: finished with status 'done'\n",
      "  Getting requirements to build wheel: started\n",
      "  Getting requirements to build wheel: finished with status 'done'\n",
      "  Installing backend dependencies: started\n",
      "  Installing backend dependencies: finished with status 'done'\n",
      "  Preparing metadata (pyproject.toml): started\n",
      "  Preparing metadata (pyproject.toml): finished with status 'done'\n",
      "Collecting click (from nomic)\n",
      "  Using cached click-8.1.7-py3-none-any.whl.metadata (3.0 kB)\n",
      "Collecting jsonlines (from nomic)\n",
      "  Downloading jsonlines-4.0.0-py3-none-any.whl.metadata (1.6 kB)\n",
      "Collecting loguru (from nomic)\n",
      "  Downloading loguru-0.7.2-py3-none-any.whl.metadata (23 kB)\n",
      "Collecting rich (from nomic)\n",
      "  Using cached rich-13.7.1-py3-none-any.whl.metadata (18 kB)\n",
      "Requirement already satisfied: requests in c:\\users\\hsyyu\\appdata\\roaming\\python\\python311\\site-packages (from nomic) (2.31.0)\n",
      "Requirement already satisfied: numpy in c:\\users\\hsyyu\\appdata\\roaming\\python\\python311\\site-packages (from nomic) (1.24.3)\n",
      "Collecting pandas (from nomic)\n",
      "  Downloading pandas-2.2.2-cp311-cp311-win_amd64.whl.metadata (19 kB)\n",
      "Requirement already satisfied: pydantic in c:\\users\\hsyyu\\appdata\\roaming\\python\\python311\\site-packages (from nomic) (2.7.1)\n",
      "Requirement already satisfied: tqdm in c:\\users\\hsyyu\\appdata\\roaming\\python\\python311\\site-packages (from nomic) (4.66.4)\n",
      "Collecting pyarrow (from nomic)\n",
      "  Downloading pyarrow-16.1.0-cp311-cp311-win_amd64.whl.metadata (3.1 kB)\n",
      "Requirement already satisfied: pillow in c:\\users\\hsyyu\\anaconda3\\envs\\llmware\\lib\\site-packages (from nomic) (10.3.0)\n",
      "Collecting pyjwt (from nomic)\n",
      "  Downloading PyJWT-2.8.0-py3-none-any.whl.metadata (4.2 kB)\n",
      "Requirement already satisfied: colorama in c:\\users\\hsyyu\\appdata\\roaming\\python\\python311\\site-packages (from click->nomic) (0.4.6)\n",
      "Collecting attrs>=19.2.0 (from jsonlines->nomic)\n",
      "  Downloading attrs-23.2.0-py3-none-any.whl.metadata (9.5 kB)\n",
      "Collecting win32-setctime>=1.0.0 (from loguru->nomic)\n",
      "  Downloading win32_setctime-1.1.0-py3-none-any.whl.metadata (2.3 kB)\n",
      "Requirement already satisfied: python-dateutil>=2.8.2 in c:\\users\\hsyyu\\appdata\\roaming\\python\\python311\\site-packages (from pandas->nomic) (2.9.0.post0)\n",
      "Collecting pytz>=2020.1 (from pandas->nomic)\n",
      "  Using cached pytz-2024.1-py2.py3-none-any.whl.metadata (22 kB)\n",
      "Requirement already satisfied: tzdata>=2022.7 in c:\\users\\hsyyu\\appdata\\roaming\\python\\python311\\site-packages (from pandas->nomic) (2024.1)\n",
      "Requirement already satisfied: annotated-types>=0.4.0 in c:\\users\\hsyyu\\appdata\\roaming\\python\\python311\\site-packages (from pydantic->nomic) (0.6.0)\n",
      "Requirement already satisfied: pydantic-core==2.18.2 in c:\\users\\hsyyu\\appdata\\roaming\\python\\python311\\site-packages (from pydantic->nomic) (2.18.2)\n",
      "Requirement already satisfied: typing-extensions>=4.6.1 in c:\\users\\hsyyu\\appdata\\roaming\\python\\python311\\site-packages (from pydantic->nomic) (4.11.0)\n",
      "Collecting charset-normalizer<4,>=2 (from requests->nomic)\n",
      "  Downloading charset_normalizer-3.3.2-cp311-cp311-win_amd64.whl.metadata (34 kB)\n",
      "Requirement already satisfied: idna<4,>=2.5 in c:\\users\\hsyyu\\appdata\\roaming\\python\\python311\\site-packages (from requests->nomic) (3.4)\n",
      "Requirement already satisfied: urllib3<3,>=1.21.1 in c:\\users\\hsyyu\\appdata\\roaming\\python\\python311\\site-packages (from requests->nomic) (1.26.16)\n",
      "Requirement already satisfied: certifi>=2017.4.17 in c:\\users\\hsyyu\\appdata\\roaming\\python\\python311\\site-packages (from requests->nomic) (2023.7.22)\n",
      "Collecting markdown-it-py>=2.2.0 (from rich->nomic)\n",
      "  Using cached markdown_it_py-3.0.0-py3-none-any.whl.metadata (6.9 kB)\n",
      "Collecting pygments<3.0.0,>=2.13.0 (from rich->nomic)\n",
      "  Using cached pygments-2.18.0-py3-none-any.whl.metadata (2.5 kB)\n",
      "Collecting mdurl~=0.1 (from markdown-it-py>=2.2.0->rich->nomic)\n",
      "  Using cached mdurl-0.1.2-py3-none-any.whl.metadata (1.6 kB)\n",
      "Requirement already satisfied: six>=1.5 in c:\\users\\hsyyu\\appdata\\roaming\\python\\python311\\site-packages (from python-dateutil>=2.8.2->pandas->nomic) (1.16.0)\n",
      "Using cached click-8.1.7-py3-none-any.whl (97 kB)\n",
      "Downloading jsonlines-4.0.0-py3-none-any.whl (8.7 kB)\n",
      "Downloading loguru-0.7.2-py3-none-any.whl (62 kB)\n",
      "   ---------------------------------------- 0.0/62.5 kB ? eta -:--:--\n",
      "   ---------------------------------------- 62.5/62.5 kB 3.3 MB/s eta 0:00:00\n",
      "Downloading pandas-2.2.2-cp311-cp311-win_amd64.whl (11.6 MB)\n",
      "   ---------------------------------------- 0.0/11.6 MB ? eta -:--:--\n",
      "   ------ --------------------------------- 2.0/11.6 MB 42.9 MB/s eta 0:00:01\n",
      "   --------------- ------------------------ 4.5/11.6 MB 57.2 MB/s eta 0:00:01\n",
      "   -------------------- ------------------- 6.1/11.6 MB 43.4 MB/s eta 0:00:01\n",
      "   --------------------- ------------------ 6.3/11.6 MB 44.8 MB/s eta 0:00:01\n",
      "   --------------------- ------------------ 6.3/11.6 MB 44.8 MB/s eta 0:00:01\n",
      "   ------------------------- -------------- 7.5/11.6 MB 28.1 MB/s eta 0:00:01\n",
      "   --------------------------------- ------ 9.6/11.6 MB 30.9 MB/s eta 0:00:01\n",
      "   ---------------------------------------  11.6/11.6 MB 31.2 MB/s eta 0:00:01\n",
      "   ---------------------------------------- 11.6/11.6 MB 28.5 MB/s eta 0:00:00\n",
      "Downloading pyarrow-16.1.0-cp311-cp311-win_amd64.whl (25.9 MB)\n",
      "   ---------------------------------------- 0.0/25.9 MB ? eta -:--:--\n",
      "   -- ------------------------------------- 1.4/25.9 MB 41.9 MB/s eta 0:00:01\n",
      "   -- ------------------------------------- 1.8/25.9 MB 18.8 MB/s eta 0:00:02\n",
      "   ----- ---------------------------------- 3.7/25.9 MB 26.4 MB/s eta 0:00:01\n",
      "   --------- ------------------------------ 5.9/25.9 MB 31.3 MB/s eta 0:00:01\n",
      "   ------------ --------------------------- 8.0/25.9 MB 34.2 MB/s eta 0:00:01\n",
      "   --------------- ------------------------ 9.7/25.9 MB 36.5 MB/s eta 0:00:01\n",
      "   ------------------ --------------------- 11.9/25.9 MB 40.9 MB/s eta 0:00:01\n",
      "   --------------------- ------------------ 14.2/25.9 MB 43.7 MB/s eta 0:00:01\n",
      "   ------------------------- -------------- 16.4/25.9 MB 43.7 MB/s eta 0:00:01\n",
      "   ---------------------------- ----------- 18.3/25.9 MB 43.7 MB/s eta 0:00:01\n",
      "   ------------------------------- -------- 20.2/25.9 MB 46.9 MB/s eta 0:00:01\n",
      "   ---------------------------------- ----- 22.2/25.9 MB 46.7 MB/s eta 0:00:01\n",
      "   ------------------------------------- -- 24.1/25.9 MB 43.7 MB/s eta 0:00:01\n",
      "   ---------------------------------------  25.9/25.9 MB 43.7 MB/s eta 0:00:01\n",
      "   ---------------------------------------- 25.9/25.9 MB 38.6 MB/s eta 0:00:00\n",
      "Downloading PyJWT-2.8.0-py3-none-any.whl (22 kB)\n",
      "Using cached rich-13.7.1-py3-none-any.whl (240 kB)\n",
      "Downloading attrs-23.2.0-py3-none-any.whl (60 kB)\n",
      "   ---------------------------------------- 0.0/60.8 kB ? eta -:--:--\n",
      "   ---------------------------------------- 60.8/60.8 kB 3.2 MB/s eta 0:00:00\n",
      "Downloading charset_normalizer-3.3.2-cp311-cp311-win_amd64.whl (99 kB)\n",
      "   ---------------------------------------- 0.0/99.9 kB ? eta -:--:--\n",
      "   ---------------------------------------- 99.9/99.9 kB ? eta 0:00:00\n",
      "Using cached markdown_it_py-3.0.0-py3-none-any.whl (87 kB)\n",
      "Using cached pygments-2.18.0-py3-none-any.whl (1.2 MB)\n",
      "Using cached pytz-2024.1-py2.py3-none-any.whl (505 kB)\n",
      "Downloading win32_setctime-1.1.0-py3-none-any.whl (3.6 kB)\n",
      "Using cached mdurl-0.1.2-py3-none-any.whl (10.0 kB)\n",
      "Building wheels for collected packages: nomic\n",
      "  Building wheel for nomic (pyproject.toml): started\n",
      "  Building wheel for nomic (pyproject.toml): finished with status 'done'\n",
      "  Created wheel for nomic: filename=nomic-3.0.28-py3-none-any.whl size=44796 sha256=30136846f8272bb01fed93b40bae45931375443dc5e4e2948a666d89727b2c90\n",
      "  Stored in directory: c:\\users\\hsyyu\\appdata\\local\\pip\\cache\\wheels\\0a\\a2\\f2\\3b146aab7d2ccda79435f706d4994074e9cd91b7ffd96961ec\n",
      "Successfully built nomic\n",
      "Installing collected packages: pytz, win32-setctime, pyjwt, pygments, pyarrow, mdurl, click, charset-normalizer, attrs, pandas, markdown-it-py, loguru, jsonlines, rich, nomic\n",
      "Successfully installed attrs-23.2.0 charset-normalizer-3.3.2 click-8.1.7 jsonlines-4.0.0 loguru-0.7.2 markdown-it-py-3.0.0 mdurl-0.1.2 nomic-3.0.28 pandas-2.2.2 pyarrow-16.1.0 pygments-2.18.0 pyjwt-2.8.0 pytz-2024.1 rich-13.7.1 win32-setctime-1.1.0\n"
     ]
    },
    {
     "name": "stderr",
     "output_type": "stream",
     "text": [
      "WARNING: Skipping C:\\Users\\hsyyu\\anaconda3\\envs\\llmware\\Lib\\site-packages\\torch-2.0.1.dist-info due to invalid metadata entry 'name'\n",
      "WARNING: Skipping C:\\Users\\hsyyu\\anaconda3\\envs\\llmware\\Lib\\site-packages\\torch-2.0.1.dist-info due to invalid metadata entry 'name'\n",
      "WARNING: Skipping C:\\Users\\hsyyu\\anaconda3\\envs\\llmware\\Lib\\site-packages\\torch-2.0.1.dist-info due to invalid metadata entry 'name'\n",
      "ERROR: pip's dependency resolver does not currently take into account all the packages that are installed. This behaviour is the source of the following dependency conflicts.\n",
      "tensorboard 2.13.0 requires grpcio>=1.48.2, which is not installed.\n",
      "tensorflow-intel 2.13.0 requires grpcio<2.0,>=1.24.3, which is not installed.\n",
      "tensorflow-intel 2.13.0 requires typing-extensions<4.6.0,>=3.6.6, but you have typing-extensions 4.11.0 which is incompatible.\n"
     ]
    }
   ],
   "source": [
    "!pip install nomic"
   ]
  },
  {
   "cell_type": "code",
   "execution_count": 12,
   "id": "d5cb1c10-8fc8-487a-ab71-742ddba6e7ab",
   "metadata": {},
   "outputs": [
    {
     "name": "stderr",
     "output_type": "stream",
     "text": [
      "WARNING: Skipping C:\\Users\\hsyyu\\anaconda3\\envs\\llmware\\Lib\\site-packages\\torch-2.0.1.dist-info due to invalid metadata entry 'name'\n",
      "WARNING: Skipping C:\\Users\\hsyyu\\anaconda3\\envs\\llmware\\Lib\\site-packages\\torch-2.0.1.dist-info due to invalid metadata entry 'name'\n",
      "ERROR: pip's dependency resolver does not currently take into account all the packages that are installed. This behaviour is the source of the following dependency conflicts.\n",
      "tensorflow-intel 2.13.0 requires typing-extensions<4.6.0,>=3.6.6, but you have typing-extensions 4.11.0 which is incompatible.\n"
     ]
    }
   ],
   "source": [
    "!pip install grpcio>=1.48.2"
   ]
  }
 ],
 "metadata": {
  "jupytext": {
   "cell_metadata_filter": "-all",
   "main_language": "python",
   "notebook_metadata_filter": "-all"
  },
  "kernelspec": {
   "display_name": "Python 3 (ipykernel)",
   "language": "python",
   "name": "python3"
  },
  "language_info": {
   "codemirror_mode": {
    "name": "ipython",
    "version": 3
   },
   "file_extension": ".py",
   "mimetype": "text/x-python",
   "name": "python",
   "nbconvert_exporter": "python",
   "pygments_lexer": "ipython3",
   "version": "3.12.0"
  }
 },
 "nbformat": 4,
 "nbformat_minor": 5
}
