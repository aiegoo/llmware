{
 "cells": [
  {
   "cell_type": "code",
   "execution_count": null,
   "id": "2c85a221",
   "metadata": {
    "lines_to_next_cell": 0
   },
   "outputs": [],
   "source": []
  },
  {
   "cell_type": "code",
   "execution_count": 1,
   "id": "3aec6259",
   "metadata": {},
   "outputs": [
    {
     "data": {
      "text/plain": [
       "'\\n#   This example shows how easily a core text dataset for domain adaptation can be created.\\n#   The dataset is packaged as JSONL files with each row representing a training sample, and is automatically split\\n#   into train / test / validation datasets. A manifest.json file describes the dataset artifacts in the archive.\\n#   This dataset is designed primarily for fine-tuning semantic embedding models using a contrastive distortion\\n#   technique, such as TSDAE or DECLUTR, but the dataset is generally \"model-ready\" for most \"language model\"\\n#   unsupervised tasks.\\n\\n#   Note: this dataset is not intended for instruct-training -> see other examples for building instruct/dialog datasets\\n'"
      ]
     },
     "execution_count": 1,
     "metadata": {},
     "output_type": "execute_result"
    }
   ],
   "source": [
    "\"\"\"\n",
    "#   This example shows how easily a core text dataset for domain adaptation can be created.\n",
    "#   The dataset is packaged as JSONL files with each row representing a training sample, and is automatically split\n",
    "#   into train / test / validation datasets. A manifest.json file describes the dataset artifacts in the archive.\n",
    "#   This dataset is designed primarily for fine-tuning semantic embedding models using a contrastive distortion\n",
    "#   technique, such as TSDAE or DECLUTR, but the dataset is generally \"model-ready\" for most \"language model\"\n",
    "#   unsupervised tasks.\n",
    "\n",
    "#   Note: this dataset is not intended for instruct-training -> see other examples for building instruct/dialog datasets\n",
    "\"\"\""
   ]
  },
  {
   "cell_type": "code",
   "execution_count": 2,
   "id": "9986346d",
   "metadata": {},
   "outputs": [],
   "source": [
    "import os"
   ]
  },
  {
   "cell_type": "code",
   "execution_count": 3,
   "id": "43115006",
   "metadata": {},
   "outputs": [],
   "source": [
    "from llmware.library import Library\n",
    "from llmware.dataset_tools import Datasets\n",
    "from llmware.setup import Setup\n",
    "from llmware.configs import LLMWareConfig"
   ]
  },
  {
   "cell_type": "code",
   "execution_count": 4,
   "id": "c6df5336",
   "metadata": {},
   "outputs": [],
   "source": [
    "def build_embedding_finetuning_dataset(library_name):\n",
    "\n",
    "    # step 1 - create new library\n",
    "    lib = Library().create_new_library(library_name)\n",
    "\n",
    "    # step 2 - pull sample documents (or point to your own)\n",
    "    sample_file_path = Setup().load_sample_files(over_write=False)\n",
    "    fin_docs_path = os.path.join(sample_file_path, \"metafactory\")\n",
    "\n",
    "    # step 3 - parse, text chunk and index files that will be used to create the dataset\n",
    "    parsing_output = lib.add_files(fin_docs_path)\n",
    "\n",
    "    print(\"update: completed parsing - \", parsing_output)\n",
    "\n",
    "    # step 4 - create dataset\n",
    "    ds = Datasets(library=lib, testing_split=0.10, validation_split=0.10)\n",
    "    ds_output = ds.build_text_ds(min_tokens=100, max_tokens=500)\n",
    "    print(\"update: completed building dataset - \", ds_output)\n",
    "    print(\"update: dataset will be found in this path - \", lib.dataset_path)\n",
    "\n",
    "    return ds_output"
   ]
  },
  {
   "cell_type": "code",
   "execution_count": 5,
   "id": "789028de",
   "metadata": {},
   "outputs": [
    {
     "ename": "FileNotFoundError",
     "evalue": "[WinError 3] The system cannot find the path specified: 'C:\\\\Users\\\\hsyyu\\\\llmware_data\\\\sample_files\\\\metafactory'",
     "output_type": "error",
     "traceback": [
      "\u001b[1;31m----------------------------------------------------------------\u001b[0m",
      "\u001b[1;31mFileNotFoundError\u001b[0m              Traceback (most recent call last)",
      "Cell \u001b[1;32mIn[5], line 6\u001b[0m\n\u001b[0;32m      3\u001b[0m LLMWareConfig()\u001b[38;5;241m.\u001b[39mset_active_db(\u001b[38;5;124m\"\u001b[39m\u001b[38;5;124msqlite\u001b[39m\u001b[38;5;124m\"\u001b[39m)\n\u001b[0;32m      5\u001b[0m my_lib_name \u001b[38;5;241m=\u001b[39m \u001b[38;5;124m\"\u001b[39m\u001b[38;5;124mfinancial_docs_library\u001b[39m\u001b[38;5;124m\"\u001b[39m\n\u001b[1;32m----> 6\u001b[0m output \u001b[38;5;241m=\u001b[39m \u001b[43mbuild_embedding_finetuning_dataset\u001b[49m\u001b[43m(\u001b[49m\u001b[43mmy_lib_name\u001b[49m\u001b[43m)\u001b[49m\n",
      "Cell \u001b[1;32mIn[4], line 11\u001b[0m, in \u001b[0;36mbuild_embedding_finetuning_dataset\u001b[1;34m(library_name)\u001b[0m\n\u001b[0;32m      8\u001b[0m fin_docs_path \u001b[38;5;241m=\u001b[39m os\u001b[38;5;241m.\u001b[39mpath\u001b[38;5;241m.\u001b[39mjoin(sample_file_path, \u001b[38;5;124m\"\u001b[39m\u001b[38;5;124mmetafactory\u001b[39m\u001b[38;5;124m\"\u001b[39m)\n\u001b[0;32m     10\u001b[0m \u001b[38;5;66;03m# step 3 - parse, text chunk and index files that will be used to create the dataset\u001b[39;00m\n\u001b[1;32m---> 11\u001b[0m parsing_output \u001b[38;5;241m=\u001b[39m \u001b[43mlib\u001b[49m\u001b[38;5;241;43m.\u001b[39;49m\u001b[43madd_files\u001b[49m\u001b[43m(\u001b[49m\u001b[43mfin_docs_path\u001b[49m\u001b[43m)\u001b[49m\n\u001b[0;32m     13\u001b[0m \u001b[38;5;28mprint\u001b[39m(\u001b[38;5;124m\"\u001b[39m\u001b[38;5;124mupdate: completed parsing - \u001b[39m\u001b[38;5;124m\"\u001b[39m, parsing_output)\n\u001b[0;32m     15\u001b[0m \u001b[38;5;66;03m# step 4 - create dataset\u001b[39;00m\n",
      "File \u001b[1;32m~\\AppData\\Roaming\\Python\\Python312\\site-packages\\llmware\\library.py:455\u001b[0m, in \u001b[0;36mLibrary.add_files\u001b[1;34m(self, input_folder_path, encoding, chunk_size, get_images, get_tables, smart_chunking, max_chunk_size, table_grid, get_header_text, table_strategy, strip_header, verbose_level, copy_files_to_library)\u001b[0m\n\u001b[0;32m    440\u001b[0m \u001b[38;5;66;03m# get overall counters at start of process\u001b[39;00m\n\u001b[0;32m    441\u001b[0m lib_counters_before \u001b[38;5;241m=\u001b[39m \u001b[38;5;28mself\u001b[39m\u001b[38;5;241m.\u001b[39mget_library_card()\n\u001b[0;32m    443\u001b[0m parsing_results \u001b[38;5;241m=\u001b[39m \u001b[43mParser\u001b[49m\u001b[43m(\u001b[49m\u001b[43mlibrary\u001b[49m\u001b[38;5;241;43m=\u001b[39;49m\u001b[38;5;28;43mself\u001b[39;49m\u001b[43m,\u001b[49m\n\u001b[0;32m    444\u001b[0m \u001b[43m                         \u001b[49m\u001b[43mencoding\u001b[49m\u001b[38;5;241;43m=\u001b[39;49m\u001b[43mencoding\u001b[49m\u001b[43m,\u001b[49m\n\u001b[0;32m    445\u001b[0m \u001b[43m                         \u001b[49m\u001b[43mchunk_size\u001b[49m\u001b[38;5;241;43m=\u001b[39;49m\u001b[43mchunk_size\u001b[49m\u001b[43m,\u001b[49m\n\u001b[0;32m    446\u001b[0m \u001b[43m                         \u001b[49m\u001b[43mmax_chunk_size\u001b[49m\u001b[38;5;241;43m=\u001b[39;49m\u001b[43mmax_chunk_size\u001b[49m\u001b[43m,\u001b[49m\n\u001b[0;32m    447\u001b[0m \u001b[43m                         \u001b[49m\u001b[43msmart_chunking\u001b[49m\u001b[38;5;241;43m=\u001b[39;49m\u001b[43msmart_chunking\u001b[49m\u001b[43m,\u001b[49m\n\u001b[0;32m    448\u001b[0m \u001b[43m                         \u001b[49m\u001b[43mget_tables\u001b[49m\u001b[38;5;241;43m=\u001b[39;49m\u001b[43mget_tables\u001b[49m\u001b[43m,\u001b[49m\n\u001b[0;32m    449\u001b[0m \u001b[43m                         \u001b[49m\u001b[43mget_images\u001b[49m\u001b[38;5;241;43m=\u001b[39;49m\u001b[43mget_images\u001b[49m\u001b[43m,\u001b[49m\n\u001b[0;32m    450\u001b[0m \u001b[43m                         \u001b[49m\u001b[43mget_header_text\u001b[49m\u001b[38;5;241;43m=\u001b[39;49m\u001b[43mget_header_text\u001b[49m\u001b[43m,\u001b[49m\n\u001b[0;32m    451\u001b[0m \u001b[43m                         \u001b[49m\u001b[43mtable_strategy\u001b[49m\u001b[38;5;241;43m=\u001b[39;49m\u001b[43mtable_strategy\u001b[49m\u001b[43m,\u001b[49m\n\u001b[0;32m    452\u001b[0m \u001b[43m                         \u001b[49m\u001b[43mstrip_header\u001b[49m\u001b[38;5;241;43m=\u001b[39;49m\u001b[43mstrip_header\u001b[49m\u001b[43m,\u001b[49m\n\u001b[0;32m    453\u001b[0m \u001b[43m                         \u001b[49m\u001b[43mtable_grid\u001b[49m\u001b[38;5;241;43m=\u001b[39;49m\u001b[43mtable_grid\u001b[49m\u001b[43m,\u001b[49m\n\u001b[0;32m    454\u001b[0m \u001b[43m                         \u001b[49m\u001b[43mverbose_level\u001b[49m\u001b[38;5;241;43m=\u001b[39;49m\u001b[43mverbose_level\u001b[49m\u001b[43m,\u001b[49m\n\u001b[1;32m--> 455\u001b[0m \u001b[43m                         \u001b[49m\u001b[43mcopy_files_to_library\u001b[49m\u001b[38;5;241;43m=\u001b[39;49m\u001b[43mcopy_files_to_library\u001b[49m\u001b[43m)\u001b[49m\u001b[38;5;241;43m.\u001b[39;49m\u001b[43mingest\u001b[49m\u001b[43m(\u001b[49m\u001b[43minput_folder_path\u001b[49m\u001b[43m,\u001b[49m\u001b[43mdupe_check\u001b[49m\u001b[38;5;241;43m=\u001b[39;49m\u001b[38;5;28;43;01mTrue\u001b[39;49;00m\u001b[43m)\u001b[49m\n\u001b[0;32m    457\u001b[0m \u001b[38;5;66;03m# print(\"update: parsing results - \", parsing_results)\u001b[39;00m\n\u001b[0;32m    458\u001b[0m \n\u001b[0;32m    459\u001b[0m \u001b[38;5;66;03m# post-processing:  get the updated lib_counters\u001b[39;00m\n\u001b[0;32m    460\u001b[0m lib_counters_after \u001b[38;5;241m=\u001b[39m \u001b[38;5;28mself\u001b[39m\u001b[38;5;241m.\u001b[39mget_library_card()\n",
      "File \u001b[1;32m~\\AppData\\Roaming\\Python\\Python312\\site-packages\\llmware\\parsers.py:399\u001b[0m, in \u001b[0;36mParser.ingest\u001b[1;34m(self, input_folder_path, dupe_check)\u001b[0m\n\u001b[0;32m    396\u001b[0m \u001b[38;5;28mself\u001b[39m\u001b[38;5;241m.\u001b[39m_setup_workspace(\u001b[38;5;28mself\u001b[39m\u001b[38;5;241m.\u001b[39mparser_tmp_folder)\n\u001b[0;32m    398\u001b[0m \u001b[38;5;66;03m# collate and sort the file types in the work path\u001b[39;00m\n\u001b[1;32m--> 399\u001b[0m work_order \u001b[38;5;241m=\u001b[39m \u001b[38;5;28;43mself\u001b[39;49m\u001b[38;5;241;43m.\u001b[39;49m\u001b[43m_collator\u001b[49m\u001b[43m(\u001b[49m\u001b[43minput_folder_path\u001b[49m\u001b[43m,\u001b[49m\u001b[43m \u001b[49m\u001b[43mdupe_check\u001b[49m\u001b[38;5;241;43m=\u001b[39;49m\u001b[43mdupe_check\u001b[49m\u001b[43m)\u001b[49m\n\u001b[0;32m    401\u001b[0m \u001b[38;5;66;03m#   write to db - True only if library loaded + collection connect in place\u001b[39;00m\n\u001b[0;32m    402\u001b[0m write_to_db \u001b[38;5;241m=\u001b[39m \u001b[38;5;28mself\u001b[39m\u001b[38;5;241m.\u001b[39mparse_to_db\n",
      "File \u001b[1;32m~\\AppData\\Roaming\\Python\\Python312\\site-packages\\llmware\\parsers.py:299\u001b[0m, in \u001b[0;36mParser._collator\u001b[1;34m(self, input_folder_path, dupe_check)\u001b[0m\n\u001b[0;32m    296\u001b[0m voice_found \u001b[38;5;241m=\u001b[39m \u001b[38;5;241m0\u001b[39m\n\u001b[0;32m    298\u001b[0m \u001b[38;5;66;03m# list of input files\u001b[39;00m\n\u001b[1;32m--> 299\u001b[0m input_file_names \u001b[38;5;241m=\u001b[39m \u001b[43mos\u001b[49m\u001b[38;5;241;43m.\u001b[39;49m\u001b[43mlistdir\u001b[49m\u001b[43m(\u001b[49m\u001b[43minput_folder_path\u001b[49m\u001b[43m)\u001b[49m\n\u001b[0;32m    300\u001b[0m files_to_be_processed \u001b[38;5;241m=\u001b[39m []\n\u001b[0;32m    301\u001b[0m duplicate_files \u001b[38;5;241m=\u001b[39m []\n",
      "\u001b[1;31mFileNotFoundError\u001b[0m: [WinError 3] The system cannot find the path specified: 'C:\\\\Users\\\\hsyyu\\\\llmware_data\\\\sample_files\\\\metafactory'"
     ]
    }
   ],
   "source": [
    "if __name__ == \"__main__\":\n",
    "\n",
    "    LLMWareConfig().set_active_db(\"sqlite\")\n",
    "\n",
    "    my_lib_name = \"financial_docs_library\"\n",
    "    output = build_embedding_finetuning_dataset(my_lib_name)"
   ]
  }
 ],
 "metadata": {
  "jupytext": {
   "cell_metadata_filter": "-all",
   "main_language": "python",
   "notebook_metadata_filter": "-all"
  },
  "kernelspec": {
   "display_name": "Python 3 (ipykernel)",
   "language": "python",
   "name": "python3"
  },
  "language_info": {
   "codemirror_mode": {
    "name": "ipython",
    "version": 3
   },
   "file_extension": ".py",
   "mimetype": "text/x-python",
   "name": "python",
   "nbconvert_exporter": "python",
   "pygments_lexer": "ipython3",
   "version": "3.11.9"
  }
 },
 "nbformat": 4,
 "nbformat_minor": 5
}
