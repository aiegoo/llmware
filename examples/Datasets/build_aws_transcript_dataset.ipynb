{
 "cells": [
  {
   "cell_type": "code",
   "execution_count": null,
   "id": "fe95923f",
   "metadata": {
    "lines_to_next_cell": 0
   },
   "outputs": [],
   "source": []
  },
  {
   "cell_type": "code",
   "execution_count": null,
   "id": "b158be44",
   "metadata": {},
   "outputs": [],
   "source": [
    "\"\"\" This example demonstrates how to create a dataset from AWS Transcripts\n",
    "    1. Parse AWS JSON Transcripts\n",
    "    2. Build Dialog Dataset\n",
    "\"\"\""
   ]
  },
  {
   "cell_type": "code",
   "execution_count": null,
   "id": "658027f6",
   "metadata": {},
   "outputs": [],
   "source": [
    "import json\n",
    "import os\n",
    "from llmware.dataset_tools import Datasets\n",
    "from llmware.library import Library\n",
    "from llmware.setup import Setup\n",
    "from llmware.configs import LLMWareConfig"
   ]
  },
  {
   "cell_type": "code",
   "execution_count": null,
   "id": "6ee4c68c",
   "metadata": {},
   "outputs": [],
   "source": [
    "def build_aws_transcribe_datasets(library_name):\n",
    "\n",
    "    # Setup a library and build a knowledge graph.  Datasets will use the data in the knowledge graph\n",
    "    print (f\"\\n > Creating library {library_name}...\")\n",
    "    library = Library().create_new_library(library_name)\n",
    "    sample_files_path = Setup().load_sample_files()\n",
    "    library.add_dialogs(os.path.join(sample_files_path ,\"AWS-Transcribe\"))\n",
    "    library.generate_knowledge_graph()\n",
    "\n",
    "    # Create a Datasets object\n",
    "    datasets = Datasets(library)\n",
    "\n",
    "    # Build generative conversation dataset\n",
    "    print (f\"\\n > Building generative conversation dataset...\")\n",
    "    generative_conversation_dataset = datasets.build_gen_dialog_ds(prompt_wrapper=\"human_bot\", human_first=True)\n",
    "    dataset_location = os.path.join(library.dataset_path, generative_conversation_dataset[\"ds_id\"])\n",
    "    print (f\"\\n > Dataset:\")\n",
    "    print (f\"(Files referenced below are found in {dataset_location})\")\n",
    "    print (f\"\\n{json.dumps(generative_conversation_dataset, indent=2)}\")\n",
    "    sample = datasets.get_dataset_sample(datasets.current_ds_name)\n",
    "    print (f\"\\nRandom sample from the dataset:\\n{json.dumps(sample, indent=2)}\")\n",
    "\n",
    "    return 0"
   ]
  },
  {
   "cell_type": "code",
   "execution_count": null,
   "id": "9cf53caf",
   "metadata": {},
   "outputs": [],
   "source": [
    "if __name__ == \"__main__\":\n",
    "\n",
    "    LLMWareConfig().set_active_db(\"sqlite\")\n",
    "\n",
    "    build_aws_transcribe_datasets(\"aws_transcripts_lib_1\")"
   ]
  }
 ],
 "metadata": {
  "jupytext": {
   "cell_metadata_filter": "-all",
   "main_language": "python",
   "notebook_metadata_filter": "-all"
  }
 },
 "nbformat": 4,
 "nbformat_minor": 5
}
