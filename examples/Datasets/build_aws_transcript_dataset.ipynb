{
 "cells": [
  {
   "cell_type": "markdown",
   "metadata": {},
   "source": [
    "\n",
    " This example demonstrates how to create a dataset from AWS Transcripts<br>\n",
    "    1. Parse AWS JSON Transcripts<br>\n",
    "    2. Build Dialog Dataset<br>\n"
   ]
  },
  {
   "cell_type": "code",
   "execution_count": 2,
   "metadata": {
    "tags": []
   },
   "outputs": [],
   "source": [
    "import json\n",
    "import os\n",
    "from llmware.dataset_tools import Datasets\n",
    "from llmware.library import Library\n",
    "from llmware.setup import Setup\n",
    "from llmware.configs import LLMWareConfig"
   ]
  },
  {
   "cell_type": "code",
   "execution_count": 4,
   "metadata": {
    "tags": []
   },
   "outputs": [],
   "source": [
    "def build_aws_transcribe_datasets(library_name):\n",
    "\n",
    "    # Setup a library and build a knowledge graph.  Datasets will use the data in the knowledge graph\n",
    "    print (f\"\\n > Creating library {library_name}...\")\n",
    "    library = Library().create_new_library(library_name)\n",
    "    sample_files_path = Setup().load_sample_files()\n",
    "    library.add_dialogs(os.path.join(sample_files_path ,\"AWS-Transcribe\"))\n",
    "    library.generate_knowledge_graph()\n",
    "\n",
    "    # Create a Datasets object\n",
    "    datasets = Datasets(library)\n",
    "\n",
    "    # Build generative conversation dataset\n",
    "    print (f\"\\n > Building generative conversation dataset...\")\n",
    "    generative_conversation_dataset = datasets.build_gen_dialog_ds(prompt_wrapper=\"human_bot\", human_first=True)\n",
    "    dataset_location = os.path.join(library.dataset_path, generative_conversation_dataset[\"ds_id\"])\n",
    "    print (f\"\\n > Dataset:\")\n",
    "    print (f\"(Files referenced below are found in {dataset_location})\")\n",
    "    print (f\"\\n{json.dumps(generative_conversation_dataset, indent=2)}\")\n",
    "    sample = datasets.get_dataset_sample(datasets.current_ds_name)\n",
    "    print (f\"\\nRandom sample from the dataset:\\n{json.dumps(sample, indent=2)}\")\n",
    "    return 0"
   ]
  }
 ],
 "metadata": {
  "kernelspec": {
   "display_name": "Python 3 (ipykernel)",
   "language": "python",
   "name": "python3"
  },
  "language_info": {
   "codemirror_mode": {
    "name": "ipython",
    "version": 3
   },
   "file_extension": ".py",
   "mimetype": "text/x-python",
   "name": "python",
   "nbconvert_exporter": "python",
   "pygments_lexer": "ipython3",
   "version": "3.11.4"
  }
 },
 "nbformat": 4,
 "nbformat_minor": 4
}
