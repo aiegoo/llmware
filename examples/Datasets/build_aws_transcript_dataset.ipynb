{
 "cells": [
  {
   "cell_type": "code",
   "execution_count": null,
   "id": "fe95923f",
   "metadata": {
    "lines_to_next_cell": 0
   },
   "outputs": [],
   "source": []
  },
  {
   "cell_type": "code",
   "execution_count": 8,
   "id": "b158be44",
   "metadata": {
    "tags": []
   },
   "outputs": [
    {
     "data": {
      "text/plain": [
       "' This example demonstrates how to create a dataset from AWS Transcripts\\n    1. Parse AWS JSON Transcripts\\n    2. Build Dialog Dataset\\n'"
      ]
     },
     "execution_count": 8,
     "metadata": {},
     "output_type": "execute_result"
    }
   ],
   "source": [
    "\"\"\" This example demonstrates how to create a dataset from AWS Transcripts\n",
    "    1. Parse AWS JSON Transcripts\n",
    "    2. Build Dialog Dataset\n",
    "\"\"\""
   ]
  },
  {
   "cell_type": "code",
   "execution_count": 10,
   "id": "658027f6",
   "metadata": {
    "tags": []
   },
   "outputs": [],
   "source": [
    "import json\n",
    "import os\n",
    "from llmware.dataset_tools import Datasets\n",
    "from llmware.library import Library\n",
    "from llmware.setup import Setup\n",
    "from llmware.configs import LLMWareConfig"
   ]
  },
  {
   "cell_type": "code",
   "execution_count": 12,
   "id": "6ee4c68c",
   "metadata": {
    "tags": []
   },
   "outputs": [],
   "source": [
    "def build_aws_transcribe_datasets(library_name):\n",
    "\n",
    "    # Setup a library and build a knowledge graph.  Datasets will use the data in the knowledge graph\n",
    "    print (f\"\\n > Creating library {library_name}...\")\n",
    "    library = Library().create_new_library(library_name)\n",
    "    sample_files_path = Setup().load_sample_files()\n",
    "    library.add_dialogs(os.path.join(sample_files_path ,\"AWS-Transcribe\"))\n",
    "    library.generate_knowledge_graph()\n",
    "\n",
    "    # Create a Datasets object\n",
    "    datasets = Datasets(library)\n",
    "\n",
    "    # Build generative conversation dataset\n",
    "    print (f\"\\n > Building generative conversation dataset...\")\n",
    "    generative_conversation_dataset = datasets.build_gen_dialog_ds(prompt_wrapper=\"human_bot\", human_first=True)\n",
    "    dataset_location = os.path.join(library.dataset_path, generative_conversation_dataset[\"ds_id\"])\n",
    "    print (f\"\\n > Dataset:\")\n",
    "    print (f\"(Files referenced below are found in {dataset_location})\")\n",
    "    print (f\"\\n{json.dumps(generative_conversation_dataset, indent=2)}\")\n",
    "    sample = datasets.get_dataset_sample(datasets.current_ds_name)\n",
    "    print (f\"\\nRandom sample from the dataset:\\n{json.dumps(sample, indent=2)}\")\n",
    "\n",
    "    return 0"
   ]
  },
  {
   "cell_type": "code",
   "execution_count": 14,
   "id": "9cf53caf",
   "metadata": {
    "tags": []
   },
   "outputs": [
    {
     "name": "stdout",
     "output_type": "stream",
     "text": [
      "\n",
      " > Creating library aws_transcripts_lib_1...\n",
      "\n",
      " > Building generative conversation dataset...\n",
      "\n",
      " > Dataset:\n",
      "(Files referenced below are found in C:\\Users\\hsyyu\\llmware_data\\accounts\\llmware\\aws_transcripts_lib_1\\datasets\\d4c4b9eb-fb20-4820-aef8-359751ea33e5)\n",
      "\n",
      "{\n",
      "  \"ds_type\": \"build_gen_ds_dialog\",\n",
      "  \"ds_id\": \"d4c4b9eb-fb20-4820-aef8-359751ea33e5\",\n",
      "  \"training_samples\": 43,\n",
      "  \"training_files\": [\n",
      "    \"training_samples_0.jsonl\",\n",
      "    \"training_samples_text_0.txt\"\n",
      "  ],\n",
      "  \"validation_samples\": 5,\n",
      "  \"validation_files\": [\n",
      "    \"validation_samples_0.jsonl\",\n",
      "    \"validation_samples_text_0.txt\"\n",
      "  ],\n",
      "  \"testing_samples\": 5,\n",
      "  \"testing_files\": [\n",
      "    \"testing_samples_0.jsonl\",\n",
      "    \"testing_samples_text_0.txt\"\n",
      "  ],\n",
      "  \"batches\": 1,\n",
      "  \"prompt_wrapper\": \"human_bot\",\n",
      "  \"description\": \"Generative AI fine-tuning dataset, generated in self-supervised process using dialog transcripts to re-create role-based dialog.\",\n",
      "  \"features\": [\n",
      "    \"text\"\n",
      "  ],\n",
      "  \"time_stamp\": \"2024-05-15_203732\"\n",
      "}\n",
      "\n",
      "Random sample from the dataset:\n",
      "{\n",
      "  \"text\": \"<human>: I'm, I'm struggling to remember his name, um, how to spell it and I'm looking, uh, looking about doing it. Um, Mark, Mark Spencer and I think it's easy to find them out. Good. Last name is Spencer. Sp Enc. Er,\\n<bot>: oh yeah. All right. That's not that bad. Ok.\\n\"\n",
      "}\n"
     ]
    }
   ],
   "source": [
    "if __name__ == \"__main__\":\n",
    "\n",
    "    LLMWareConfig().set_active_db(\"sqlite\")\n",
    "\n",
    "    build_aws_transcribe_datasets(\"aws_transcripts_lib_1\")"
   ]
  },
  {
   "cell_type": "code",
   "execution_count": null,
   "id": "2027583f-3afa-4114-91e4-0533ad8ef3a1",
   "metadata": {
    "tags": []
   },
   "outputs": [],
   "source": [
    "import os\n",
    "import glob\n",
    "\n",
    "# Specify the sample file path\n",
    "sample_file_path = 'C:/Users/hsyyu/llmware_data/sample_files/AWS-Transcribe'\n",
    "\n",
    "# Use glob to find all the dialog files in the specified path\n",
    "dialog_files = glob.glob(os.path.join(sample_file_path, 'dialog*.json'))\n",
    "\n",
    "# Iterate through the dialog files and print their contents\n",
    "for file in dialog_files:\n",
    "    with open(file, 'r') as f:\n",
    "        print(f.read())"
   ]
  },
  {
   "cell_type": "code",
   "execution_count": 32,
   "id": "0ff7780d-8a3f-48d1-9120-f1497fb63644",
   "metadata": {
    "tags": []
   },
   "outputs": [
    {
     "name": "stdout",
     "output_type": "stream",
     "text": [
      "None: Good afternoon This is Peter Hi Peter This is Susan So did I catch you in the middle of something Uh just a normal day All right Well uh yeah my name is Susan and I'm with ABC Corp I'm reaching you now because I noticed you're a sales leader over at XYZ Corp And I was hoping to run through a few reasons like yourself why you're speaking with me But if it makes sense we can go a bit further and if not I'll just let you go on with your day Are you comfortable too I take a couple of minutes Sure Ok great Uh Well I'm sorry what's your name And and uh where are you from I didn't catch it Yeah my name is Susan and I'm with ABC And yeah uh we help sales Yeah we uh we help sales leaders similar to yourself solve a few of their key challenges And the first one is you know they're having insufficient time for coaching The second is closing the gap between their A and B players and the third is in within virtual sales and and I was curious out of those three which one is your number one challenge or what comes top of mind for you Yeah time is on somebody else's uh oh yeah Got you Ok Still having an insufficient time for coaching Could you tell me a little bit more about what you know what what that looks like today for you Well hey um most of my top will most of the time Um I like to spend on administrative related stuff I'm kind of they call me uh a sales manager and relative business manager um should get involved Um not directly supervising sales reps things but I can tell you Metal Toledo is very prescriptive in terms of sales processing for managers with their KPIS and our tools and blah blah Um So I mean you know I'm following the company procedures and theoretically I have plenty of time but it's that's ok Yeah Well thanks for being on it What I guess the uh the coaching structure that you do and what you have been doing in the past you know once So let's just say what I guess What is that What does that not look like Well I mean it depends on the individual and their experience and their skill level So some of them coaching is just touch base and we're just talking about their business what's going on what's going on on their territory you know um you know small tar and then in between we're just dealing with you know exceptions There are certain individuals we have a we have a very prescriptive coaching methodology at Acne company uh where we develop a dashboard for the sales manager with a lot of statistics and information about the sales process And we go through that and really use that as the basis to talk about their pipeline and opportunities that were a work that we're working they're working um solutions de development and states the customers and what platform they're having that kind of thing Uh Gotcha OK Makes sense Now are these conversations how um just are they in person you know or like Zoom uh sort of close Ok Got it And then you mentioned that there are dashboards with all like all these stats and an outline on how to coach and what what they need to go through Now along with that do you does a Metal Toledo tell you you don't have any type like a I or conversation intelligence or anything along those lines to help along with that kind of coaching No I'm not exactly I know what I I know what uh it is but I don't know like I can't visit you know like you mean like scripts uh for us or something like that Yeah So for example like how we use it personally is if you know let's just say there's a call that I may have you know struggled with or something came up very specific there It could be like a trigger word in ABC Corp in the system that will trigger it to my manager Let's just say then they can pull that call and they can tell you they can like listen to it in the middle to notify them and just kind of structures it and personalizes it to that rep individually for example and it just kind of helps with that coaching save some time you know instead of going through all the single calls or sales you know meetings things like that you can actually personalize it more to something you know that that will help So to save time you know that would just be like example of it Uh There's a few other ways you can use it So yeah kind of like that Just kind of curious on if that was part of that you know how you're not having enough time for coaching so for your position specifically So if you if it makes if you know in the past to make you have more time so to get have you tried anything different or I guess what all have you tried in the past to fix that kind of challenge Well hey I mean some sometimes you just have to um they can choose what's important and prioritize it So that's what I that's what I what I've done And then um quite frankly prioritize not every person on my team but the ones that need it most Gotcha How long has this been going on for Well I've been in this job for two years or so That long Have you been there Ok Got you Yeah Well you know that um what you know since since you've been there in these past two years uh you know the impact that this has on your team and um from what you've seen so far is uh oh yeah hey quite frankly very close because I had a low bar on my project Um my on my my project says uh serve we go months without talking to him So you know he he has basically retired in place 67 years old kind of doing what he wanted to do really uh support them have their back and all that you know I my style is a lot of personal engagement maybe not so much structured as a company would like it like it but I'm engaged with each person pretty significantly and you know on an ad hoc basis Uh anyway And uh yeah I mean they respond to me well OK Got got to all Yeah I appreciate you you know kind of sharing what that looks like for you right now and sharing that challenge I I don't want to take too much of your time that I know you're probably super busy But if I were to tell you that you know this is a an area ABC cop does help with specifically in that coaching collaboration making you you know have more time I know you um like you mentioned in the beginning and I shared a little bit on that conversation intelligence portion you know is this something that you'd be interested in just continuing the conversation learning a little bit more about it Here's the thing it sounds pretty cool but hey I can tell you I'm not the right person about actually to talk about you know a sales manager bit system to manage I mean that you uh you know you know your um your your tool is probably really cool but I um I would not even have the authority to buy um out of my company Sure And you know that is ok that's exactly why I was reaching out to you actually is um we are you know we don't want to talk to those people uh quite yet You know we are just kind of this is the first step you are frontline you understand all this you know challenges more than most you know honestly this would be just a a no no commitment type educational conversation just to get to know a little bit more on what it looks like the challenges And you know if if there is value we can you know figure out um that decision um make it out later down the road But yeah I mean the next step honestly would be just to continue the conversation I can include my colleague who is more of an expert and can answer some more questions a little bit more than um better better than I can And just again have the educational type conversation Would you be open just to setting up a site some time in the next couple of weeks or so You know what Um because I really uh I really appreciate but um no I just quite frankly I don't see it going anywhere with this company I mean I just know how we are Um we are we've been here for 25 years and I know how um we do things I mean we're on SAP um UCRM for all our sales management we have these in-house development things and you know with the European driven company and all those decision makers uh are over in Europe um frankly in Switzerland where um we're headquartered you know I think um you talk to me and my colleagues and you go nowhere um with um with those guys Yeah and as far as you don't like I said well I mean not not really getting anywhere again it would be just more of an insight just to kind of get what an idea of what things look like internally and then uh we can look more of the European decision makers later on So yeah that's just kind of the conversation that we're looking to start Yeah No Um I I don't uh I just I just don't have the time to commit um to that I apologize No problem Yeah No that's ok I truly understand Do you by any chance have any other names you can think of that you can recommend to me um in Europe area or maybe someone else or someone else that to report up to Um well hey I um I can tell you I'll tell you what uh I will do this for you Hang on one second let me get my email open Uh and we'll give you the name of the guy Um no it might be Mark I'll give you the guy Um that's the that's in charge of all this stuff and he's over in Europe Ok Um but you got to promise if you call them don't tell him I told you his name Ok I promise I will not Yes I will not mention your name I'm I'm struggling to remember his name um how to spell it and I'm looking uh looking about doing it Um Mark Mark Spencer and I think it's easy to find them out Good Last name is Spencer Sp Enc Er oh yeah All right That's not that bad Ok Ok Ok Sales and marketing and economics So um he is the call process owner for all of our sales activities Ok Um uh AC RM Sales force uh whatever tool um whatever process He's not only systems related but they kind of like define how we're supposed to do stuff um like process or open et cetera Ok cool Thank you for the information Have a great day Ok Bye bye Bye bye\n",
      "None: Hello this is Jennifer Hi Jennifer Yes this is calling from ABC Corp Did I catch you in the middle of something Yeah actually I'm working What's this about Yeah I just phoned you up on an email I sent uh you the other day I noticed you're a national enablement coach for credit insurance at HS BC Um We're a modern learning and sales enablement platform and I was just think just really hoping to share with you some key challenges uh we're helping solve for other leaders like yourself and see uh if they resonate Ok I have a couple of minutes I don't know that's gonna work but I'm about to go into a meeting shortly Oh ok Sure Yeah Uh I was really just um you know some of the challenges uh for helping soft for other uh enablement leaders like yourself is replicating top performance behavior by closing competency gaps Maybe number two is uh there's a lack of time or geography constraint restraints to provide um on demand Coaching Number three uh would be getting learning to stick and measuring the knowledge we're a modern learning and sales enablement platform I I'm not sure if I mentioned that already I was curious if um if any of those are challenges for you today Yeah I would say that probably all three of them are challenges that we face every day on the enablement rules I mean you know getting learning to stick obviously Well yeah I would say at least two out of the three when you said getting uh learned to stick would you and and could you be able to tell me a little bit more about why That's been a challenge for you today No I was in you know it's not so much of a challenge I think challenge is more in the sense that you know when by the time we finish training our people and you know getting them to the level of comfort where they should be then they change roles and we're starting all over again So not so much that one but the lack of time like closing competency gaps Yeah definitely sure I can understand that if um you do have a recent example where there that's uh come up uh that it's um it's really been pronounced uh as a challenge I mean I have examples every day but I mean you know sometimes I'll have a branch manager contact me for some coaching in their branch to support their teams And you know I'll be thinking hey you know I I remember I did complete full coaching in that branch Not so long ago And then they're saying you know it's a new branch manager that's in there and there is no advisors And so all that coaching I don't know where these people are gone but now we're starting you know like right back to square one I mean I know it's it's a little bit different because the past year has been you know there has been a lot more rollover and staff and a lot of people moving So it's probably exceptionally challenging this year or end up then in the last years But yeah then there's a time when I mean you know you have a lot of newer people So you've got to invest a lot of time in their coaching but yet they need to be out there and take care of your clients So Sure Sure Absolutely Um what if uh you try to be able to have a resource for being able not a resource um what you have tried to be able to do a lot of yourself to have more time to coach or for people who have uh gone through training to be able to go and revisit perhaps bite size pieces of of information to be able to to reinforce the training that they already had Well I mean you know it's like the company you know the company right So they have resources and they have you know either websites where they can go and validate information We also sent them uh you know regular you know information emails if there's any change and we always use every opportunity that we get to throw in a little refresher Um a quick refresher of what we've learned in the last in the past we also have a support line that is there to you know support the employees whenever if they have any questions or if there's some I mean like they're very well surrounded and we have a lot of things that we we can do to make sure that you know we have in bed in um certain activities when it is when possible as well So there is many things like for sure how has that impacted you personally And in your organization as a whole I should say that really you know they they have to reach out to other people for information that they've already been coached or trained on is as um that impact you personally No I think that this is something that is you know it's like normal I mean in our world it's normal if you're talking about an advisor in a branch that needs to talk to clients about 5 million different products and they can't know everything They're not you know they're not Bibles you know so they're not um they can't remember everything So obviously once in a while if I have an advisor that is like let's just say there's this type of transaction and you know we've been in coaching recently and they're comfortable with that but then they don't do that same transaction for another two or three months Maybe they are not going to remember And that's perfectly normal So that's why we make sure that you know we have all the resources there for them and all the support lines also to help them So I think in our environment it's absolutely normal that we have a lot of different you know partners or other resources to make sure that everything is there Sure Um And you know and I uh I know I've kept you on the phone for long enough here Do um do you find they do they have that information in the flow of work Are they able to easily um have the information that you put out there uh to them Is it really uh curated and easy for them to go through or go to obtain well without reaching out to uh someone so they can find information themselves Well usually they should be able to find the information themselves However like depending on the subject sometimes it's something that can be a little bit more technical and sometimes they may go into the resource but not be exactly sure You know if this is exactly you know the right answer We're looking we're working in the financial world We don't want to give our clients any wrong information Sometimes you know they'll like they'll valid validate with you know one of our support lines just to make sure that they actually do have the right answer Or sometimes um you have a client that asks the question that you know never has never been asked that before So you can go in to the resources which are accessible very easily But that doesn't mean that you're going to find that one offered that specific scenario right then and there um especially if you've got the client with you and you know you just have so much time you can spend with this client So sometimes you say you know what let me pick up the phone and call one of our resource centers and this way they know they have the right answer and it's faster So um sure like you know they know their options I can understand that And um now for ABC Corp yeah I just wanted to pose um 11 more question to you and a high level our technology gives you a way to deliver knowledge skills in a content to your reps on an ongoing basis without needing to rely on face to face meetings or for them to make a phone call to get information And our platform really automates the process of connecting them to your organizations best practices and approaches at the moment of me also while empowering managers like yourself to deliver a coaching uh remotely and reinforce skilled behaviors in a way that saves time but still feels uh personal I was curious if if that's something that you would like to explore further in a little bit more of a depth conversation No Um no hard sales taxes just purely exploratory here Um is that something that you'd be interested in exploring further To be very honest with you Probably not at this time because we already have quite a bit on our plates and you know we've if there's been a lot of changes and like I said we have a lot of new employees and we're extremely busy and I'm not sure this you know um form that you're talking about if it's anything like we could you know because I I work for HS BC I use recommendation platforms Um but I'm not sure what kind of platform you're talking about And if it's something that you'd like to offer HS BC something like definitely that you know I don't know if you would go through me you know because we're not authorized to use any outside uh resources and we have all the resources that we need within the company So again if you have something that's fantastic that would make our lives easier and that would make us better enablement coaches But you know honestly I have absolutely no say in any of that Sure Ok I can understand that if if um if if I were to present you with if I were to send you an email to show you a brief video of of what the platform is So you can kind of wrap your head around it And if you uh if it interests you is that something that you're able to pass along to decision makers if if you think it would be interesting you know uh receiving an email from the outside and opening a video is not something that uh it's not something we do unfortunately for security reasons So I would have to uh maybe uh find you the name for someone that you know but right now I literally can't think of anyone offhand and you know I guess I'd better get going I understand I'm sorry I've definitely kept you on the phone longer than I expected So so much of your time It's my pleasure Have a great day\n",
      "\n",
      "None: Hello Michelle speaking Hey Michelle this is Pete calling from ABC Corp Do you have a moment to chat Yeah So you're calling from where ABC Court We um we work in the space of yeah you're familiar with us Oh yeah Yep Ok great Well I was just calling to kind of see your perspective We we've had some conversation with Adobe in the past here um in the in the States Um and I understand that you guys have a pretty robust program uh with the Sales Academy but I just wanted to see if there's an uh any challenges that we help solve that uh is relevant uh to what you're doing Yes and no I'm just gonna say that I'm probably you know like any kind of training platform decision will be made at a global level and you know um it's not my responsibility Um OK that makes sense And then um is the yes side of what you'll you'll kind of hear me out uh for a moment and see if it's it's relevant at all Yeah I mean right now it's not a good time So I think that you know that'll take more than five minutes Uh I mean I'm traveling next week maybe at the end of the month like major changes in it Like was there a specific direction you want to go with this or I I mean I I called you uh out of a very exploratory position right Because all the conversation that we've had uh with Adobe in the past have been like you guys have just such an incredible system in place There's been some gap uh that have been spotted gosh a year or so ago and I'm sure maybe uh will soon be addressed You know we do work in the space of like capturing best practices distributing them among uh global teams And then you know having some uh some more deep analytics to kind of show impact of enablement efforts of tying revenue to training and uh learning efforts So you actually report to show that uh and then we're striving to uh augment but I believe that it's something you guys do quite well with the Sales Academy itself I know it's very very much voluntary for the engagement rates uh something like 98% or so you know when you talk about Sales Academy are you talking about our university model or I'm not sure what you um maybe that's that's the the university person Yes Correct OK And now uh again I don't want to like assume things Uh I have to uh I have a very light understanding of them from my conversations recently Sorry Uh Just that um oh to Ron Yeah he says uh he saw it out of Seattle and then I spoke uh to goodness um in his name Eric King uh could there could be there is an era of king So possibly Yep And we had to exchange uh we had an exchange about this uh program itself and how successful it is and we really couldn't spot any gaps but there's just like this general interest of connection and the kind of exploratory this introduction Um So I'm I'm curious I guess your familiarity with us or if we're we've had formal conversation I know that we looked at ABC Corp before like several many years ago I think we were looking specifically sort of like a standard delivery kind of platform where people would like rehearse pitches and that sort of thing Um Is that something you guys have Yeah Yeah of course that that's if it's a year ago there's uh there's been a lot of stuff that's been a as I'm asking you like a conversation Yeah I'm sure that was like a version for we're on version seven So yeah there's um you know uh we were just like continually trying to align with what uh or a certain uh Gardner But now uh we put out right I know there was uh a new Forster report uh recently on sales content management and we scored very well with them in terms of linking coaching to sales content and and like bridging those gaps between marketing enablement sales teams So maybe that was a conversation Uh There was anything else you guys looked at outside of that stand um and deliver model I don't recall I'll be honest with you that was definitely something we are looking for at one point I know that you guys are sort of like say um that's what you do but we never actually went with anything I'll be honest with you we've tried a few different things we don't have and we don't have a standard platform in place for that Oh I think the more useful conversation would be to have what I um you know what I'm gonna do is next week the reason I'm traveling next week because we have a leadership team meeting in the US Um And we're uh what I propose to do is bring up the fact that you guys called to the team there because I think that um there's um like nothing I would be able to really put in place But I think uh in a meeting specifically these are more like strategic platform kind of conversations and I will bring it up with the uh team up there and our team meeting and then and then like see what happens oh would be the right person Um I don't know uh who's you know maybe he's not with us anymore by the way So uh that would be helpful like uh yeah like a month ago or something like just recently Yeah I was I was going to see what he was up to recently That's because he put me in contact with gosh uh every program manager in the States And we you know uh we didn't have like a formal conversation through the the program managers in the States We kind of just left it as is uh was uh or so uh you know I mean and everything is not actually in the team So he sort of annexed fable in team supporting professional services OK Yeah so he's not like he wouldn't be making decisions he can make recommendations or or whatever but um maybe get some funding I don't know but he's not directly in the global enable global Enablement team So he's something that we work with and you know like might have spoken or somebody might have spoken to him with respect to university model that was first rolled out for his particular audience for our professional services sales And and now we have the university model across all of our I'm gonna say field roles So solution consultant sellers customer success managers et cetera So he would just be looking at one of it and it started with him So maybe that's why Eric was part of the conversation at one point I see OK And again just uh to clarify and uh transparency that there uh was just a brief exchange with Eric you know he plotted uh me with uh an outreach Uh She said you know a very very nice point Oh but he's not making any decisions either So not being influenced but he's not the decision or Hm interesting I um and again the reason I'm reaching out is to see if there is any opportunity to if you or the global team would be open to like a a briefing or like a kind of informal introduction Uh We can put on like a pre presentation uh to see how things have evolved Yeah And uh um if you think um if things uh link up with your folks and there's like oh we have a gap here and we have a certain use case that is uh this would be impactful or we can continue conversation And if not we can kind of let things um be rather than this formal sale cycle We could you know if there's uh just been uh a while since we touched base and had any sort of conversation So yeah I know um you mentioned next steps is you you have the conversation with your leadership team and in your travels here uh to the States uh you have uh you want me to just shoot you a note so you have my contact information then I can follow up in a few weeks Yeah Can you send me your contact information also Kind of like the big pillars that you were like you know I'm on your website right now But if you can send me something or maybe it is just your website you'd sent me But um like the different areas that you have solutions Yeah Yeah Yeah Uh a high level be a high level because I really uh think we're we're yeah Yeah I guess um well because like my um what I'll tell you is um I'll pick up yeah I'll help you out here because I know I work with sellers all the time and we're trying to teach them how to sell Uh OK you're you're on your own Yeah doing a role play and I'll give you some information So one of the things that might interest what you have around measuring success and I mean we definitely have the metrics in place to measure engagement So like who's doing what that kind of thing But our next step in our strategy is to go deeper into measuring adoption whatever adoption happens to mean for that program and measuring um business outcome OK So there's anything in that space that you could share even case studies or things like that then that's definitely on top of mind for us at the moment that is very helpful So I uh I can kind of send you something more pointed and rather a broad version Uh I'll send you over Um what I um I want to confirm I want your email to be correct Um and the editor Uh yep Ok All right Uh well I appreciate the conversation safe travels and I'll kind of just reach out Um I'll uh just uh get back to you by email um and um and let you know Ok perfect Thank you Ok thank you and bye bye bye bye\n",
      "None: This is Tammy speaking Hi Tammy This is uh good calling You back from ABC Did I catch you at a bad time I'm sorry who's this Uh I'm Peter I'm calling from ABC Corp I've been reaching out because you signed up for one of our webinars and our hybrid learning Uh Where are you now Oh yeah Yeah I was um I was just curious really what uh a picture of interest and uh I was really hoping uh to know if um you have any type of initiatives uh you are looking to improve upon uh of course uh where a modern learning uh and sales enablement platform can help Yeah Sure So I know I'm kind of continually interested in keeping and well like involving uh our our learning practices internally And that's sort of what uh what what was the draw that we have a high workforce that's you know partially person partially remote and trying to set things through kind of how to make our learning capabilities a little bit more engaging for everybody So that's what I had caught my interest at this point We have a couple other more immediate needs from a strategic standpoint So it's sort of on the back burner but I'm kind of kicking around what needs we might have in the future but I just don't have a solid plan today Oh ok Sure What does it um does it make sense Uh to would you be I guess um this way would you be open to scheduling about 20 to 30 minutes uh with the my colleague of mine um so we can dive a little deeper into the mutual discovery chat Um to see what kind of initiatives are maybe where you might be challenged and and we can see where um ABC Corp might be able to fit in If um not it doesn't have to be something that um that's immediate um that uh you're looking to change today but really see where ABC Corp can do maybe some future initiatives perhaps Sure maybe down the road again I got I have a couple of other things that are in the pipeline right now and just the size of our staff and where we are I I don't have the bandwidth but if we could maybe push that discussion out until the summer then you know I would absolutely be open to having that conversation in the future Uh No problem at all I'll um I'll look to reach back out to early June or or do something late Uh maybe um what um what works best for you when uh when I think I should contact you again Uh June Ok Excellent Um so much Uh Thank you so much Tammy I really appreciate your time and looking forward to reconnecting in the future Yeah take care\n",
      "\n"
     ]
    }
   ],
   "source": [
    "import os\n",
    "import glob\n",
    "import json\n",
    "\n",
    "# Specify the sample file path\n",
    "sample_file_path = 'C:/Users/hsyyu/llmware_data/sample_files/AWS-Transcribe'\n",
    "\n",
    "# Use glob to find all the dialog files in the specified path\n",
    "dialog_files = glob.glob(os.path.join(sample_file_path, 'dialog*.json'))\n",
    "\n",
    "# Iterate through the dialog files and organize messages into pairs\n",
    "conversation = []\n",
    "for file in dialog_files:\n",
    "    with open(file, 'r') as f:\n",
    "        dialog = json.load(f)\n",
    "        messages = dialog['results']['items']\n",
    "        speaker = None\n",
    "        current_message = \"\"\n",
    "        for item in messages:\n",
    "            if item['type'] == 'pronunciation':\n",
    "                if item['alternatives'][0]['content'] == \"<eos>\":\n",
    "                    conversation.append((speaker, current_message.strip()))\n",
    "                    current_message = \"\"\n",
    "                else:\n",
    "                    current_message += item['alternatives'][0]['content'] + \" \"\n",
    "            elif item['type'] == 'speaker-label':\n",
    "                speaker = item['speaker_label']\n",
    "        if current_message.strip():\n",
    "            conversation.append((speaker, current_message.strip()))\n",
    "\n",
    "# Format the conversation pairs\n",
    "for i in range(0, len(conversation), 2):\n",
    "    if i + 1 < len(conversation):\n",
    "        print(f\"{conversation[i][0]}: {conversation[i][1]}\")\n",
    "        print(f\"{conversation[i+1][0]}: {conversation[i+1][1]}\")\n",
    "        print()\n"
   ]
  },
  {
   "cell_type": "code",
   "execution_count": null,
   "id": "b75dd066-9483-49b8-893e-7f23e76d304a",
   "metadata": {
    "tags": []
   },
   "outputs": [],
   "source": [
    "import os\n",
    "import glob\n",
    "\n",
    "# Specify the sample file path\n",
    "sample_file_path = 'C:/Users/hsyyu/llmware_data/sample_files/AWS-Transcribe'\n",
    "\n",
    "# Use glob to find all the dialog files in the specified path\n",
    "dialog_files = glob.glob(os.path.join(sample_file_path, 'dialog*.json'))\n",
    "\n",
    "# Iterate through the dialog files and print their contents in a chatbot format\n",
    "for file in dialog_files:\n",
    "    with open(file, 'r') as f:\n",
    "        print(\"Chatbot: \")\n",
    "        for line in f:\n",
    "            print(line.strip())  # Assuming each line is a separate chatbot response\n",
    "        print(\"User: \")"
   ]
  }
 ],
 "metadata": {
  "jupytext": {
   "cell_metadata_filter": "-all",
   "main_language": "python",
   "notebook_metadata_filter": "-all"
  },
  "kernelspec": {
   "display_name": "Python 3 (ipykernel)",
   "language": "python",
   "name": "python3"
  },
  "language_info": {
   "codemirror_mode": {
    "name": "ipython",
    "version": 3
   },
   "file_extension": ".py",
   "mimetype": "text/x-python",
   "name": "python",
   "nbconvert_exporter": "python",
   "pygments_lexer": "ipython3",
   "version": "3.12.0"
  }
 },
 "nbformat": 4,
 "nbformat_minor": 5
}
