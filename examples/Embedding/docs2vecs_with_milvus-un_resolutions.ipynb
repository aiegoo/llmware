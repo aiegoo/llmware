{
 "cells": [
  {
   "cell_type": "markdown",
   "metadata": {},
   "source": [
    "\n",
    "<br>\n",
    "#                   *** FAST START to create vector embeddings from documents ***<br>\n",
    "#<br>\n",
    "#   docs2vecs_with_milvus-un_resolutions - parses, text chunks and embeds 500 United Nations (UN) Resolutions<br>\n",
    "#   the sample documents (500 PDFs - 2-15 pages each) can be pulled down from a public S3 repo with the command:<br>\n",
    "#           sample_files_path = Setup().load_sample_files()<br>\n",
    "#   note: the example assumes that you have installed Milvus and MongoDB per the separate instructions in the README<br>\n"
   ]
  },
  {
   "cell_type": "code",
   "execution_count": 1,
   "metadata": {
    "tags": []
   },
   "outputs": [],
   "source": [
    "import os\n",
    "from llmware.library import Library\n",
    "from llmware.retrieval import Query\n",
    "from llmware.setup import Setup\n",
    "from llmware.status import Status"
   ]
  },
  {
   "cell_type": "code",
   "execution_count": 3,
   "metadata": {
    "tags": []
   },
   "outputs": [],
   "source": [
    "def parse_and_generate_vector_embeddings(library_name):\n",
    "\n",
    "    # Step 0 - Configuration - we will use these in Step 4 to install the embeddings\n",
    "    embedding_model = \"mini-lm-sbert\"\n",
    "    vector_db = \"milvus\"\n",
    "\n",
    "    # Step 1 - Create library which is the main 'organizing construct' in llmware\n",
    "    print (\"\\nupdate: Step 1 - Creating library: {}\".format(library_name))\n",
    "    library = Library().create_new_library(library_name)\n",
    "\n",
    "    # Step 2 - Pull down the sample files from S3 through the .load_sample_files() command\n",
    "    #   --note: if you need to refresh the sample files, set 'over_write=True'\n",
    "    print (\"update: Step 2 - Downloading Sample Files\")\n",
    "    sample_files_path = Setup().load_sample_files(over_write=False)\n",
    "\n",
    "    # Step 3 - point \".add_files\" method to the folder of documents that was just created\n",
    "    #   this method parses all of the documents, text chunks, and captures in MongoDB\n",
    "    print(\"update: Step 3 - Parsing and Text Indexing Files\")\n",
    "    library.add_files(input_folder_path=os.path.join(sample_files_path, \"UN-Resolutions-500\"))\n",
    "\n",
    "    # Step 4 - Install the embeddings\n",
    "    print(\"\\nupdate: Step 4 - Generating Embeddings in {} db - with Model- {}\".format(vector_db, embedding_model))\n",
    "    library.install_new_embedding(embedding_model_name=embedding_model, vector_db=vector_db)\n",
    "\n",
    "    # note: for using llmware as part of a larger application, you can check the real-time status by polling Status()\n",
    "    #   --both the EmbeddingHandler and Parsers write to Status() at intervals while processing\n",
    "    update = Status().get_embedding_status(library_name, embedding_model)\n",
    "    print(\"update: Embeddings Complete - Status() check at end of embedding - \", update)\n",
    "\n",
    "    # Step 5 - start using the new vector embeddings with Query\n",
    "    sample_query = \"sustainability issues impacting women\"\n",
    "    print(\"\\n\\nupdate: Step 5 - Query: {}\".format(sample_query))\n",
    "    query_results = Query(library).semantic_query(sample_query, result_count=20)\n",
    "    for i, entries in enumerate(query_results):\n",
    "\n",
    "        # each query result is a dictionary with many useful keys\n",
    "        text = entries[\"text\"]\n",
    "        document_source = entries[\"file_source\"]\n",
    "        page_num = entries[\"page_num\"]\n",
    "        vector_distance = entries[\"distance\"]\n",
    "\n",
    "        #  for display purposes only, we will only show the first 100 characters of the text\n",
    "        if len(text) > 125:  text = text[0:125] + \" ... \"\n",
    "        print(\"\\nupdate: query results - {} - document - {} - page num - {} - distance - {} \"\n",
    "              .format( i, document_source, page_num, vector_distance))\n",
    "        print(\"update: text sample - \", text)"
   ]
  },
  {
   "cell_type": "code",
   "execution_count": 5,
   "metadata": {
    "tags": []
   },
   "outputs": [
    {
     "name": "stdout",
     "output_type": "stream",
     "text": [
      "\n",
      "update: Step 1 - Creating library: testingS3Pdf\n",
      "update: Step 2 - Downloading Sample Files\n",
      "update: Step 3 - Parsing and Text Indexing Files\n"
     ]
    },
    {
     "name": "stderr",
     "output_type": "stream",
     "text": [
      "C:\\Users\\hsyyu\\AppData\\Roaming\\Python\\Python311\\site-packages\\pymongo\\collection.py:1685: UserWarning: use an explicit session with no_cursor_timeout=True otherwise the cursor may still timeout after 30 minutes, for more info see https://mongodb.com/docs/v4.4/reference/method/cursor.noCursorTimeout/#session-idle-timeout-overrides-nocursortimeout\n",
      "  return Cursor(self, *args, **kwargs)\n"
     ]
    },
    {
     "name": "stdout",
     "output_type": "stream",
     "text": [
      "\n",
      "update: Step 4 - Generating Embeddings in milvus db - with Model- mini-lm-sbert\n"
     ]
    },
    {
     "name": "stderr",
     "output_type": "stream",
     "text": [
      "C:\\Users\\hsyyu\\AppData\\Roaming\\Python\\Python311\\site-packages\\huggingface_hub\\file_download.py:1132: FutureWarning: `resume_download` is deprecated and will be removed in version 1.0.0. Downloads always resume when possible. If you want to force a new download, use `force_download=True`.\n",
      "  warnings.warn(\n",
      "C:\\Users\\hsyyu\\AppData\\Roaming\\Python\\Python311\\site-packages\\huggingface_hub\\file_download.py:1132: FutureWarning: `resume_download` is deprecated and will be removed in version 1.0.0. Downloads always resume when possible. If you want to force a new download, use `force_download=True`.\n",
      "  warnings.warn(\n"
     ]
    },
    {
     "ename": "DependencyNotInstalledException",
     "evalue": "'pip3 install pymilvus' needs to be installed to use this function.",
     "output_type": "error",
     "traceback": [
      "\u001b[1;31m------------------------------------------------------------------------\u001b[0m",
      "\u001b[1;31mDependencyNotInstalledException\u001b[0m        Traceback (most recent call last)",
      "Cell \u001b[1;32mIn[5], line 5\u001b[0m\n\u001b[0;32m      1\u001b[0m \u001b[38;5;28;01mif\u001b[39;00m \u001b[38;5;18m__name__\u001b[39m \u001b[38;5;241m==\u001b[39m \u001b[38;5;124m\"\u001b[39m\u001b[38;5;124m__main__\u001b[39m\u001b[38;5;124m\"\u001b[39m:\n\u001b[0;32m      2\u001b[0m \n\u001b[0;32m      3\u001b[0m     \u001b[38;5;66;03m# pick any name for the library\u001b[39;00m\n\u001b[0;32m      4\u001b[0m     user_selected_name \u001b[38;5;241m=\u001b[39m \u001b[38;5;124m\"\u001b[39m\u001b[38;5;124mtestingS3Pdf\u001b[39m\u001b[38;5;124m\"\u001b[39m\n\u001b[1;32m----> 5\u001b[0m     \u001b[43mparse_and_generate_vector_embeddings\u001b[49m\u001b[43m(\u001b[49m\u001b[43muser_selected_name\u001b[49m\u001b[43m)\u001b[49m\n",
      "Cell \u001b[1;32mIn[3], line 23\u001b[0m, in \u001b[0;36mparse_and_generate_vector_embeddings\u001b[1;34m(library_name)\u001b[0m\n\u001b[0;32m     21\u001b[0m \u001b[38;5;66;03m# Step 4 - Install the embeddings\u001b[39;00m\n\u001b[0;32m     22\u001b[0m \u001b[38;5;28mprint\u001b[39m(\u001b[38;5;124m\"\u001b[39m\u001b[38;5;130;01m\\n\u001b[39;00m\u001b[38;5;124mupdate: Step 4 - Generating Embeddings in \u001b[39m\u001b[38;5;132;01m{}\u001b[39;00m\u001b[38;5;124m db - with Model- \u001b[39m\u001b[38;5;132;01m{}\u001b[39;00m\u001b[38;5;124m\"\u001b[39m\u001b[38;5;241m.\u001b[39mformat(vector_db, embedding_model))\n\u001b[1;32m---> 23\u001b[0m \u001b[43mlibrary\u001b[49m\u001b[38;5;241;43m.\u001b[39;49m\u001b[43minstall_new_embedding\u001b[49m\u001b[43m(\u001b[49m\u001b[43membedding_model_name\u001b[49m\u001b[38;5;241;43m=\u001b[39;49m\u001b[43membedding_model\u001b[49m\u001b[43m,\u001b[49m\u001b[43m \u001b[49m\u001b[43mvector_db\u001b[49m\u001b[38;5;241;43m=\u001b[39;49m\u001b[43mvector_db\u001b[49m\u001b[43m)\u001b[49m\n\u001b[0;32m     25\u001b[0m \u001b[38;5;66;03m# note: for using llmware as part of a larger application, you can check the real-time status by polling Status()\u001b[39;00m\n\u001b[0;32m     26\u001b[0m \u001b[38;5;66;03m#   --both the EmbeddingHandler and Parsers write to Status() at intervals while processing\u001b[39;00m\n\u001b[0;32m     27\u001b[0m update \u001b[38;5;241m=\u001b[39m Status()\u001b[38;5;241m.\u001b[39mget_embedding_status(library_name, embedding_model)\n",
      "File \u001b[1;32m~\\AppData\\Roaming\\Python\\Python311\\site-packages\\llmware\\library.py:627\u001b[0m, in \u001b[0;36mLibrary.install_new_embedding\u001b[1;34m(self, embedding_model_name, vector_db, from_hf, from_sentence_transformer, model, tokenizer, model_api_key, vector_db_api_key, batch_size, max_len, use_gpu)\u001b[0m\n\u001b[0;32m    624\u001b[0m     my_model\u001b[38;5;241m.\u001b[39mmax_len \u001b[38;5;241m=\u001b[39m max_len\n\u001b[0;32m    626\u001b[0m \u001b[38;5;66;03m# step 2 - pass loaded embedding model to EmbeddingHandler, which will route to the appropriate resource\u001b[39;00m\n\u001b[1;32m--> 627\u001b[0m embeddings \u001b[38;5;241m=\u001b[39m \u001b[43mEmbeddingHandler\u001b[49m\u001b[43m(\u001b[49m\u001b[38;5;28;43mself\u001b[39;49m\u001b[43m)\u001b[49m\u001b[38;5;241;43m.\u001b[39;49m\u001b[43mcreate_new_embedding\u001b[49m\u001b[43m(\u001b[49m\u001b[43mvector_db\u001b[49m\u001b[43m,\u001b[49m\u001b[43m \u001b[49m\u001b[43mmy_model\u001b[49m\u001b[43m,\u001b[49m\u001b[43m \u001b[49m\u001b[43mbatch_size\u001b[49m\u001b[38;5;241;43m=\u001b[39;49m\u001b[43mbatch_size\u001b[49m\u001b[43m)\u001b[49m\n\u001b[0;32m    629\u001b[0m \u001b[38;5;28;01mif\u001b[39;00m \u001b[38;5;129;01mnot\u001b[39;00m embeddings:\n\u001b[0;32m    630\u001b[0m     logging\u001b[38;5;241m.\u001b[39mwarning(\u001b[38;5;124m\"\u001b[39m\u001b[38;5;124mwarning: no embeddings created\u001b[39m\u001b[38;5;124m\"\u001b[39m)\n",
      "File \u001b[1;32m~\\AppData\\Roaming\\Python\\Python311\\site-packages\\llmware\\embeddings.py:130\u001b[0m, in \u001b[0;36mEmbeddingHandler.create_new_embedding\u001b[1;34m(self, embedding_db, model, doc_ids, batch_size)\u001b[0m\n\u001b[0;32m    126\u001b[0m \u001b[38;5;28;01mdef\u001b[39;00m \u001b[38;5;21mcreate_new_embedding\u001b[39m(\u001b[38;5;28mself\u001b[39m, embedding_db, model, doc_ids\u001b[38;5;241m=\u001b[39m\u001b[38;5;28;01mNone\u001b[39;00m, batch_size\u001b[38;5;241m=\u001b[39m\u001b[38;5;241m500\u001b[39m):\n\u001b[0;32m    128\u001b[0m \u001b[38;5;250m    \u001b[39m\u001b[38;5;124;03m\"\"\" Creates new embedding - routes to correct vector db and loads the model and text collection \"\"\"\u001b[39;00m\n\u001b[1;32m--> 130\u001b[0m     embedding_class \u001b[38;5;241m=\u001b[39m \u001b[38;5;28;43mself\u001b[39;49m\u001b[38;5;241;43m.\u001b[39;49m\u001b[43m_load_embedding_db\u001b[49m\u001b[43m(\u001b[49m\u001b[43membedding_db\u001b[49m\u001b[43m,\u001b[49m\u001b[43m \u001b[49m\u001b[43mmodel\u001b[49m\u001b[38;5;241;43m=\u001b[39;49m\u001b[43mmodel\u001b[49m\u001b[43m)\u001b[49m\n\u001b[0;32m    131\u001b[0m     embedding_status \u001b[38;5;241m=\u001b[39m embedding_class\u001b[38;5;241m.\u001b[39mcreate_new_embedding(doc_ids, batch_size)\n\u001b[0;32m    133\u001b[0m     \u001b[38;5;28;01mif\u001b[39;00m embedding_status:\n",
      "File \u001b[1;32m~\\AppData\\Roaming\\Python\\Python311\\site-packages\\llmware\\embeddings.py:185\u001b[0m, in \u001b[0;36mEmbeddingHandler._load_embedding_db\u001b[1;34m(self, embedding_db, model, model_name, embedding_dims)\u001b[0m\n\u001b[0;32m    182\u001b[0m     \u001b[38;5;28;01mraise\u001b[39;00m UnsupportedEmbeddingDatabaseException(embedding_db)\n\u001b[0;32m    184\u001b[0m \u001b[38;5;28;01mif\u001b[39;00m embedding_db \u001b[38;5;241m==\u001b[39m \u001b[38;5;124m\"\u001b[39m\u001b[38;5;124mmilvus\u001b[39m\u001b[38;5;124m\"\u001b[39m: \n\u001b[1;32m--> 185\u001b[0m     \u001b[38;5;28;01mreturn\u001b[39;00m \u001b[43mEmbeddingMilvus\u001b[49m\u001b[43m(\u001b[49m\u001b[38;5;28;43mself\u001b[39;49m\u001b[38;5;241;43m.\u001b[39;49m\u001b[43mlibrary\u001b[49m\u001b[43m,\u001b[49m\u001b[43m \u001b[49m\u001b[43mmodel\u001b[49m\u001b[38;5;241;43m=\u001b[39;49m\u001b[43mmodel\u001b[49m\u001b[43m,\u001b[49m\u001b[43m \u001b[49m\u001b[43mmodel_name\u001b[49m\u001b[38;5;241;43m=\u001b[39;49m\u001b[43mmodel_name\u001b[49m\u001b[43m,\u001b[49m\n\u001b[0;32m    186\u001b[0m \u001b[43m                           \u001b[49m\u001b[43membedding_dims\u001b[49m\u001b[38;5;241;43m=\u001b[39;49m\u001b[43membedding_dims\u001b[49m\u001b[43m)\u001b[49m\n\u001b[0;32m    188\u001b[0m \u001b[38;5;28;01mif\u001b[39;00m embedding_db \u001b[38;5;241m==\u001b[39m \u001b[38;5;124m\"\u001b[39m\u001b[38;5;124mfaiss\u001b[39m\u001b[38;5;124m\"\u001b[39m: \n\u001b[0;32m    189\u001b[0m     \u001b[38;5;28;01mreturn\u001b[39;00m EmbeddingFAISS(\u001b[38;5;28mself\u001b[39m\u001b[38;5;241m.\u001b[39mlibrary, model\u001b[38;5;241m=\u001b[39mmodel, model_name\u001b[38;5;241m=\u001b[39mmodel_name,\n\u001b[0;32m    190\u001b[0m                           embedding_dims\u001b[38;5;241m=\u001b[39membedding_dims)\n",
      "File \u001b[1;32m~\\AppData\\Roaming\\Python\\Python311\\site-packages\\llmware\\embeddings.py:429\u001b[0m, in \u001b[0;36mEmbeddingMilvus.__init__\u001b[1;34m(self, library, model, model_name, embedding_dims)\u001b[0m\n\u001b[0;32m    426\u001b[0m \u001b[38;5;66;03m# Connect to milvus\u001b[39;00m\n\u001b[0;32m    427\u001b[0m \u001b[38;5;66;03m# Instantiate client.\u001b[39;00m\n\u001b[0;32m    428\u001b[0m \u001b[38;5;28;01mif\u001b[39;00m \u001b[38;5;129;01mnot\u001b[39;00m util\u001b[38;5;241m.\u001b[39mfind_spec(\u001b[38;5;124m\"\u001b[39m\u001b[38;5;124mpymilvus\u001b[39m\u001b[38;5;124m\"\u001b[39m):\n\u001b[1;32m--> 429\u001b[0m     \u001b[38;5;28;01mraise\u001b[39;00m DependencyNotInstalledException(\u001b[38;5;124m\"\u001b[39m\u001b[38;5;124mpip3 install pymilvus\u001b[39m\u001b[38;5;124m\"\u001b[39m)\n\u001b[0;32m    431\u001b[0m connections\u001b[38;5;241m.\u001b[39mconnect(\u001b[38;5;28mself\u001b[39m\u001b[38;5;241m.\u001b[39mmilvus_alias,\n\u001b[0;32m    432\u001b[0m                     host\u001b[38;5;241m=\u001b[39mMilvusConfig\u001b[38;5;241m.\u001b[39mget_config(\u001b[38;5;124m\"\u001b[39m\u001b[38;5;124mhost\u001b[39m\u001b[38;5;124m\"\u001b[39m),\n\u001b[0;32m    433\u001b[0m                     port\u001b[38;5;241m=\u001b[39mMilvusConfig\u001b[38;5;241m.\u001b[39mget_config(\u001b[38;5;124m\"\u001b[39m\u001b[38;5;124mport\u001b[39m\u001b[38;5;124m\"\u001b[39m),\n\u001b[0;32m    434\u001b[0m                     db_name\u001b[38;5;241m=\u001b[39mMilvusConfig\u001b[38;5;241m.\u001b[39mget_config(\u001b[38;5;124m\"\u001b[39m\u001b[38;5;124mdb_name\u001b[39m\u001b[38;5;124m\"\u001b[39m))\n\u001b[0;32m    436\u001b[0m \u001b[38;5;66;03m# look up model card\u001b[39;00m\n",
      "\u001b[1;31mDependencyNotInstalledException\u001b[0m: 'pip3 install pymilvus' needs to be installed to use this function."
     ]
    }
   ],
   "source": [
    "if __name__ == \"__main__\":\n",
    "\n",
    "    # pick any name for the library\n",
    "    user_selected_name = \"testingS3Pdf\"\n",
    "    parse_and_generate_vector_embeddings(user_selected_name)"
   ]
  }
 ],
 "metadata": {
  "kernelspec": {
   "display_name": "Python 3 (ipykernel)",
   "language": "python",
   "name": "python3"
  },
  "language_info": {
   "codemirror_mode": {
    "name": "ipython",
    "version": 3
   },
   "file_extension": ".py",
   "mimetype": "text/x-python",
   "name": "python",
   "nbconvert_exporter": "python",
   "pygments_lexer": "ipython3",
   "version": "3.11.9"
  }
 },
 "nbformat": 4,
 "nbformat_minor": 4
}
